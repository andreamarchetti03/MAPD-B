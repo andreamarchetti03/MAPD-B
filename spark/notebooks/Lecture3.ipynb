{
 "cells": [
  {
   "cell_type": "markdown",
   "id": "bb40c3f9",
   "metadata": {},
   "source": [
    "# Lecture 3: Spark Streaming\n",
    "\n",
    "_Spark Streaming_ is an extension of the Spark API that enables scalabe stream processing.\n",
    "\n",
    "The continous stream of input data can be ingested from many data sources such as **Kafka**, **Amazon s3** or **TCP sockets**. \n",
    "\n",
    "The Spark API allows to process data via high-level functions such as *map* and *reduce*. As we are going to see, it is also possible to use dataframe operations. \n",
    "\n",
    "Processed data can be exported to an external database and used to make live dashboards or offline analyses, or stored in files, or be used in a further stage of a Kafka pipeline. \n",
    "\n",
    "Overall, the practice of reading data from a set of sources, pre-process it, and then store it in a different format for later analysis is extremely common, and has its own name: **realtime ETL pipelines**.\n",
    "- **E**xtract\n",
    "- **T**transform\n",
    "- **L**oad"
   ]
  },
  {
   "cell_type": "markdown",
   "id": "64c9d87b",
   "metadata": {},
   "source": [
    "Spark streaming works by dividing the input data into _micro-batches_ that can be treated as static datasets. In Spark this is referred to as a *discretized stream* (*DStream*). The DStream is represented using RDDs.\n",
    "\n",
    "![DStream](imgs/lecture3/DStream.png)\n",
    "\n",
    "Any transformation applied on the DStream, i.e. anything like a `Dstream.map()`, will act independently on each batch. For example, in the image below, we can filter the original RDD to remove some data and produce a new stream. \n",
    "\n",
    "![DStream_filter](imgs/lecture3/Dstream_filter.png)\n",
    "\n",
    "In this lecture we will see how to setup a simple stream using a TCP socket as a data source."
   ]
  },
  {
   "cell_type": "markdown",
   "id": "14513840",
   "metadata": {},
   "source": [
    "## Create and Start a Spark Session"
   ]
  },
  {
   "cell_type": "code",
   "execution_count": 1,
   "id": "86d10fc5",
   "metadata": {},
   "outputs": [
    {
     "name": "stderr",
     "output_type": "stream",
     "text": [
      "Setting default log level to \"WARN\".\n",
      "To adjust logging level use sc.setLogLevel(newLevel). For SparkR, use setLogLevel(newLevel).\n"
     ]
    },
    {
     "name": "stdout",
     "output_type": "stream",
     "text": [
      "23/05/10 07:43:27 WARN NativeCodeLoader: Unable to load native-hadoop library for your platform... using builtin-java classes where applicable\n"
     ]
    }
   ],
   "source": [
    "# import the python libraries to create/connect to a Spark Session\n",
    "from pyspark.sql import SparkSession\n",
    "\n",
    "# build a SparkSession \n",
    "#   connect to the master node on the port where the master node is listening (7077)\n",
    "#   declare the app name \n",
    "#   configure the executor memory to 512 MB\n",
    "#   either *connect* or *create* a new Spark Context\n",
    "spark = SparkSession.builder \\\n",
    "    .master(\"spark://spark-master:7077\")\\\n",
    "    .appName(\"My streaming spark application\")\\\n",
    "    .config(\"spark.executor.memory\", \"512m\")\\\n",
    "    .config(\"spark.sql.execution.arrow.pyspark.enabled\", \"true\")\\\n",
    "    .config(\"spark.sql.execution.arrow.pyspark.fallback.enabled\", \"false\")\\\n",
    "    .getOrCreate()"
   ]
  },
  {
   "cell_type": "code",
   "execution_count": null,
   "id": "e155269b",
   "metadata": {},
   "outputs": [],
   "source": [
    "spark"
   ]
  },
  {
   "cell_type": "code",
   "execution_count": 2,
   "id": "323d6601",
   "metadata": {},
   "outputs": [
    {
     "data": {
      "text/html": [
       "\n",
       "        <div>\n",
       "            <p><b>SparkContext</b></p>\n",
       "\n",
       "            <p><a href=\"http://4e738071617a:4040\">Spark UI</a></p>\n",
       "\n",
       "            <dl>\n",
       "              <dt>Version</dt>\n",
       "                <dd><code>v3.3.2</code></dd>\n",
       "              <dt>Master</dt>\n",
       "                <dd><code>spark://spark-master:7077</code></dd>\n",
       "              <dt>AppName</dt>\n",
       "                <dd><code>My streaming spark application</code></dd>\n",
       "            </dl>\n",
       "        </div>\n",
       "        "
      ],
      "text/plain": [
       "<SparkContext master=spark://spark-master:7077 appName=My streaming spark application>"
      ]
     },
     "execution_count": 2,
     "metadata": {},
     "output_type": "execute_result"
    }
   ],
   "source": [
    "# create a spark context\n",
    "sc = spark.sparkContext\n",
    "\n",
    "# print its status\n",
    "sc"
   ]
  },
  {
   "cell_type": "markdown",
   "id": "7b253c26",
   "metadata": {},
   "source": [
    "## Spark _Streaming_ context\n",
    "\n",
    "The first step of a Spark streaming application is the creation of a `StreamingContext`. \n",
    "\n",
    "The `StreamingContext` is a crucial component in Spark Streaming. It's responsible for initializing the Spark Streaming application and specifying how to handle micro-batches of data. \n",
    "\n",
    "The `StreamingContext` is a similar concept to the `sparkContext` but it requires to be initialized with some additional information to know how to handle the micro-batches.\n",
    "\n",
    "To create a `StreamingContext`, you can use the `StreamingContext(SparkContext, batch_interval)` constructor. The `SparkContext` object provides the necessary environment for Spark Streaming, while the `batch_interval` parameter determines the (wall-time) duration of each batch in seconds.\n",
    "\n",
    "It's important to note that you can only have at most **one** `StreamingContext` for each Spark application. Attempting to create multiple `StreamingContext` objects in a single application will result in errors."
   ]
  },
  {
   "cell_type": "markdown",
   "id": "62435f31",
   "metadata": {},
   "source": [
    "Create a Spark `StreamingContext` with a batch interval of 2 seconds"
   ]
  },
  {
   "cell_type": "code",
   "execution_count": 3,
   "id": "256cf2be",
   "metadata": {},
   "outputs": [],
   "source": [
    "from pyspark.streaming import StreamingContext\n",
    "\n",
    "# create a streaming context with a batch interval of 2 seconds\n",
    "ssc = StreamingContext(sc, 2) "
   ]
  },
  {
   "cell_type": "markdown",
   "id": "530aaeae",
   "metadata": {},
   "source": [
    "### Starting and Stopping Spark Streaming\n",
    "\n",
    "To process data in real-time using Spark, we need to create a `StreamingContext`, define the operations to perform on the data, and specify the data source and sink to connect to.\n",
    "\n",
    "Once the streaming operations are defined, we can start processing the stream by calling the `.start()` method of the `StreamingContext` object (`ssc` in our case). Similarly, we can stop the streaming processing by calling the `.stop()` method.\n",
    "\n",
    "**NOTE:** It's important to note that when we stop the `StreamingContext`, the default behavior is to also stop the `SparkContext`. This means that the entire Spark application will be closed by default. To prevent this, we can pass the `stopSparkContext=False` option when stopping the `StreamingContext`."
   ]
  },
  {
   "cell_type": "markdown",
   "id": "922cfde8",
   "metadata": {},
   "source": [
    "### TCP Socket Source\n",
    "\n",
    "For this example spark will read data from a TCP socket using Spark Streaming.\n",
    "\n",
    "A TCP socket is a communication endpoint used to establish a connection between two devices over a network.\n",
    "You can think of it as a telephone connection: two endpoints have to enstablish a connection; once the connection is enstablished, a communication can occur, with a data transfer; as soon as one of the two ends interrupts the connection the whole communcation is lost. \n",
    "\n",
    "We will generate a dummy data stream representing fake credit card transactions.\n",
    "\n",
    "A simple python program will be used to create this data stream.\n",
    "You will be able to find it in `utils/producer.py`. \n",
    "When executed, the producer will try to enstablish a TCP connection and send data on port `5555` of a given `host` (`spark-master` in our case). \n",
    "\n",
    "Before executing the producer program, take a moment to review the `producer.py` code to understand how it works. It's important to understand the logic of the program before using it to generate the streaming data."
   ]
  },
  {
   "cell_type": "code",
   "execution_count": 4,
   "id": "ab8d890a",
   "metadata": {},
   "outputs": [
    {
     "name": "stdout",
     "output_type": "stream",
     "text": [
      "import socket\r",
      "\r\n",
      "import json\r",
      "\r\n",
      "import time\r",
      "\r\n",
      "import random\r",
      "\r\n",
      "import argparse\r",
      "\r\n",
      "\r",
      "\r\n",
      "# Define some lists of first and last names to use for generating random messages\r",
      "\r\n",
      "first_names=('John','Andy','Joe','Alice','Jill')\r",
      "\r\n",
      "last_names=('Johnson','Smith','Jones', 'Millers','Darby')\r",
      "\r\n",
      "\r",
      "\r\n",
      "# Define a function for sending messages over the socket\r",
      "\r\n",
      "def send_messages(client_socket):\r",
      "\r\n",
      "    try:\r",
      "\r\n",
      "        while 1:\r",
      "\r\n",
      "            # Generate a random message with a random name, surname, amount, delta_t, and flag\r",
      "\r\n",
      "            msg = {\r",
      "\r\n",
      "                'name': random.choice(first_names),\r",
      "\r\n",
      "                'surname': random.choice(last_names),\r",
      "\r\n",
      "                'amount': '{:.2f}'.format(random.random()*1000),\r",
      "\r\n",
      "                'delta_t': '{:.2f}'.format(random.random()*10),\r",
      "\r\n",
      "                'flag': random.choices([0,1], weights=[0.8, 0.2])[0]\r",
      "\r\n",
      "            }\r",
      "\r\n",
      "            # Encode the message as JSON and send it over the socket\r",
      "\r\n",
      "            client_socket.send((json.dumps(msg)+\"\\n\").encode('utf-8'))\r",
      "\r\n",
      "            # Sleep for a short amount of time to avoid overwhelming the network\r",
      "\r\n",
      "            time.sleep(0.1)\r",
      "\r\n",
      "\r",
      "\r\n",
      "    except KeyboardInterrupt:\r",
      "\r\n",
      "        # If the user presses Ctrl+C, exit gracefully\r",
      "\r\n",
      "        exit()\r",
      "\r\n",
      "\r",
      "\r\n",
      "if __name__ == \"__main__\":\r",
      "\r\n",
      "\r",
      "\r\n",
      "    # Parse command-line arguments to determine the hostname to use\r",
      "\r\n",
      "    parser = argparse.ArgumentParser()\r",
      "\r\n",
      "    parser.add_argument('--hostname', type=str, required=True)\r",
      "\r\n",
      "    args = parser.parse_args()\r",
      "\r\n",
      "    print('Using hostname:', args.hostname)\r",
      "\r\n",
      "\r",
      "\r\n",
      "    # Create a new socket and bind it to the specified hostname and port\r",
      "\r\n",
      "    new_skt = socket.socket()\r",
      "\r\n",
      "    host = args.hostname\r",
      "\r\n",
      "    port = 5555 \r",
      "\r\n",
      "    new_skt.bind((host, port))\r",
      "\r\n",
      "    print(\"Now listening on port: %s\" % str(port))\r",
      "\r\n",
      "\r",
      "\r\n",
      "    # Wait for a client to connect to the socket\r",
      "\r\n",
      "    new_skt.listen(5) #  waiting for client connection.\r",
      "\r\n",
      "    c, addr = new_skt.accept()\r",
      "\r\n",
      "    print(\"Received request from: \" + str(addr))\r",
      "\r\n",
      "    # connection established, send messaged\r",
      "\r\n",
      "    send_messages(c)\r",
      "\r\n"
     ]
    }
   ],
   "source": [
    "! cat utils/producer.py"
   ]
  },
  {
   "cell_type": "markdown",
   "id": "478a375f",
   "metadata": {},
   "source": [
    "The producer will generate new records in the form of a random combination of:\n",
    "- `name`\n",
    "- `surname`\n",
    "- `amount`: amount of the credit card transaction\n",
    "- `delta_t`: time between transactions\n",
    "- `flag`: random flag to indicate if potentially fraudolent or not\n",
    "\n",
    "These information will be formatted into a `.json` data format"
   ]
  },
  {
   "cell_type": "markdown",
   "id": "3d127aa0",
   "metadata": {},
   "source": [
    "### Declaring the `StreamingContext` data source as a TCP socket\n",
    "\n",
    "To inform Spark that the StreamingContext data source will be a TCP socket located at a specific `hostname` and `port`, we can use the `socketTextStream(hostname, port)` method.\n",
    "\n",
    "Refer to the [StreamingContext documentation](https://spark.apache.org/docs/latest/api/python/reference/api/pyspark.streaming.StreamingContext.html) for additional available options.\n"
   ]
  },
  {
   "cell_type": "code",
   "execution_count": 5,
   "id": "4b95ad16",
   "metadata": {},
   "outputs": [],
   "source": [
    "# the hostname and port number\n",
    "hostname = \"spark-master\"\n",
    "portnumber = 5555\n",
    "\n",
    "# declare the Spark Streaming source as TCP socket \n",
    "socket_stream = ssc.socketTextStream(hostname, portnumber)"
   ]
  },
  {
   "cell_type": "markdown",
   "id": "92ad88b4",
   "metadata": {},
   "source": [
    "### Start the python producer.py script\n",
    "\n",
    "From a terminal/WSL, connect to the `spark-master` Docker container using the command\n",
    "```bash\n",
    "docker exec -it spark-master bash\n",
    "``` \n",
    "\n",
    "From inside the docker container, move to the `/mapd-workspace` folder and execute the python script with the option `--hostname spark-master`:\n",
    "\n",
    "```bash\n",
    "python notebooks/utils/producer.py --hostname spark-master\n",
    "```"
   ]
  },
  {
   "cell_type": "markdown",
   "id": "163466ca",
   "metadata": {},
   "source": [
    "## Exploring the data stream\n",
    "\n",
    "The first thing we need to to is load the data describing each transaction, formatted as `json`."
   ]
  },
  {
   "cell_type": "code",
   "execution_count": 9,
   "id": "a3e7ab07",
   "metadata": {},
   "outputs": [
    {
     "name": "stderr",
     "output_type": "stream",
     "text": [
      "\r",
      "                                                                                \r"
     ]
    },
    {
     "name": "stdout",
     "output_type": "stream",
     "text": [
      "-------------------------------------------\n",
      "Time: 2023-05-10 07:48:30\n",
      "-------------------------------------------\n",
      "{'name': 'John', 'surname': 'Johnson', 'amount': '836.46', 'delta_t': '4.13', 'flag': 0}\n",
      "{'name': 'Jill', 'surname': 'Darby', 'amount': '664.54', 'delta_t': '7.28', 'flag': 0}\n",
      "{'name': 'Andy', 'surname': 'Smith', 'amount': '554.90', 'delta_t': '5.87', 'flag': 1}\n",
      "{'name': 'Alice', 'surname': 'Millers', 'amount': '121.85', 'delta_t': '4.26', 'flag': 0}\n",
      "{'name': 'Alice', 'surname': 'Millers', 'amount': '976.95', 'delta_t': '9.79', 'flag': 0}\n",
      "{'name': 'Alice', 'surname': 'Millers', 'amount': '505.05', 'delta_t': '8.97', 'flag': 0}\n",
      "{'name': 'John', 'surname': 'Darby', 'amount': '845.74', 'delta_t': '0.22', 'flag': 0}\n",
      "{'name': 'Andy', 'surname': 'Jones', 'amount': '4.21', 'delta_t': '9.83', 'flag': 0}\n",
      "{'name': 'Joe', 'surname': 'Jones', 'amount': '807.85', 'delta_t': '8.93', 'flag': 1}\n",
      "{'name': 'Joe', 'surname': 'Darby', 'amount': '347.08', 'delta_t': '0.43', 'flag': 0}\n",
      "...\n",
      "\n"
     ]
    },
    {
     "name": "stderr",
     "output_type": "stream",
     "text": [
      "                                                                                \r"
     ]
    },
    {
     "name": "stdout",
     "output_type": "stream",
     "text": [
      "-------------------------------------------\n",
      "Time: 2023-05-10 07:48:32\n",
      "-------------------------------------------\n",
      "{'name': 'Jill', 'surname': 'Millers', 'amount': '716.89', 'delta_t': '3.88', 'flag': 0}\n",
      "{'name': 'John', 'surname': 'Darby', 'amount': '161.34', 'delta_t': '5.14', 'flag': 1}\n",
      "{'name': 'Alice', 'surname': 'Jones', 'amount': '434.61', 'delta_t': '0.92', 'flag': 0}\n",
      "{'name': 'Joe', 'surname': 'Johnson', 'amount': '241.70', 'delta_t': '6.62', 'flag': 0}\n",
      "{'name': 'Jill', 'surname': 'Jones', 'amount': '445.44', 'delta_t': '9.12', 'flag': 0}\n",
      "{'name': 'Alice', 'surname': 'Jones', 'amount': '72.15', 'delta_t': '5.20', 'flag': 1}\n",
      "{'name': 'Alice', 'surname': 'Johnson', 'amount': '18.79', 'delta_t': '2.27', 'flag': 0}\n",
      "{'name': 'Alice', 'surname': 'Smith', 'amount': '300.55', 'delta_t': '6.05', 'flag': 0}\n",
      "{'name': 'Jill', 'surname': 'Smith', 'amount': '309.21', 'delta_t': '2.72', 'flag': 1}\n",
      "{'name': 'Joe', 'surname': 'Smith', 'amount': '853.51', 'delta_t': '5.25', 'flag': 0}\n",
      "...\n",
      "\n"
     ]
    },
    {
     "name": "stderr",
     "output_type": "stream",
     "text": [
      "                                                                                \r"
     ]
    },
    {
     "name": "stdout",
     "output_type": "stream",
     "text": [
      "-------------------------------------------\n",
      "Time: 2023-05-10 07:48:34\n",
      "-------------------------------------------\n",
      "{'name': 'Andy', 'surname': 'Millers', 'amount': '681.72', 'delta_t': '0.74', 'flag': 1}\n",
      "{'name': 'Andy', 'surname': 'Smith', 'amount': '191.08', 'delta_t': '5.22', 'flag': 0}\n",
      "{'name': 'John', 'surname': 'Darby', 'amount': '294.89', 'delta_t': '2.51', 'flag': 0}\n",
      "{'name': 'John', 'surname': 'Jones', 'amount': '377.84', 'delta_t': '8.36', 'flag': 0}\n",
      "{'name': 'John', 'surname': 'Millers', 'amount': '574.99', 'delta_t': '3.51', 'flag': 0}\n",
      "{'name': 'John', 'surname': 'Smith', 'amount': '204.37', 'delta_t': '1.54', 'flag': 1}\n",
      "{'name': 'Joe', 'surname': 'Darby', 'amount': '916.36', 'delta_t': '0.12', 'flag': 1}\n",
      "{'name': 'Joe', 'surname': 'Millers', 'amount': '331.47', 'delta_t': '3.94', 'flag': 0}\n",
      "{'name': 'Alice', 'surname': 'Johnson', 'amount': '171.59', 'delta_t': '6.58', 'flag': 0}\n",
      "{'name': 'Andy', 'surname': 'Johnson', 'amount': '149.55', 'delta_t': '7.59', 'flag': 0}\n",
      "...\n",
      "\n"
     ]
    },
    {
     "name": "stderr",
     "output_type": "stream",
     "text": [
      "                                                                                \r"
     ]
    },
    {
     "name": "stdout",
     "output_type": "stream",
     "text": [
      "-------------------------------------------\n",
      "Time: 2023-05-10 07:48:36\n",
      "-------------------------------------------\n",
      "{'name': 'Alice', 'surname': 'Johnson', 'amount': '871.71', 'delta_t': '1.95', 'flag': 0}\n",
      "{'name': 'Andy', 'surname': 'Smith', 'amount': '941.54', 'delta_t': '0.16', 'flag': 0}\n",
      "{'name': 'Andy', 'surname': 'Johnson', 'amount': '266.47', 'delta_t': '7.20', 'flag': 1}\n",
      "{'name': 'Joe', 'surname': 'Darby', 'amount': '615.34', 'delta_t': '6.58', 'flag': 0}\n",
      "{'name': 'John', 'surname': 'Millers', 'amount': '573.97', 'delta_t': '4.13', 'flag': 0}\n",
      "{'name': 'Joe', 'surname': 'Johnson', 'amount': '483.65', 'delta_t': '0.31', 'flag': 1}\n",
      "{'name': 'Jill', 'surname': 'Jones', 'amount': '95.92', 'delta_t': '7.41', 'flag': 0}\n",
      "{'name': 'Andy', 'surname': 'Smith', 'amount': '997.60', 'delta_t': '9.52', 'flag': 0}\n",
      "{'name': 'Andy', 'surname': 'Millers', 'amount': '483.50', 'delta_t': '2.87', 'flag': 1}\n",
      "{'name': 'Joe', 'surname': 'Jones', 'amount': '66.43', 'delta_t': '0.73', 'flag': 0}\n",
      "...\n",
      "\n"
     ]
    },
    {
     "name": "stderr",
     "output_type": "stream",
     "text": [
      "                                                                                \r"
     ]
    },
    {
     "name": "stdout",
     "output_type": "stream",
     "text": [
      "-------------------------------------------\n",
      "Time: 2023-05-10 07:48:38\n",
      "-------------------------------------------\n",
      "{'name': 'Alice', 'surname': 'Johnson', 'amount': '356.42', 'delta_t': '8.28', 'flag': 1}\n",
      "{'name': 'John', 'surname': 'Millers', 'amount': '61.48', 'delta_t': '9.53', 'flag': 0}\n",
      "{'name': 'Jill', 'surname': 'Smith', 'amount': '846.88', 'delta_t': '2.86', 'flag': 0}\n",
      "{'name': 'Alice', 'surname': 'Millers', 'amount': '519.23', 'delta_t': '4.08', 'flag': 0}\n",
      "{'name': 'Alice', 'surname': 'Darby', 'amount': '235.67', 'delta_t': '3.09', 'flag': 0}\n",
      "{'name': 'John', 'surname': 'Johnson', 'amount': '290.30', 'delta_t': '4.85', 'flag': 0}\n",
      "{'name': 'Alice', 'surname': 'Millers', 'amount': '245.44', 'delta_t': '0.41', 'flag': 0}\n",
      "{'name': 'John', 'surname': 'Jones', 'amount': '444.40', 'delta_t': '0.68', 'flag': 0}\n",
      "{'name': 'Alice', 'surname': 'Millers', 'amount': '696.49', 'delta_t': '3.99', 'flag': 0}\n",
      "{'name': 'Alice', 'surname': 'Millers', 'amount': '670.86', 'delta_t': '6.12', 'flag': 1}\n",
      "...\n",
      "\n"
     ]
    },
    {
     "name": "stderr",
     "output_type": "stream",
     "text": [
      "                                                                                \r"
     ]
    },
    {
     "name": "stdout",
     "output_type": "stream",
     "text": [
      "-------------------------------------------\n",
      "Time: 2023-05-10 07:48:40\n",
      "-------------------------------------------\n",
      "{'name': 'Andy', 'surname': 'Johnson', 'amount': '144.12', 'delta_t': '8.03', 'flag': 0}\n",
      "{'name': 'Joe', 'surname': 'Johnson', 'amount': '245.58', 'delta_t': '7.60', 'flag': 0}\n",
      "{'name': 'Jill', 'surname': 'Darby', 'amount': '949.33', 'delta_t': '6.27', 'flag': 0}\n",
      "{'name': 'Joe', 'surname': 'Johnson', 'amount': '216.17', 'delta_t': '1.61', 'flag': 0}\n",
      "{'name': 'Andy', 'surname': 'Darby', 'amount': '855.95', 'delta_t': '5.96', 'flag': 0}\n",
      "{'name': 'Alice', 'surname': 'Darby', 'amount': '640.09', 'delta_t': '3.76', 'flag': 0}\n",
      "{'name': 'Joe', 'surname': 'Jones', 'amount': '849.32', 'delta_t': '6.25', 'flag': 0}\n",
      "{'name': 'Joe', 'surname': 'Johnson', 'amount': '794.18', 'delta_t': '5.93', 'flag': 0}\n",
      "{'name': 'Alice', 'surname': 'Johnson', 'amount': '501.81', 'delta_t': '3.19', 'flag': 1}\n",
      "{'name': 'Joe', 'surname': 'Millers', 'amount': '765.73', 'delta_t': '7.57', 'flag': 0}\n",
      "...\n",
      "\n"
     ]
    },
    {
     "name": "stderr",
     "output_type": "stream",
     "text": [
      "                                                                                \r"
     ]
    },
    {
     "name": "stdout",
     "output_type": "stream",
     "text": [
      "-------------------------------------------\n",
      "Time: 2023-05-10 07:48:42\n",
      "-------------------------------------------\n",
      "{'name': 'Joe', 'surname': 'Darby', 'amount': '190.31', 'delta_t': '8.68', 'flag': 0}\n",
      "{'name': 'John', 'surname': 'Johnson', 'amount': '537.69', 'delta_t': '0.96', 'flag': 0}\n",
      "{'name': 'John', 'surname': 'Millers', 'amount': '808.29', 'delta_t': '1.07', 'flag': 0}\n",
      "{'name': 'Alice', 'surname': 'Millers', 'amount': '690.35', 'delta_t': '7.29', 'flag': 0}\n",
      "{'name': 'Alice', 'surname': 'Millers', 'amount': '109.25', 'delta_t': '6.92', 'flag': 1}\n",
      "{'name': 'Alice', 'surname': 'Johnson', 'amount': '135.56', 'delta_t': '0.04', 'flag': 0}\n",
      "{'name': 'Jill', 'surname': 'Smith', 'amount': '339.42', 'delta_t': '9.33', 'flag': 0}\n",
      "{'name': 'Jill', 'surname': 'Millers', 'amount': '806.51', 'delta_t': '5.56', 'flag': 0}\n",
      "{'name': 'Jill', 'surname': 'Smith', 'amount': '870.92', 'delta_t': '8.35', 'flag': 0}\n",
      "{'name': 'Joe', 'surname': 'Millers', 'amount': '230.50', 'delta_t': '1.51', 'flag': 0}\n",
      "...\n",
      "\n"
     ]
    },
    {
     "name": "stderr",
     "output_type": "stream",
     "text": [
      "                                                                                \r"
     ]
    },
    {
     "name": "stdout",
     "output_type": "stream",
     "text": [
      "-------------------------------------------\n",
      "Time: 2023-05-10 07:48:44\n",
      "-------------------------------------------\n",
      "{'name': 'Andy', 'surname': 'Johnson', 'amount': '876.90', 'delta_t': '3.95', 'flag': 0}\n",
      "{'name': 'Andy', 'surname': 'Darby', 'amount': '428.34', 'delta_t': '5.42', 'flag': 0}\n",
      "{'name': 'Andy', 'surname': 'Jones', 'amount': '841.04', 'delta_t': '3.22', 'flag': 1}\n",
      "{'name': 'Joe', 'surname': 'Millers', 'amount': '442.26', 'delta_t': '5.35', 'flag': 1}\n",
      "{'name': 'Alice', 'surname': 'Millers', 'amount': '636.88', 'delta_t': '6.79', 'flag': 0}\n",
      "{'name': 'Andy', 'surname': 'Darby', 'amount': '45.99', 'delta_t': '8.87', 'flag': 0}\n",
      "{'name': 'John', 'surname': 'Darby', 'amount': '419.27', 'delta_t': '2.30', 'flag': 1}\n",
      "{'name': 'John', 'surname': 'Smith', 'amount': '87.42', 'delta_t': '6.69', 'flag': 1}\n",
      "{'name': 'Joe', 'surname': 'Johnson', 'amount': '802.60', 'delta_t': '2.87', 'flag': 0}\n",
      "{'name': 'Andy', 'surname': 'Johnson', 'amount': '496.53', 'delta_t': '4.47', 'flag': 1}\n",
      "...\n",
      "\n"
     ]
    },
    {
     "name": "stderr",
     "output_type": "stream",
     "text": [
      "                                                                                \r"
     ]
    },
    {
     "name": "stdout",
     "output_type": "stream",
     "text": [
      "-------------------------------------------\n",
      "Time: 2023-05-10 07:48:46\n",
      "-------------------------------------------\n",
      "{'name': 'Jill', 'surname': 'Millers', 'amount': '548.32', 'delta_t': '3.32', 'flag': 0}\n",
      "{'name': 'Jill', 'surname': 'Jones', 'amount': '702.87', 'delta_t': '3.72', 'flag': 0}\n",
      "{'name': 'Alice', 'surname': 'Johnson', 'amount': '285.93', 'delta_t': '3.79', 'flag': 0}\n",
      "{'name': 'Joe', 'surname': 'Jones', 'amount': '398.29', 'delta_t': '0.12', 'flag': 0}\n",
      "{'name': 'Andy', 'surname': 'Millers', 'amount': '372.31', 'delta_t': '2.60', 'flag': 0}\n",
      "{'name': 'John', 'surname': 'Millers', 'amount': '459.08', 'delta_t': '6.91', 'flag': 0}\n",
      "{'name': 'Jill', 'surname': 'Smith', 'amount': '343.03', 'delta_t': '4.58', 'flag': 0}\n",
      "{'name': 'John', 'surname': 'Jones', 'amount': '453.11', 'delta_t': '5.08', 'flag': 0}\n",
      "{'name': 'John', 'surname': 'Johnson', 'amount': '608.27', 'delta_t': '8.67', 'flag': 1}\n",
      "{'name': 'Joe', 'surname': 'Jones', 'amount': '798.26', 'delta_t': '2.10', 'flag': 0}\n",
      "...\n",
      "\n"
     ]
    },
    {
     "name": "stderr",
     "output_type": "stream",
     "text": [
      "                                                                                \r"
     ]
    },
    {
     "name": "stdout",
     "output_type": "stream",
     "text": [
      "-------------------------------------------\n",
      "Time: 2023-05-10 07:48:48\n",
      "-------------------------------------------\n",
      "{'name': 'Jill', 'surname': 'Jones', 'amount': '262.17', 'delta_t': '5.10', 'flag': 0}\n",
      "{'name': 'Alice', 'surname': 'Darby', 'amount': '107.73', 'delta_t': '0.56', 'flag': 1}\n",
      "{'name': 'Andy', 'surname': 'Jones', 'amount': '233.04', 'delta_t': '0.49', 'flag': 1}\n",
      "{'name': 'Joe', 'surname': 'Jones', 'amount': '830.09', 'delta_t': '9.10', 'flag': 0}\n",
      "{'name': 'Joe', 'surname': 'Darby', 'amount': '350.81', 'delta_t': '1.80', 'flag': 0}\n",
      "{'name': 'Jill', 'surname': 'Millers', 'amount': '419.18', 'delta_t': '3.67', 'flag': 0}\n",
      "{'name': 'Andy', 'surname': 'Johnson', 'amount': '93.35', 'delta_t': '0.95', 'flag': 0}\n",
      "{'name': 'Alice', 'surname': 'Jones', 'amount': '341.01', 'delta_t': '9.00', 'flag': 0}\n",
      "{'name': 'Joe', 'surname': 'Smith', 'amount': '801.90', 'delta_t': '1.94', 'flag': 0}\n",
      "{'name': 'Joe', 'surname': 'Millers', 'amount': '979.26', 'delta_t': '0.72', 'flag': 0}\n",
      "...\n",
      "\n"
     ]
    },
    {
     "name": "stderr",
     "output_type": "stream",
     "text": [
      "                                                                                \r"
     ]
    },
    {
     "name": "stdout",
     "output_type": "stream",
     "text": [
      "-------------------------------------------\n",
      "Time: 2023-05-10 07:48:50\n",
      "-------------------------------------------\n",
      "{'name': 'Alice', 'surname': 'Darby', 'amount': '32.43', 'delta_t': '8.91', 'flag': 0}\n",
      "{'name': 'John', 'surname': 'Darby', 'amount': '717.38', 'delta_t': '0.74', 'flag': 0}\n",
      "{'name': 'Andy', 'surname': 'Darby', 'amount': '72.04', 'delta_t': '5.72', 'flag': 0}\n",
      "{'name': 'Joe', 'surname': 'Jones', 'amount': '788.27', 'delta_t': '7.75', 'flag': 1}\n",
      "{'name': 'Jill', 'surname': 'Millers', 'amount': '483.62', 'delta_t': '3.09', 'flag': 0}\n",
      "{'name': 'Jill', 'surname': 'Smith', 'amount': '734.00', 'delta_t': '0.58', 'flag': 0}\n",
      "{'name': 'Alice', 'surname': 'Jones', 'amount': '797.81', 'delta_t': '3.66', 'flag': 0}\n",
      "{'name': 'Jill', 'surname': 'Jones', 'amount': '574.13', 'delta_t': '7.66', 'flag': 1}\n",
      "{'name': 'Andy', 'surname': 'Jones', 'amount': '807.42', 'delta_t': '3.52', 'flag': 0}\n",
      "{'name': 'Jill', 'surname': 'Johnson', 'amount': '953.47', 'delta_t': '9.51', 'flag': 0}\n",
      "...\n",
      "\n"
     ]
    },
    {
     "name": "stderr",
     "output_type": "stream",
     "text": [
      "                                                                                \r"
     ]
    },
    {
     "name": "stdout",
     "output_type": "stream",
     "text": [
      "-------------------------------------------\n",
      "Time: 2023-05-10 07:48:52\n",
      "-------------------------------------------\n",
      "{'name': 'Jill', 'surname': 'Johnson', 'amount': '359.72', 'delta_t': '3.10', 'flag': 1}\n",
      "{'name': 'Andy', 'surname': 'Darby', 'amount': '75.26', 'delta_t': '0.05', 'flag': 0}\n",
      "{'name': 'John', 'surname': 'Jones', 'amount': '763.06', 'delta_t': '2.40', 'flag': 0}\n",
      "{'name': 'Andy', 'surname': 'Darby', 'amount': '297.78', 'delta_t': '0.42', 'flag': 0}\n",
      "{'name': 'Andy', 'surname': 'Darby', 'amount': '410.74', 'delta_t': '9.99', 'flag': 1}\n",
      "{'name': 'Alice', 'surname': 'Smith', 'amount': '832.26', 'delta_t': '5.00', 'flag': 0}\n",
      "{'name': 'Joe', 'surname': 'Jones', 'amount': '130.34', 'delta_t': '7.75', 'flag': 0}\n",
      "{'name': 'Jill', 'surname': 'Jones', 'amount': '273.75', 'delta_t': '8.34', 'flag': 0}\n",
      "{'name': 'Andy', 'surname': 'Darby', 'amount': '393.76', 'delta_t': '5.87', 'flag': 0}\n",
      "{'name': 'John', 'surname': 'Johnson', 'amount': '478.15', 'delta_t': '9.76', 'flag': 0}\n",
      "...\n",
      "\n"
     ]
    },
    {
     "name": "stderr",
     "output_type": "stream",
     "text": [
      "                                                                                \r"
     ]
    },
    {
     "name": "stdout",
     "output_type": "stream",
     "text": [
      "-------------------------------------------\n",
      "Time: 2023-05-10 07:48:54\n",
      "-------------------------------------------\n",
      "{'name': 'Joe', 'surname': 'Darby', 'amount': '158.94', 'delta_t': '6.15', 'flag': 0}\n",
      "{'name': 'Joe', 'surname': 'Johnson', 'amount': '514.90', 'delta_t': '4.80', 'flag': 0}\n",
      "{'name': 'Joe', 'surname': 'Smith', 'amount': '543.97', 'delta_t': '4.94', 'flag': 1}\n",
      "{'name': 'Andy', 'surname': 'Johnson', 'amount': '470.04', 'delta_t': '3.43', 'flag': 0}\n",
      "{'name': 'Joe', 'surname': 'Johnson', 'amount': '587.67', 'delta_t': '4.51', 'flag': 0}\n",
      "{'name': 'Andy', 'surname': 'Millers', 'amount': '679.98', 'delta_t': '2.12', 'flag': 0}\n",
      "{'name': 'Joe', 'surname': 'Darby', 'amount': '53.64', 'delta_t': '6.81', 'flag': 0}\n",
      "{'name': 'Alice', 'surname': 'Jones', 'amount': '811.45', 'delta_t': '6.31', 'flag': 0}\n",
      "{'name': 'John', 'surname': 'Millers', 'amount': '532.68', 'delta_t': '3.78', 'flag': 0}\n",
      "{'name': 'Alice', 'surname': 'Millers', 'amount': '908.10', 'delta_t': '5.85', 'flag': 0}\n",
      "...\n",
      "\n"
     ]
    },
    {
     "name": "stderr",
     "output_type": "stream",
     "text": [
      "                                                                                \r"
     ]
    },
    {
     "name": "stdout",
     "output_type": "stream",
     "text": [
      "-------------------------------------------\n",
      "Time: 2023-05-10 07:48:56\n",
      "-------------------------------------------\n",
      "{'name': 'Joe', 'surname': 'Millers', 'amount': '151.76', 'delta_t': '7.14', 'flag': 0}\n",
      "{'name': 'John', 'surname': 'Smith', 'amount': '408.46', 'delta_t': '8.25', 'flag': 0}\n",
      "{'name': 'Joe', 'surname': 'Smith', 'amount': '889.27', 'delta_t': '6.89', 'flag': 0}\n",
      "{'name': 'Joe', 'surname': 'Millers', 'amount': '524.47', 'delta_t': '3.08', 'flag': 1}\n",
      "{'name': 'Joe', 'surname': 'Jones', 'amount': '963.81', 'delta_t': '7.64', 'flag': 0}\n",
      "{'name': 'Joe', 'surname': 'Johnson', 'amount': '256.63', 'delta_t': '0.88', 'flag': 0}\n",
      "{'name': 'Joe', 'surname': 'Johnson', 'amount': '466.82', 'delta_t': '3.22', 'flag': 0}\n",
      "{'name': 'Joe', 'surname': 'Millers', 'amount': '775.84', 'delta_t': '2.17', 'flag': 0}\n",
      "{'name': 'Andy', 'surname': 'Darby', 'amount': '254.80', 'delta_t': '9.66', 'flag': 1}\n",
      "{'name': 'Joe', 'surname': 'Jones', 'amount': '27.83', 'delta_t': '3.70', 'flag': 1}\n",
      "...\n",
      "\n"
     ]
    },
    {
     "name": "stderr",
     "output_type": "stream",
     "text": [
      "                                                                                \r"
     ]
    },
    {
     "name": "stdout",
     "output_type": "stream",
     "text": [
      "-------------------------------------------\n",
      "Time: 2023-05-10 07:48:58\n",
      "-------------------------------------------\n",
      "{'name': 'John', 'surname': 'Smith', 'amount': '117.45', 'delta_t': '2.87', 'flag': 1}\n",
      "{'name': 'Andy', 'surname': 'Smith', 'amount': '203.40', 'delta_t': '7.25', 'flag': 1}\n",
      "{'name': 'Alice', 'surname': 'Jones', 'amount': '894.72', 'delta_t': '0.87', 'flag': 0}\n",
      "{'name': 'Jill', 'surname': 'Millers', 'amount': '357.81', 'delta_t': '5.56', 'flag': 0}\n",
      "{'name': 'Joe', 'surname': 'Millers', 'amount': '792.42', 'delta_t': '7.43', 'flag': 0}\n",
      "{'name': 'Andy', 'surname': 'Darby', 'amount': '176.22', 'delta_t': '9.17', 'flag': 0}\n",
      "{'name': 'Alice', 'surname': 'Jones', 'amount': '385.11', 'delta_t': '0.15', 'flag': 0}\n",
      "{'name': 'Alice', 'surname': 'Darby', 'amount': '263.87', 'delta_t': '0.95', 'flag': 0}\n",
      "{'name': 'Andy', 'surname': 'Millers', 'amount': '288.03', 'delta_t': '5.47', 'flag': 0}\n",
      "{'name': 'Joe', 'surname': 'Darby', 'amount': '473.99', 'delta_t': '4.07', 'flag': 0}\n",
      "...\n",
      "\n"
     ]
    },
    {
     "name": "stderr",
     "output_type": "stream",
     "text": [
      "                                                                                \r"
     ]
    },
    {
     "name": "stdout",
     "output_type": "stream",
     "text": [
      "-------------------------------------------\n",
      "Time: 2023-05-10 07:49:00\n",
      "-------------------------------------------\n",
      "{'name': 'Joe', 'surname': 'Johnson', 'amount': '58.63', 'delta_t': '7.30', 'flag': 0}\n",
      "{'name': 'Andy', 'surname': 'Millers', 'amount': '236.13', 'delta_t': '4.45', 'flag': 0}\n",
      "{'name': 'Alice', 'surname': 'Millers', 'amount': '521.90', 'delta_t': '7.24', 'flag': 0}\n",
      "{'name': 'John', 'surname': 'Jones', 'amount': '569.68', 'delta_t': '6.67', 'flag': 1}\n",
      "{'name': 'Andy', 'surname': 'Millers', 'amount': '376.04', 'delta_t': '4.68', 'flag': 1}\n",
      "{'name': 'Jill', 'surname': 'Darby', 'amount': '510.90', 'delta_t': '3.61', 'flag': 0}\n",
      "{'name': 'Joe', 'surname': 'Jones', 'amount': '624.59', 'delta_t': '6.97', 'flag': 1}\n",
      "{'name': 'Joe', 'surname': 'Millers', 'amount': '734.89', 'delta_t': '9.67', 'flag': 0}\n",
      "{'name': 'Jill', 'surname': 'Johnson', 'amount': '107.62', 'delta_t': '4.47', 'flag': 0}\n",
      "{'name': 'Jill', 'surname': 'Darby', 'amount': '52.93', 'delta_t': '7.95', 'flag': 0}\n",
      "...\n",
      "\n"
     ]
    },
    {
     "name": "stderr",
     "output_type": "stream",
     "text": [
      "                                                                                \r"
     ]
    },
    {
     "name": "stdout",
     "output_type": "stream",
     "text": [
      "-------------------------------------------\n",
      "Time: 2023-05-10 07:49:02\n",
      "-------------------------------------------\n",
      "{'name': 'Joe', 'surname': 'Johnson', 'amount': '100.59', 'delta_t': '0.61', 'flag': 0}\n",
      "{'name': 'Andy', 'surname': 'Darby', 'amount': '233.41', 'delta_t': '8.57', 'flag': 1}\n",
      "{'name': 'Jill', 'surname': 'Millers', 'amount': '238.39', 'delta_t': '8.10', 'flag': 1}\n",
      "{'name': 'Andy', 'surname': 'Millers', 'amount': '389.13', 'delta_t': '1.00', 'flag': 0}\n",
      "{'name': 'John', 'surname': 'Smith', 'amount': '640.34', 'delta_t': '6.64', 'flag': 0}\n",
      "{'name': 'Alice', 'surname': 'Millers', 'amount': '155.82', 'delta_t': '1.64', 'flag': 1}\n",
      "{'name': 'Andy', 'surname': 'Smith', 'amount': '135.82', 'delta_t': '6.12', 'flag': 0}\n",
      "{'name': 'John', 'surname': 'Jones', 'amount': '868.67', 'delta_t': '9.64', 'flag': 0}\n",
      "{'name': 'Alice', 'surname': 'Johnson', 'amount': '129.02', 'delta_t': '3.75', 'flag': 0}\n",
      "{'name': 'Jill', 'surname': 'Darby', 'amount': '936.92', 'delta_t': '9.53', 'flag': 0}\n",
      "...\n",
      "\n"
     ]
    },
    {
     "name": "stderr",
     "output_type": "stream",
     "text": [
      "                                                                                \r"
     ]
    },
    {
     "name": "stdout",
     "output_type": "stream",
     "text": [
      "-------------------------------------------\n",
      "Time: 2023-05-10 07:49:04\n",
      "-------------------------------------------\n",
      "{'name': 'John', 'surname': 'Millers', 'amount': '178.13', 'delta_t': '2.99', 'flag': 1}\n",
      "{'name': 'Alice', 'surname': 'Jones', 'amount': '33.29', 'delta_t': '4.03', 'flag': 1}\n",
      "{'name': 'Alice', 'surname': 'Johnson', 'amount': '208.89', 'delta_t': '6.59', 'flag': 0}\n",
      "{'name': 'Andy', 'surname': 'Millers', 'amount': '754.45', 'delta_t': '2.47', 'flag': 1}\n",
      "{'name': 'John', 'surname': 'Darby', 'amount': '493.01', 'delta_t': '9.97', 'flag': 0}\n",
      "{'name': 'Andy', 'surname': 'Jones', 'amount': '444.86', 'delta_t': '8.21', 'flag': 0}\n",
      "{'name': 'Andy', 'surname': 'Johnson', 'amount': '551.03', 'delta_t': '8.00', 'flag': 0}\n",
      "{'name': 'Alice', 'surname': 'Johnson', 'amount': '641.37', 'delta_t': '0.02', 'flag': 0}\n",
      "{'name': 'Alice', 'surname': 'Millers', 'amount': '967.74', 'delta_t': '1.22', 'flag': 0}\n",
      "{'name': 'Joe', 'surname': 'Jones', 'amount': '39.06', 'delta_t': '9.10', 'flag': 1}\n",
      "...\n",
      "\n"
     ]
    },
    {
     "name": "stderr",
     "output_type": "stream",
     "text": [
      "                                                                                \r"
     ]
    },
    {
     "name": "stdout",
     "output_type": "stream",
     "text": [
      "-------------------------------------------\n",
      "Time: 2023-05-10 07:49:06\n",
      "-------------------------------------------\n",
      "{'name': 'Joe', 'surname': 'Jones', 'amount': '171.59', 'delta_t': '0.89', 'flag': 0}\n",
      "{'name': 'Joe', 'surname': 'Jones', 'amount': '354.59', 'delta_t': '7.32', 'flag': 0}\n",
      "{'name': 'Joe', 'surname': 'Darby', 'amount': '200.98', 'delta_t': '1.94', 'flag': 0}\n",
      "{'name': 'John', 'surname': 'Smith', 'amount': '643.57', 'delta_t': '3.58', 'flag': 1}\n",
      "{'name': 'Jill', 'surname': 'Johnson', 'amount': '269.29', 'delta_t': '1.14', 'flag': 0}\n",
      "{'name': 'John', 'surname': 'Darby', 'amount': '568.21', 'delta_t': '8.23', 'flag': 1}\n",
      "{'name': 'John', 'surname': 'Darby', 'amount': '159.29', 'delta_t': '9.59', 'flag': 1}\n",
      "{'name': 'Andy', 'surname': 'Jones', 'amount': '812.24', 'delta_t': '5.57', 'flag': 0}\n",
      "{'name': 'Jill', 'surname': 'Darby', 'amount': '531.04', 'delta_t': '2.68', 'flag': 0}\n",
      "{'name': 'Andy', 'surname': 'Jones', 'amount': '899.21', 'delta_t': '6.72', 'flag': 1}\n",
      "...\n",
      "\n"
     ]
    },
    {
     "name": "stderr",
     "output_type": "stream",
     "text": [
      "                                                                                \r"
     ]
    },
    {
     "name": "stdout",
     "output_type": "stream",
     "text": [
      "-------------------------------------------\n",
      "Time: 2023-05-10 07:49:08\n",
      "-------------------------------------------\n",
      "{'name': 'Jill', 'surname': 'Millers', 'amount': '920.67', 'delta_t': '2.69', 'flag': 0}\n",
      "{'name': 'John', 'surname': 'Jones', 'amount': '218.56', 'delta_t': '6.77', 'flag': 0}\n",
      "{'name': 'Alice', 'surname': 'Jones', 'amount': '969.02', 'delta_t': '0.83', 'flag': 0}\n",
      "{'name': 'John', 'surname': 'Darby', 'amount': '733.68', 'delta_t': '7.29', 'flag': 0}\n",
      "{'name': 'Joe', 'surname': 'Millers', 'amount': '766.26', 'delta_t': '1.54', 'flag': 0}\n",
      "{'name': 'Joe', 'surname': 'Jones', 'amount': '270.60', 'delta_t': '1.26', 'flag': 1}\n",
      "{'name': 'Jill', 'surname': 'Millers', 'amount': '453.65', 'delta_t': '2.40', 'flag': 1}\n",
      "{'name': 'John', 'surname': 'Millers', 'amount': '871.99', 'delta_t': '2.52', 'flag': 1}\n",
      "{'name': 'John', 'surname': 'Millers', 'amount': '64.15', 'delta_t': '0.66', 'flag': 0}\n",
      "{'name': 'John', 'surname': 'Smith', 'amount': '420.19', 'delta_t': '0.91', 'flag': 0}\n",
      "...\n",
      "\n"
     ]
    },
    {
     "name": "stderr",
     "output_type": "stream",
     "text": [
      "                                                                                \r"
     ]
    },
    {
     "name": "stdout",
     "output_type": "stream",
     "text": [
      "-------------------------------------------\n",
      "Time: 2023-05-10 07:49:10\n",
      "-------------------------------------------\n",
      "{'name': 'Jill', 'surname': 'Millers', 'amount': '845.20', 'delta_t': '0.38', 'flag': 1}\n",
      "{'name': 'Alice', 'surname': 'Darby', 'amount': '479.71', 'delta_t': '9.49', 'flag': 0}\n",
      "{'name': 'Alice', 'surname': 'Darby', 'amount': '28.39', 'delta_t': '3.70', 'flag': 0}\n",
      "{'name': 'Andy', 'surname': 'Johnson', 'amount': '574.52', 'delta_t': '2.43', 'flag': 0}\n",
      "{'name': 'Jill', 'surname': 'Johnson', 'amount': '928.02', 'delta_t': '9.03', 'flag': 0}\n",
      "{'name': 'Alice', 'surname': 'Johnson', 'amount': '898.52', 'delta_t': '0.09', 'flag': 0}\n",
      "{'name': 'John', 'surname': 'Jones', 'amount': '736.36', 'delta_t': '6.00', 'flag': 0}\n",
      "{'name': 'John', 'surname': 'Millers', 'amount': '948.51', 'delta_t': '5.26', 'flag': 0}\n",
      "{'name': 'Andy', 'surname': 'Darby', 'amount': '423.25', 'delta_t': '7.33', 'flag': 0}\n",
      "{'name': 'Jill', 'surname': 'Johnson', 'amount': '339.55', 'delta_t': '0.00', 'flag': 0}\n",
      "...\n",
      "\n"
     ]
    }
   ],
   "source": [
    "import json\n",
    "\n",
    "# use the map() transformation to apply the same function to all rdds\n",
    "# the function we want to run is the json.load() of the messages\n",
    "json_stream = socket_stream.map(lambda msg: json.loads(msg))"
   ]
  },
  {
   "cell_type": "markdown",
   "id": "64806443",
   "metadata": {},
   "source": [
    "It is possible to print some elements of each batch with `pprint()`. This can be used to explore the RDDs."
   ]
  },
  {
   "cell_type": "code",
   "execution_count": 10,
   "id": "49c29264",
   "metadata": {},
   "outputs": [
    {
     "name": "stderr",
     "output_type": "stream",
     "text": [
      "\r",
      "[Stage 2:>                                                          (0 + 1) / 1]\r"
     ]
    },
    {
     "ename": "Py4JJavaError",
     "evalue": "An error occurred while calling None.org.apache.spark.streaming.api.python.PythonTransformedDStream.\n: java.lang.IllegalStateException: Adding new inputs, transformations, and output operations after starting a context is not supported\n\tat org.apache.spark.streaming.dstream.DStream.validateAtInit(DStream.scala:226)\n\tat org.apache.spark.streaming.dstream.DStream.<init>(DStream.scala:67)\n\tat org.apache.spark.streaming.api.python.PythonDStream.<init>(PythonDStream.scala:224)\n\tat org.apache.spark.streaming.api.python.PythonTransformedDStream.<init>(PythonDStream.scala:241)\n\tat java.base/jdk.internal.reflect.NativeConstructorAccessorImpl.newInstance0(Native Method)\n\tat java.base/jdk.internal.reflect.NativeConstructorAccessorImpl.newInstance(NativeConstructorAccessorImpl.java:62)\n\tat java.base/jdk.internal.reflect.DelegatingConstructorAccessorImpl.newInstance(DelegatingConstructorAccessorImpl.java:45)\n\tat java.base/java.lang.reflect.Constructor.newInstance(Constructor.java:490)\n\tat py4j.reflection.MethodInvoker.invoke(MethodInvoker.java:247)\n\tat py4j.reflection.ReflectionEngine.invoke(ReflectionEngine.java:357)\n\tat py4j.Gateway.invoke(Gateway.java:238)\n\tat py4j.commands.ConstructorCommand.invokeConstructor(ConstructorCommand.java:80)\n\tat py4j.commands.ConstructorCommand.execute(ConstructorCommand.java:69)\n\tat py4j.ClientServerConnection.waitForCommands(ClientServerConnection.java:182)\n\tat py4j.ClientServerConnection.run(ClientServerConnection.java:106)\n\tat java.base/java.lang.Thread.run(Thread.java:829)\n",
     "output_type": "error",
     "traceback": [
      "\u001b[0;31m---------------------------------------------------------------------------\u001b[0m",
      "\u001b[0;31mPy4JJavaError\u001b[0m                             Traceback (most recent call last)",
      "Cell \u001b[0;32mIn[10], line 1\u001b[0m\n\u001b[0;32m----> 1\u001b[0m \u001b[43mjson_stream\u001b[49m\u001b[38;5;241;43m.\u001b[39;49m\u001b[43mpprint\u001b[49m\u001b[43m(\u001b[49m\u001b[43m)\u001b[49m\n",
      "File \u001b[0;32m/usr/bin/spark-3.3.2-bin-hadoop3/python/pyspark/streaming/dstream.py:264\u001b[0m, in \u001b[0;36mDStream.pprint\u001b[0;34m(self, num)\u001b[0m\n\u001b[1;32m    261\u001b[0m         \u001b[38;5;28mprint\u001b[39m(\u001b[38;5;124m\"\u001b[39m\u001b[38;5;124m...\u001b[39m\u001b[38;5;124m\"\u001b[39m)\n\u001b[1;32m    262\u001b[0m     \u001b[38;5;28mprint\u001b[39m(\u001b[38;5;124m\"\u001b[39m\u001b[38;5;124m\"\u001b[39m)\n\u001b[0;32m--> 264\u001b[0m \u001b[38;5;28;43mself\u001b[39;49m\u001b[38;5;241;43m.\u001b[39;49m\u001b[43mforeachRDD\u001b[49m\u001b[43m(\u001b[49m\u001b[43mtakeAndPrint\u001b[49m\u001b[43m)\u001b[49m\n",
      "File \u001b[0;32m/usr/bin/spark-3.3.2-bin-hadoop3/python/pyspark/streaming/dstream.py:241\u001b[0m, in \u001b[0;36mDStream.foreachRDD\u001b[0;34m(self, func)\u001b[0m\n\u001b[1;32m    239\u001b[0m \u001b[38;5;28;01massert\u001b[39;00m \u001b[38;5;28mself\u001b[39m\u001b[38;5;241m.\u001b[39m_ssc\u001b[38;5;241m.\u001b[39m_jvm \u001b[38;5;129;01mis\u001b[39;00m \u001b[38;5;129;01mnot\u001b[39;00m \u001b[38;5;28;01mNone\u001b[39;00m\n\u001b[1;32m    240\u001b[0m api \u001b[38;5;241m=\u001b[39m \u001b[38;5;28mself\u001b[39m\u001b[38;5;241m.\u001b[39m_ssc\u001b[38;5;241m.\u001b[39m_jvm\u001b[38;5;241m.\u001b[39mPythonDStream\n\u001b[0;32m--> 241\u001b[0m api\u001b[38;5;241m.\u001b[39mcallForeachRDD(\u001b[38;5;28;43mself\u001b[39;49m\u001b[38;5;241;43m.\u001b[39;49m\u001b[43m_jdstream\u001b[49m, jfunc)\n",
      "File \u001b[0;32m/usr/bin/spark-3.3.2-bin-hadoop3/python/pyspark/streaming/dstream.py:931\u001b[0m, in \u001b[0;36mTransformedDStream._jdstream\u001b[0;34m(self)\u001b[0m\n\u001b[1;32m    929\u001b[0m jfunc \u001b[38;5;241m=\u001b[39m TransformFunction(\u001b[38;5;28mself\u001b[39m\u001b[38;5;241m.\u001b[39m_sc, \u001b[38;5;28mself\u001b[39m\u001b[38;5;241m.\u001b[39mfunc, \u001b[38;5;28mself\u001b[39m\u001b[38;5;241m.\u001b[39mprev\u001b[38;5;241m.\u001b[39m_jrdd_deserializer)\n\u001b[1;32m    930\u001b[0m \u001b[38;5;28;01massert\u001b[39;00m \u001b[38;5;28mself\u001b[39m\u001b[38;5;241m.\u001b[39m_sc\u001b[38;5;241m.\u001b[39m_jvm \u001b[38;5;129;01mis\u001b[39;00m \u001b[38;5;129;01mnot\u001b[39;00m \u001b[38;5;28;01mNone\u001b[39;00m\n\u001b[0;32m--> 931\u001b[0m dstream \u001b[38;5;241m=\u001b[39m \u001b[38;5;28;43mself\u001b[39;49m\u001b[38;5;241;43m.\u001b[39;49m\u001b[43m_sc\u001b[49m\u001b[38;5;241;43m.\u001b[39;49m\u001b[43m_jvm\u001b[49m\u001b[38;5;241;43m.\u001b[39;49m\u001b[43mPythonTransformedDStream\u001b[49m\u001b[43m(\u001b[49m\u001b[38;5;28;43mself\u001b[39;49m\u001b[38;5;241;43m.\u001b[39;49m\u001b[43mprev\u001b[49m\u001b[38;5;241;43m.\u001b[39;49m\u001b[43m_jdstream\u001b[49m\u001b[38;5;241;43m.\u001b[39;49m\u001b[43mdstream\u001b[49m\u001b[43m(\u001b[49m\u001b[43m)\u001b[49m\u001b[43m,\u001b[49m\u001b[43m \u001b[49m\u001b[43mjfunc\u001b[49m\u001b[43m)\u001b[49m\n\u001b[1;32m    932\u001b[0m \u001b[38;5;28mself\u001b[39m\u001b[38;5;241m.\u001b[39m_jdstream_val \u001b[38;5;241m=\u001b[39m dstream\u001b[38;5;241m.\u001b[39masJavaDStream()\n\u001b[1;32m    933\u001b[0m \u001b[38;5;28;01mreturn\u001b[39;00m \u001b[38;5;28mself\u001b[39m\u001b[38;5;241m.\u001b[39m_jdstream_val\n",
      "File \u001b[0;32m/opt/conda/lib/python3.9/site-packages/py4j/java_gateway.py:1585\u001b[0m, in \u001b[0;36mJavaClass.__call__\u001b[0;34m(self, *args)\u001b[0m\n\u001b[1;32m   1579\u001b[0m command \u001b[38;5;241m=\u001b[39m proto\u001b[38;5;241m.\u001b[39mCONSTRUCTOR_COMMAND_NAME \u001b[38;5;241m+\u001b[39m\\\n\u001b[1;32m   1580\u001b[0m     \u001b[38;5;28mself\u001b[39m\u001b[38;5;241m.\u001b[39m_command_header \u001b[38;5;241m+\u001b[39m\\\n\u001b[1;32m   1581\u001b[0m     args_command \u001b[38;5;241m+\u001b[39m\\\n\u001b[1;32m   1582\u001b[0m     proto\u001b[38;5;241m.\u001b[39mEND_COMMAND_PART\n\u001b[1;32m   1584\u001b[0m answer \u001b[38;5;241m=\u001b[39m \u001b[38;5;28mself\u001b[39m\u001b[38;5;241m.\u001b[39m_gateway_client\u001b[38;5;241m.\u001b[39msend_command(command)\n\u001b[0;32m-> 1585\u001b[0m return_value \u001b[38;5;241m=\u001b[39m \u001b[43mget_return_value\u001b[49m\u001b[43m(\u001b[49m\n\u001b[1;32m   1586\u001b[0m \u001b[43m    \u001b[49m\u001b[43manswer\u001b[49m\u001b[43m,\u001b[49m\u001b[43m \u001b[49m\u001b[38;5;28;43mself\u001b[39;49m\u001b[38;5;241;43m.\u001b[39;49m\u001b[43m_gateway_client\u001b[49m\u001b[43m,\u001b[49m\u001b[43m \u001b[49m\u001b[38;5;28;43;01mNone\u001b[39;49;00m\u001b[43m,\u001b[49m\u001b[43m \u001b[49m\u001b[38;5;28;43mself\u001b[39;49m\u001b[38;5;241;43m.\u001b[39;49m\u001b[43m_fqn\u001b[49m\u001b[43m)\u001b[49m\n\u001b[1;32m   1588\u001b[0m \u001b[38;5;28;01mfor\u001b[39;00m temp_arg \u001b[38;5;129;01min\u001b[39;00m temp_args:\n\u001b[1;32m   1589\u001b[0m     temp_arg\u001b[38;5;241m.\u001b[39m_detach()\n",
      "File \u001b[0;32m/usr/bin/spark-3.3.2-bin-hadoop3/python/pyspark/sql/utils.py:190\u001b[0m, in \u001b[0;36mcapture_sql_exception.<locals>.deco\u001b[0;34m(*a, **kw)\u001b[0m\n\u001b[1;32m    188\u001b[0m \u001b[38;5;28;01mdef\u001b[39;00m \u001b[38;5;21mdeco\u001b[39m(\u001b[38;5;241m*\u001b[39ma: Any, \u001b[38;5;241m*\u001b[39m\u001b[38;5;241m*\u001b[39mkw: Any) \u001b[38;5;241m-\u001b[39m\u001b[38;5;241m>\u001b[39m Any:\n\u001b[1;32m    189\u001b[0m     \u001b[38;5;28;01mtry\u001b[39;00m:\n\u001b[0;32m--> 190\u001b[0m         \u001b[38;5;28;01mreturn\u001b[39;00m \u001b[43mf\u001b[49m\u001b[43m(\u001b[49m\u001b[38;5;241;43m*\u001b[39;49m\u001b[43ma\u001b[49m\u001b[43m,\u001b[49m\u001b[43m \u001b[49m\u001b[38;5;241;43m*\u001b[39;49m\u001b[38;5;241;43m*\u001b[39;49m\u001b[43mkw\u001b[49m\u001b[43m)\u001b[49m\n\u001b[1;32m    191\u001b[0m     \u001b[38;5;28;01mexcept\u001b[39;00m Py4JJavaError \u001b[38;5;28;01mas\u001b[39;00m e:\n\u001b[1;32m    192\u001b[0m         converted \u001b[38;5;241m=\u001b[39m convert_exception(e\u001b[38;5;241m.\u001b[39mjava_exception)\n",
      "File \u001b[0;32m/opt/conda/lib/python3.9/site-packages/py4j/protocol.py:326\u001b[0m, in \u001b[0;36mget_return_value\u001b[0;34m(answer, gateway_client, target_id, name)\u001b[0m\n\u001b[1;32m    324\u001b[0m value \u001b[38;5;241m=\u001b[39m OUTPUT_CONVERTER[\u001b[38;5;28mtype\u001b[39m](answer[\u001b[38;5;241m2\u001b[39m:], gateway_client)\n\u001b[1;32m    325\u001b[0m \u001b[38;5;28;01mif\u001b[39;00m answer[\u001b[38;5;241m1\u001b[39m] \u001b[38;5;241m==\u001b[39m REFERENCE_TYPE:\n\u001b[0;32m--> 326\u001b[0m     \u001b[38;5;28;01mraise\u001b[39;00m Py4JJavaError(\n\u001b[1;32m    327\u001b[0m         \u001b[38;5;124m\"\u001b[39m\u001b[38;5;124mAn error occurred while calling \u001b[39m\u001b[38;5;132;01m{0}\u001b[39;00m\u001b[38;5;132;01m{1}\u001b[39;00m\u001b[38;5;132;01m{2}\u001b[39;00m\u001b[38;5;124m.\u001b[39m\u001b[38;5;130;01m\\n\u001b[39;00m\u001b[38;5;124m\"\u001b[39m\u001b[38;5;241m.\u001b[39m\n\u001b[1;32m    328\u001b[0m         \u001b[38;5;28mformat\u001b[39m(target_id, \u001b[38;5;124m\"\u001b[39m\u001b[38;5;124m.\u001b[39m\u001b[38;5;124m\"\u001b[39m, name), value)\n\u001b[1;32m    329\u001b[0m \u001b[38;5;28;01melse\u001b[39;00m:\n\u001b[1;32m    330\u001b[0m     \u001b[38;5;28;01mraise\u001b[39;00m Py4JError(\n\u001b[1;32m    331\u001b[0m         \u001b[38;5;124m\"\u001b[39m\u001b[38;5;124mAn error occurred while calling \u001b[39m\u001b[38;5;132;01m{0}\u001b[39;00m\u001b[38;5;132;01m{1}\u001b[39;00m\u001b[38;5;132;01m{2}\u001b[39;00m\u001b[38;5;124m. Trace:\u001b[39m\u001b[38;5;130;01m\\n\u001b[39;00m\u001b[38;5;132;01m{3}\u001b[39;00m\u001b[38;5;130;01m\\n\u001b[39;00m\u001b[38;5;124m\"\u001b[39m\u001b[38;5;241m.\u001b[39m\n\u001b[1;32m    332\u001b[0m         \u001b[38;5;28mformat\u001b[39m(target_id, \u001b[38;5;124m\"\u001b[39m\u001b[38;5;124m.\u001b[39m\u001b[38;5;124m\"\u001b[39m, name, value))\n",
      "\u001b[0;31mPy4JJavaError\u001b[0m: An error occurred while calling None.org.apache.spark.streaming.api.python.PythonTransformedDStream.\n: java.lang.IllegalStateException: Adding new inputs, transformations, and output operations after starting a context is not supported\n\tat org.apache.spark.streaming.dstream.DStream.validateAtInit(DStream.scala:226)\n\tat org.apache.spark.streaming.dstream.DStream.<init>(DStream.scala:67)\n\tat org.apache.spark.streaming.api.python.PythonDStream.<init>(PythonDStream.scala:224)\n\tat org.apache.spark.streaming.api.python.PythonTransformedDStream.<init>(PythonDStream.scala:241)\n\tat java.base/jdk.internal.reflect.NativeConstructorAccessorImpl.newInstance0(Native Method)\n\tat java.base/jdk.internal.reflect.NativeConstructorAccessorImpl.newInstance(NativeConstructorAccessorImpl.java:62)\n\tat java.base/jdk.internal.reflect.DelegatingConstructorAccessorImpl.newInstance(DelegatingConstructorAccessorImpl.java:45)\n\tat java.base/java.lang.reflect.Constructor.newInstance(Constructor.java:490)\n\tat py4j.reflection.MethodInvoker.invoke(MethodInvoker.java:247)\n\tat py4j.reflection.ReflectionEngine.invoke(ReflectionEngine.java:357)\n\tat py4j.Gateway.invoke(Gateway.java:238)\n\tat py4j.commands.ConstructorCommand.invokeConstructor(ConstructorCommand.java:80)\n\tat py4j.commands.ConstructorCommand.execute(ConstructorCommand.java:69)\n\tat py4j.ClientServerConnection.waitForCommands(ClientServerConnection.java:182)\n\tat py4j.ClientServerConnection.run(ClientServerConnection.java:106)\n\tat java.base/java.lang.Thread.run(Thread.java:829)\n"
     ]
    },
    {
     "name": "stderr",
     "output_type": "stream",
     "text": [
      "\r",
      "                                                                                \r"
     ]
    },
    {
     "name": "stdout",
     "output_type": "stream",
     "text": [
      "-------------------------------------------\n",
      "Time: 2023-05-10 07:49:12\n",
      "-------------------------------------------\n",
      "{'name': 'Jill', 'surname': 'Millers', 'amount': '519.71', 'delta_t': '0.12', 'flag': 1}\n",
      "{'name': 'Alice', 'surname': 'Smith', 'amount': '43.70', 'delta_t': '7.86', 'flag': 0}\n",
      "{'name': 'Andy', 'surname': 'Jones', 'amount': '569.37', 'delta_t': '7.72', 'flag': 0}\n",
      "{'name': 'Andy', 'surname': 'Darby', 'amount': '971.48', 'delta_t': '2.44', 'flag': 0}\n",
      "{'name': 'John', 'surname': 'Smith', 'amount': '813.45', 'delta_t': '2.00', 'flag': 0}\n",
      "{'name': 'John', 'surname': 'Johnson', 'amount': '93.24', 'delta_t': '1.93', 'flag': 0}\n",
      "{'name': 'Andy', 'surname': 'Johnson', 'amount': '662.10', 'delta_t': '2.45', 'flag': 0}\n",
      "{'name': 'Jill', 'surname': 'Millers', 'amount': '966.29', 'delta_t': '4.20', 'flag': 1}\n",
      "{'name': 'Andy', 'surname': 'Smith', 'amount': '641.09', 'delta_t': '2.58', 'flag': 0}\n",
      "{'name': 'John', 'surname': 'Johnson', 'amount': '399.89', 'delta_t': '9.59', 'flag': 0}\n",
      "...\n",
      "\n"
     ]
    },
    {
     "name": "stderr",
     "output_type": "stream",
     "text": [
      "                                                                                \r"
     ]
    },
    {
     "name": "stdout",
     "output_type": "stream",
     "text": [
      "-------------------------------------------\n",
      "Time: 2023-05-10 07:49:14\n",
      "-------------------------------------------\n",
      "{'name': 'Alice', 'surname': 'Johnson', 'amount': '973.67', 'delta_t': '3.21', 'flag': 0}\n",
      "{'name': 'Joe', 'surname': 'Jones', 'amount': '337.41', 'delta_t': '1.41', 'flag': 0}\n",
      "{'name': 'Andy', 'surname': 'Darby', 'amount': '292.85', 'delta_t': '1.49', 'flag': 0}\n",
      "{'name': 'John', 'surname': 'Smith', 'amount': '361.85', 'delta_t': '0.08', 'flag': 1}\n",
      "{'name': 'Andy', 'surname': 'Millers', 'amount': '654.08', 'delta_t': '1.68', 'flag': 0}\n",
      "{'name': 'John', 'surname': 'Johnson', 'amount': '320.16', 'delta_t': '6.20', 'flag': 0}\n",
      "{'name': 'John', 'surname': 'Darby', 'amount': '176.56', 'delta_t': '5.53', 'flag': 1}\n",
      "{'name': 'Joe', 'surname': 'Smith', 'amount': '469.00', 'delta_t': '0.44', 'flag': 0}\n",
      "{'name': 'John', 'surname': 'Millers', 'amount': '660.94', 'delta_t': '9.09', 'flag': 0}\n",
      "{'name': 'Jill', 'surname': 'Darby', 'amount': '964.86', 'delta_t': '1.87', 'flag': 0}\n",
      "...\n",
      "\n"
     ]
    },
    {
     "name": "stderr",
     "output_type": "stream",
     "text": [
      "                                                                                \r"
     ]
    },
    {
     "name": "stdout",
     "output_type": "stream",
     "text": [
      "-------------------------------------------\n",
      "Time: 2023-05-10 07:49:16\n",
      "-------------------------------------------\n",
      "{'name': 'Alice', 'surname': 'Millers', 'amount': '553.25', 'delta_t': '1.42', 'flag': 0}\n",
      "{'name': 'Andy', 'surname': 'Smith', 'amount': '576.58', 'delta_t': '9.93', 'flag': 1}\n",
      "{'name': 'Jill', 'surname': 'Darby', 'amount': '399.44', 'delta_t': '6.91', 'flag': 0}\n",
      "{'name': 'Alice', 'surname': 'Millers', 'amount': '576.85', 'delta_t': '0.79', 'flag': 0}\n",
      "{'name': 'Joe', 'surname': 'Johnson', 'amount': '72.04', 'delta_t': '1.00', 'flag': 0}\n",
      "{'name': 'Joe', 'surname': 'Millers', 'amount': '988.11', 'delta_t': '0.46', 'flag': 0}\n",
      "{'name': 'Joe', 'surname': 'Darby', 'amount': '404.63', 'delta_t': '4.81', 'flag': 1}\n",
      "{'name': 'John', 'surname': 'Smith', 'amount': '800.73', 'delta_t': '7.49', 'flag': 0}\n",
      "{'name': 'Jill', 'surname': 'Smith', 'amount': '565.91', 'delta_t': '7.49', 'flag': 0}\n",
      "{'name': 'Joe', 'surname': 'Darby', 'amount': '952.86', 'delta_t': '8.21', 'flag': 1}\n",
      "...\n",
      "\n"
     ]
    },
    {
     "name": "stderr",
     "output_type": "stream",
     "text": [
      "                                                                                \r"
     ]
    },
    {
     "name": "stdout",
     "output_type": "stream",
     "text": [
      "-------------------------------------------\n",
      "Time: 2023-05-10 07:49:18\n",
      "-------------------------------------------\n",
      "{'name': 'John', 'surname': 'Jones', 'amount': '617.42', 'delta_t': '5.39', 'flag': 0}\n",
      "{'name': 'Andy', 'surname': 'Darby', 'amount': '708.26', 'delta_t': '2.36', 'flag': 1}\n",
      "{'name': 'Jill', 'surname': 'Johnson', 'amount': '754.04', 'delta_t': '0.63', 'flag': 0}\n",
      "{'name': 'Jill', 'surname': 'Smith', 'amount': '765.12', 'delta_t': '6.58', 'flag': 0}\n",
      "{'name': 'Jill', 'surname': 'Smith', 'amount': '570.52', 'delta_t': '7.41', 'flag': 0}\n",
      "{'name': 'Jill', 'surname': 'Johnson', 'amount': '659.05', 'delta_t': '0.83', 'flag': 0}\n",
      "{'name': 'John', 'surname': 'Jones', 'amount': '25.49', 'delta_t': '7.44', 'flag': 0}\n",
      "{'name': 'Alice', 'surname': 'Darby', 'amount': '108.51', 'delta_t': '0.69', 'flag': 1}\n",
      "{'name': 'John', 'surname': 'Johnson', 'amount': '536.09', 'delta_t': '6.33', 'flag': 0}\n",
      "{'name': 'Joe', 'surname': 'Johnson', 'amount': '760.87', 'delta_t': '6.63', 'flag': 0}\n",
      "...\n",
      "\n"
     ]
    },
    {
     "name": "stderr",
     "output_type": "stream",
     "text": [
      "                                                                                \r"
     ]
    },
    {
     "name": "stdout",
     "output_type": "stream",
     "text": [
      "-------------------------------------------\n",
      "Time: 2023-05-10 07:49:20\n",
      "-------------------------------------------\n",
      "{'name': 'Jill', 'surname': 'Smith', 'amount': '357.97', 'delta_t': '7.95', 'flag': 0}\n",
      "{'name': 'Joe', 'surname': 'Jones', 'amount': '507.13', 'delta_t': '4.91', 'flag': 0}\n",
      "{'name': 'Andy', 'surname': 'Jones', 'amount': '992.95', 'delta_t': '7.02', 'flag': 1}\n",
      "{'name': 'Joe', 'surname': 'Millers', 'amount': '82.32', 'delta_t': '1.02', 'flag': 1}\n",
      "{'name': 'Joe', 'surname': 'Darby', 'amount': '499.41', 'delta_t': '7.61', 'flag': 0}\n",
      "{'name': 'Joe', 'surname': 'Johnson', 'amount': '505.63', 'delta_t': '9.18', 'flag': 0}\n",
      "{'name': 'Andy', 'surname': 'Johnson', 'amount': '854.92', 'delta_t': '0.39', 'flag': 0}\n",
      "{'name': 'John', 'surname': 'Jones', 'amount': '166.51', 'delta_t': '4.37', 'flag': 0}\n",
      "{'name': 'Alice', 'surname': 'Darby', 'amount': '928.32', 'delta_t': '2.13', 'flag': 0}\n",
      "{'name': 'Andy', 'surname': 'Darby', 'amount': '704.80', 'delta_t': '9.35', 'flag': 0}\n",
      "...\n",
      "\n"
     ]
    },
    {
     "name": "stderr",
     "output_type": "stream",
     "text": [
      "                                                                                \r"
     ]
    },
    {
     "name": "stdout",
     "output_type": "stream",
     "text": [
      "-------------------------------------------\n",
      "Time: 2023-05-10 07:49:22\n",
      "-------------------------------------------\n",
      "{'name': 'Andy', 'surname': 'Jones', 'amount': '771.56', 'delta_t': '0.04', 'flag': 0}\n",
      "{'name': 'Andy', 'surname': 'Smith', 'amount': '249.58', 'delta_t': '1.06', 'flag': 0}\n",
      "{'name': 'Joe', 'surname': 'Millers', 'amount': '581.94', 'delta_t': '1.53', 'flag': 0}\n",
      "{'name': 'Andy', 'surname': 'Millers', 'amount': '781.04', 'delta_t': '9.31', 'flag': 0}\n",
      "{'name': 'Joe', 'surname': 'Millers', 'amount': '490.52', 'delta_t': '3.59', 'flag': 0}\n",
      "{'name': 'Alice', 'surname': 'Darby', 'amount': '226.98', 'delta_t': '1.76', 'flag': 0}\n",
      "{'name': 'John', 'surname': 'Darby', 'amount': '296.06', 'delta_t': '9.52', 'flag': 0}\n",
      "{'name': 'Andy', 'surname': 'Smith', 'amount': '711.45', 'delta_t': '4.89', 'flag': 0}\n",
      "{'name': 'John', 'surname': 'Johnson', 'amount': '41.76', 'delta_t': '7.27', 'flag': 0}\n",
      "{'name': 'Alice', 'surname': 'Jones', 'amount': '170.22', 'delta_t': '8.37', 'flag': 1}\n",
      "...\n",
      "\n"
     ]
    },
    {
     "name": "stderr",
     "output_type": "stream",
     "text": [
      "                                                                                \r"
     ]
    },
    {
     "name": "stdout",
     "output_type": "stream",
     "text": [
      "-------------------------------------------\n",
      "Time: 2023-05-10 07:49:24\n",
      "-------------------------------------------\n",
      "{'name': 'Andy', 'surname': 'Johnson', 'amount': '937.38', 'delta_t': '2.07', 'flag': 0}\n",
      "{'name': 'Joe', 'surname': 'Millers', 'amount': '330.11', 'delta_t': '0.31', 'flag': 0}\n",
      "{'name': 'John', 'surname': 'Johnson', 'amount': '399.69', 'delta_t': '6.09', 'flag': 0}\n",
      "{'name': 'John', 'surname': 'Smith', 'amount': '213.45', 'delta_t': '3.36', 'flag': 0}\n",
      "{'name': 'John', 'surname': 'Johnson', 'amount': '748.11', 'delta_t': '7.11', 'flag': 0}\n",
      "{'name': 'Andy', 'surname': 'Darby', 'amount': '679.11', 'delta_t': '1.95', 'flag': 0}\n",
      "{'name': 'John', 'surname': 'Darby', 'amount': '980.43', 'delta_t': '7.37', 'flag': 1}\n",
      "{'name': 'Jill', 'surname': 'Smith', 'amount': '609.90', 'delta_t': '8.34', 'flag': 0}\n",
      "{'name': 'Andy', 'surname': 'Darby', 'amount': '434.88', 'delta_t': '4.19', 'flag': 1}\n",
      "{'name': 'John', 'surname': 'Smith', 'amount': '91.56', 'delta_t': '8.53', 'flag': 0}\n",
      "...\n",
      "\n"
     ]
    },
    {
     "name": "stderr",
     "output_type": "stream",
     "text": [
      "                                                                                \r"
     ]
    },
    {
     "name": "stdout",
     "output_type": "stream",
     "text": [
      "-------------------------------------------\n",
      "Time: 2023-05-10 07:49:26\n",
      "-------------------------------------------\n",
      "{'name': 'John', 'surname': 'Millers', 'amount': '929.58', 'delta_t': '8.73', 'flag': 1}\n",
      "{'name': 'Joe', 'surname': 'Smith', 'amount': '489.00', 'delta_t': '2.40', 'flag': 0}\n",
      "{'name': 'Joe', 'surname': 'Darby', 'amount': '322.92', 'delta_t': '4.85', 'flag': 0}\n",
      "{'name': 'Jill', 'surname': 'Johnson', 'amount': '659.33', 'delta_t': '1.92', 'flag': 0}\n",
      "{'name': 'Andy', 'surname': 'Jones', 'amount': '456.85', 'delta_t': '6.48', 'flag': 0}\n",
      "{'name': 'Jill', 'surname': 'Jones', 'amount': '205.24', 'delta_t': '1.70', 'flag': 0}\n",
      "{'name': 'Alice', 'surname': 'Smith', 'amount': '685.04', 'delta_t': '0.61', 'flag': 0}\n",
      "{'name': 'John', 'surname': 'Smith', 'amount': '730.81', 'delta_t': '5.03', 'flag': 1}\n",
      "{'name': 'John', 'surname': 'Jones', 'amount': '44.40', 'delta_t': '4.58', 'flag': 1}\n",
      "{'name': 'Joe', 'surname': 'Jones', 'amount': '867.80', 'delta_t': '5.06', 'flag': 1}\n",
      "...\n",
      "\n"
     ]
    },
    {
     "name": "stderr",
     "output_type": "stream",
     "text": [
      "                                                                                \r"
     ]
    },
    {
     "name": "stdout",
     "output_type": "stream",
     "text": [
      "-------------------------------------------\n",
      "Time: 2023-05-10 07:49:28\n",
      "-------------------------------------------\n",
      "{'name': 'Alice', 'surname': 'Johnson', 'amount': '320.71', 'delta_t': '0.53', 'flag': 0}\n",
      "{'name': 'Andy', 'surname': 'Jones', 'amount': '304.54', 'delta_t': '9.74', 'flag': 0}\n",
      "{'name': 'Andy', 'surname': 'Smith', 'amount': '419.29', 'delta_t': '1.55', 'flag': 0}\n",
      "{'name': 'John', 'surname': 'Johnson', 'amount': '422.52', 'delta_t': '9.17', 'flag': 0}\n",
      "{'name': 'John', 'surname': 'Smith', 'amount': '299.17', 'delta_t': '9.25', 'flag': 1}\n",
      "{'name': 'John', 'surname': 'Millers', 'amount': '328.45', 'delta_t': '6.16', 'flag': 1}\n",
      "{'name': 'John', 'surname': 'Darby', 'amount': '726.84', 'delta_t': '8.44', 'flag': 1}\n",
      "{'name': 'Alice', 'surname': 'Jones', 'amount': '753.72', 'delta_t': '8.09', 'flag': 1}\n",
      "{'name': 'Joe', 'surname': 'Darby', 'amount': '61.51', 'delta_t': '0.64', 'flag': 0}\n",
      "{'name': 'Andy', 'surname': 'Jones', 'amount': '134.77', 'delta_t': '9.16', 'flag': 0}\n",
      "...\n",
      "\n"
     ]
    },
    {
     "name": "stderr",
     "output_type": "stream",
     "text": [
      "\r",
      "[Stage 2:>                                                          (0 + 1) / 1]\r"
     ]
    }
   ],
   "source": [
    "json_stream.pprint()"
   ]
  },
  {
   "cell_type": "markdown",
   "id": "dfa0ad3b",
   "metadata": {},
   "source": [
    "**Start the computations with `ssc.start()` and stop with `ssc.stop(stopSparkContext=False)`.** \n",
    "\n",
    "_Remember that once the StreamingContext has been stopped, it must be redefined anew if we want to restart the streaming computations._"
   ]
  },
  {
   "cell_type": "code",
   "execution_count": 11,
   "id": "21738d69",
   "metadata": {
    "scrolled": true
   },
   "outputs": [
    {
     "name": "stdout",
     "output_type": "stream",
     "text": [
      "23/05/10 07:49:29 WARN StreamingContext: StreamingContext has already been started\n"
     ]
    },
    {
     "name": "stderr",
     "output_type": "stream",
     "text": [
      "\r",
      "                                                                                \r"
     ]
    },
    {
     "name": "stdout",
     "output_type": "stream",
     "text": [
      "-------------------------------------------\n",
      "Time: 2023-05-10 07:49:30\n",
      "-------------------------------------------\n",
      "{'name': 'Joe', 'surname': 'Darby', 'amount': '238.36', 'delta_t': '2.61', 'flag': 1}\n",
      "{'name': 'Jill', 'surname': 'Smith', 'amount': '231.05', 'delta_t': '8.40', 'flag': 0}\n",
      "{'name': 'Alice', 'surname': 'Darby', 'amount': '848.14', 'delta_t': '3.67', 'flag': 1}\n",
      "{'name': 'John', 'surname': 'Darby', 'amount': '745.50', 'delta_t': '1.06', 'flag': 0}\n",
      "{'name': 'Jill', 'surname': 'Smith', 'amount': '673.89', 'delta_t': '3.27', 'flag': 0}\n",
      "{'name': 'Joe', 'surname': 'Smith', 'amount': '460.67', 'delta_t': '0.44', 'flag': 0}\n",
      "{'name': 'Jill', 'surname': 'Smith', 'amount': '698.89', 'delta_t': '9.11', 'flag': 0}\n",
      "{'name': 'Joe', 'surname': 'Johnson', 'amount': '260.23', 'delta_t': '7.36', 'flag': 0}\n",
      "{'name': 'Joe', 'surname': 'Darby', 'amount': '276.52', 'delta_t': '3.05', 'flag': 0}\n",
      "{'name': 'John', 'surname': 'Millers', 'amount': '405.54', 'delta_t': '9.69', 'flag': 0}\n",
      "...\n",
      "\n"
     ]
    },
    {
     "name": "stderr",
     "output_type": "stream",
     "text": [
      "                                                                                \r"
     ]
    },
    {
     "name": "stdout",
     "output_type": "stream",
     "text": [
      "-------------------------------------------\n",
      "Time: 2023-05-10 07:49:32\n",
      "-------------------------------------------\n",
      "{'name': 'Joe', 'surname': 'Darby', 'amount': '971.47', 'delta_t': '6.93', 'flag': 0}\n",
      "{'name': 'John', 'surname': 'Millers', 'amount': '258.15', 'delta_t': '5.12', 'flag': 0}\n",
      "{'name': 'Alice', 'surname': 'Johnson', 'amount': '45.52', 'delta_t': '3.44', 'flag': 0}\n",
      "{'name': 'Andy', 'surname': 'Johnson', 'amount': '876.38', 'delta_t': '0.74', 'flag': 0}\n",
      "{'name': 'Joe', 'surname': 'Darby', 'amount': '678.98', 'delta_t': '5.69', 'flag': 0}\n",
      "{'name': 'Alice', 'surname': 'Smith', 'amount': '596.28', 'delta_t': '9.84', 'flag': 0}\n",
      "{'name': 'John', 'surname': 'Darby', 'amount': '752.90', 'delta_t': '2.54', 'flag': 0}\n",
      "{'name': 'John', 'surname': 'Darby', 'amount': '699.80', 'delta_t': '5.33', 'flag': 0}\n",
      "{'name': 'Alice', 'surname': 'Jones', 'amount': '295.29', 'delta_t': '0.76', 'flag': 1}\n",
      "{'name': 'Jill', 'surname': 'Darby', 'amount': '52.25', 'delta_t': '7.01', 'flag': 1}\n",
      "...\n",
      "\n"
     ]
    },
    {
     "name": "stderr",
     "output_type": "stream",
     "text": [
      "                                                                                \r"
     ]
    },
    {
     "name": "stdout",
     "output_type": "stream",
     "text": [
      "-------------------------------------------\n",
      "Time: 2023-05-10 07:49:34\n",
      "-------------------------------------------\n",
      "{'name': 'Andy', 'surname': 'Johnson', 'amount': '15.42', 'delta_t': '1.08', 'flag': 0}\n",
      "{'name': 'Alice', 'surname': 'Smith', 'amount': '304.55', 'delta_t': '5.75', 'flag': 0}\n",
      "{'name': 'Alice', 'surname': 'Millers', 'amount': '263.64', 'delta_t': '7.70', 'flag': 1}\n",
      "{'name': 'Joe', 'surname': 'Darby', 'amount': '522.86', 'delta_t': '3.86', 'flag': 0}\n",
      "{'name': 'Joe', 'surname': 'Jones', 'amount': '456.59', 'delta_t': '3.71', 'flag': 0}\n",
      "{'name': 'Alice', 'surname': 'Millers', 'amount': '940.23', 'delta_t': '9.54', 'flag': 1}\n",
      "{'name': 'Andy', 'surname': 'Darby', 'amount': '624.29', 'delta_t': '1.94', 'flag': 0}\n",
      "{'name': 'Andy', 'surname': 'Smith', 'amount': '340.37', 'delta_t': '9.28', 'flag': 0}\n",
      "{'name': 'John', 'surname': 'Millers', 'amount': '490.72', 'delta_t': '2.50', 'flag': 0}\n",
      "{'name': 'John', 'surname': 'Millers', 'amount': '376.87', 'delta_t': '3.99', 'flag': 0}\n",
      "...\n",
      "\n"
     ]
    },
    {
     "name": "stderr",
     "output_type": "stream",
     "text": [
      "                                                                                \r"
     ]
    },
    {
     "name": "stdout",
     "output_type": "stream",
     "text": [
      "-------------------------------------------\n",
      "Time: 2023-05-10 07:49:36\n",
      "-------------------------------------------\n",
      "{'name': 'Joe', 'surname': 'Smith', 'amount': '471.30', 'delta_t': '7.87', 'flag': 0}\n",
      "{'name': 'Andy', 'surname': 'Millers', 'amount': '279.48', 'delta_t': '8.78', 'flag': 1}\n",
      "{'name': 'John', 'surname': 'Smith', 'amount': '287.60', 'delta_t': '1.70', 'flag': 0}\n",
      "{'name': 'Joe', 'surname': 'Johnson', 'amount': '245.02', 'delta_t': '8.50', 'flag': 0}\n",
      "{'name': 'Jill', 'surname': 'Smith', 'amount': '481.61', 'delta_t': '0.14', 'flag': 0}\n",
      "{'name': 'John', 'surname': 'Smith', 'amount': '645.09', 'delta_t': '0.77', 'flag': 0}\n",
      "{'name': 'Alice', 'surname': 'Jones', 'amount': '58.73', 'delta_t': '7.91', 'flag': 1}\n",
      "{'name': 'Joe', 'surname': 'Johnson', 'amount': '909.17', 'delta_t': '9.79', 'flag': 1}\n",
      "{'name': 'Andy', 'surname': 'Millers', 'amount': '714.00', 'delta_t': '3.46', 'flag': 0}\n",
      "{'name': 'Alice', 'surname': 'Millers', 'amount': '321.75', 'delta_t': '1.48', 'flag': 1}\n",
      "...\n",
      "\n"
     ]
    },
    {
     "name": "stderr",
     "output_type": "stream",
     "text": [
      "                                                                                \r"
     ]
    },
    {
     "name": "stdout",
     "output_type": "stream",
     "text": [
      "-------------------------------------------\n",
      "Time: 2023-05-10 07:49:38\n",
      "-------------------------------------------\n",
      "{'name': 'Joe', 'surname': 'Johnson', 'amount': '372.82', 'delta_t': '8.19', 'flag': 0}\n",
      "{'name': 'Alice', 'surname': 'Smith', 'amount': '764.23', 'delta_t': '8.29', 'flag': 0}\n",
      "{'name': 'Joe', 'surname': 'Johnson', 'amount': '524.16', 'delta_t': '5.58', 'flag': 0}\n",
      "{'name': 'John', 'surname': 'Darby', 'amount': '339.05', 'delta_t': '1.99', 'flag': 0}\n",
      "{'name': 'John', 'surname': 'Jones', 'amount': '565.70', 'delta_t': '0.16', 'flag': 0}\n",
      "{'name': 'Andy', 'surname': 'Millers', 'amount': '141.50', 'delta_t': '1.07', 'flag': 0}\n",
      "{'name': 'Alice', 'surname': 'Jones', 'amount': '738.40', 'delta_t': '2.03', 'flag': 0}\n",
      "{'name': 'Alice', 'surname': 'Johnson', 'amount': '39.85', 'delta_t': '6.87', 'flag': 0}\n",
      "{'name': 'Alice', 'surname': 'Johnson', 'amount': '517.39', 'delta_t': '2.66', 'flag': 1}\n",
      "{'name': 'Alice', 'surname': 'Johnson', 'amount': '871.48', 'delta_t': '0.27', 'flag': 0}\n",
      "...\n",
      "\n"
     ]
    },
    {
     "name": "stderr",
     "output_type": "stream",
     "text": [
      "                                                                                \r"
     ]
    },
    {
     "name": "stdout",
     "output_type": "stream",
     "text": [
      "-------------------------------------------\n",
      "Time: 2023-05-10 07:49:40\n",
      "-------------------------------------------\n",
      "{'name': 'Andy', 'surname': 'Smith', 'amount': '112.35', 'delta_t': '7.01', 'flag': 1}\n",
      "{'name': 'Joe', 'surname': 'Johnson', 'amount': '88.80', 'delta_t': '3.08', 'flag': 0}\n",
      "{'name': 'Andy', 'surname': 'Smith', 'amount': '657.20', 'delta_t': '0.19', 'flag': 0}\n",
      "{'name': 'Jill', 'surname': 'Millers', 'amount': '496.03', 'delta_t': '1.65', 'flag': 0}\n",
      "{'name': 'Andy', 'surname': 'Smith', 'amount': '899.78', 'delta_t': '6.32', 'flag': 0}\n",
      "{'name': 'Joe', 'surname': 'Millers', 'amount': '63.42', 'delta_t': '1.94', 'flag': 0}\n",
      "{'name': 'John', 'surname': 'Smith', 'amount': '123.61', 'delta_t': '5.86', 'flag': 0}\n",
      "{'name': 'John', 'surname': 'Jones', 'amount': '682.59', 'delta_t': '9.54', 'flag': 0}\n",
      "{'name': 'Jill', 'surname': 'Darby', 'amount': '439.56', 'delta_t': '1.16', 'flag': 1}\n",
      "{'name': 'John', 'surname': 'Darby', 'amount': '342.58', 'delta_t': '4.03', 'flag': 0}\n",
      "...\n",
      "\n"
     ]
    },
    {
     "name": "stderr",
     "output_type": "stream",
     "text": [
      "                                                                                \r"
     ]
    },
    {
     "name": "stdout",
     "output_type": "stream",
     "text": [
      "-------------------------------------------\n",
      "Time: 2023-05-10 07:49:42\n",
      "-------------------------------------------\n",
      "{'name': 'John', 'surname': 'Jones', 'amount': '427.98', 'delta_t': '6.63', 'flag': 1}\n",
      "{'name': 'Andy', 'surname': 'Jones', 'amount': '920.32', 'delta_t': '9.53', 'flag': 0}\n",
      "{'name': 'John', 'surname': 'Millers', 'amount': '464.87', 'delta_t': '5.31', 'flag': 0}\n",
      "{'name': 'Joe', 'surname': 'Smith', 'amount': '480.44', 'delta_t': '8.46', 'flag': 1}\n",
      "{'name': 'Joe', 'surname': 'Smith', 'amount': '768.14', 'delta_t': '7.89', 'flag': 0}\n",
      "{'name': 'Andy', 'surname': 'Millers', 'amount': '835.99', 'delta_t': '6.31', 'flag': 0}\n",
      "{'name': 'Jill', 'surname': 'Johnson', 'amount': '102.89', 'delta_t': '7.14', 'flag': 0}\n",
      "{'name': 'Alice', 'surname': 'Johnson', 'amount': '950.63', 'delta_t': '1.86', 'flag': 1}\n",
      "{'name': 'Andy', 'surname': 'Darby', 'amount': '619.73', 'delta_t': '2.35', 'flag': 1}\n",
      "{'name': 'Andy', 'surname': 'Johnson', 'amount': '638.12', 'delta_t': '0.16', 'flag': 0}\n",
      "...\n",
      "\n"
     ]
    },
    {
     "name": "stderr",
     "output_type": "stream",
     "text": [
      "                                                                                \r"
     ]
    },
    {
     "name": "stdout",
     "output_type": "stream",
     "text": [
      "-------------------------------------------\n",
      "Time: 2023-05-10 07:49:44\n",
      "-------------------------------------------\n",
      "{'name': 'John', 'surname': 'Jones', 'amount': '350.65', 'delta_t': '3.40', 'flag': 0}\n",
      "{'name': 'John', 'surname': 'Darby', 'amount': '779.11', 'delta_t': '8.02', 'flag': 0}\n",
      "{'name': 'Andy', 'surname': 'Jones', 'amount': '428.11', 'delta_t': '6.26', 'flag': 0}\n",
      "{'name': 'John', 'surname': 'Jones', 'amount': '328.31', 'delta_t': '4.67', 'flag': 0}\n",
      "{'name': 'Alice', 'surname': 'Jones', 'amount': '599.18', 'delta_t': '4.68', 'flag': 0}\n",
      "{'name': 'Andy', 'surname': 'Johnson', 'amount': '260.81', 'delta_t': '4.24', 'flag': 1}\n",
      "{'name': 'Alice', 'surname': 'Millers', 'amount': '699.98', 'delta_t': '7.93', 'flag': 1}\n",
      "{'name': 'Andy', 'surname': 'Jones', 'amount': '38.48', 'delta_t': '4.40', 'flag': 0}\n",
      "{'name': 'John', 'surname': 'Jones', 'amount': '763.38', 'delta_t': '7.39', 'flag': 0}\n",
      "{'name': 'John', 'surname': 'Darby', 'amount': '715.66', 'delta_t': '8.45', 'flag': 0}\n",
      "...\n",
      "\n"
     ]
    },
    {
     "name": "stderr",
     "output_type": "stream",
     "text": [
      "                                                                                \r"
     ]
    },
    {
     "name": "stdout",
     "output_type": "stream",
     "text": [
      "-------------------------------------------\n",
      "Time: 2023-05-10 07:49:46\n",
      "-------------------------------------------\n",
      "{'name': 'Jill', 'surname': 'Jones', 'amount': '673.73', 'delta_t': '3.28', 'flag': 0}\n",
      "{'name': 'Jill', 'surname': 'Darby', 'amount': '911.16', 'delta_t': '4.00', 'flag': 0}\n",
      "{'name': 'Joe', 'surname': 'Jones', 'amount': '492.18', 'delta_t': '3.53', 'flag': 0}\n",
      "{'name': 'Alice', 'surname': 'Johnson', 'amount': '63.63', 'delta_t': '3.88', 'flag': 0}\n",
      "{'name': 'Andy', 'surname': 'Smith', 'amount': '915.50', 'delta_t': '2.04', 'flag': 0}\n",
      "{'name': 'Alice', 'surname': 'Smith', 'amount': '723.61', 'delta_t': '6.78', 'flag': 0}\n",
      "{'name': 'Jill', 'surname': 'Millers', 'amount': '351.51', 'delta_t': '4.45', 'flag': 1}\n",
      "{'name': 'Andy', 'surname': 'Darby', 'amount': '776.86', 'delta_t': '6.70', 'flag': 0}\n",
      "{'name': 'Jill', 'surname': 'Johnson', 'amount': '542.28', 'delta_t': '1.31', 'flag': 0}\n",
      "{'name': 'Jill', 'surname': 'Jones', 'amount': '52.76', 'delta_t': '2.69', 'flag': 0}\n",
      "...\n",
      "\n"
     ]
    },
    {
     "name": "stderr",
     "output_type": "stream",
     "text": [
      "                                                                                \r"
     ]
    },
    {
     "name": "stdout",
     "output_type": "stream",
     "text": [
      "-------------------------------------------\n",
      "Time: 2023-05-10 07:49:48\n",
      "-------------------------------------------\n",
      "{'name': 'Jill', 'surname': 'Darby', 'amount': '748.46', 'delta_t': '7.97', 'flag': 0}\n",
      "{'name': 'Joe', 'surname': 'Smith', 'amount': '961.22', 'delta_t': '7.50', 'flag': 1}\n",
      "{'name': 'Joe', 'surname': 'Millers', 'amount': '258.04', 'delta_t': '6.72', 'flag': 0}\n",
      "{'name': 'Andy', 'surname': 'Millers', 'amount': '357.17', 'delta_t': '6.17', 'flag': 0}\n",
      "{'name': 'Alice', 'surname': 'Smith', 'amount': '243.77', 'delta_t': '6.55', 'flag': 0}\n",
      "{'name': 'Joe', 'surname': 'Johnson', 'amount': '300.80', 'delta_t': '0.86', 'flag': 0}\n",
      "{'name': 'Andy', 'surname': 'Millers', 'amount': '25.26', 'delta_t': '0.18', 'flag': 0}\n",
      "{'name': 'John', 'surname': 'Darby', 'amount': '488.95', 'delta_t': '2.23', 'flag': 0}\n",
      "{'name': 'Jill', 'surname': 'Smith', 'amount': '126.50', 'delta_t': '2.80', 'flag': 0}\n",
      "{'name': 'Jill', 'surname': 'Millers', 'amount': '433.16', 'delta_t': '1.34', 'flag': 0}\n",
      "...\n",
      "\n"
     ]
    },
    {
     "name": "stderr",
     "output_type": "stream",
     "text": [
      "                                                                                \r"
     ]
    },
    {
     "name": "stdout",
     "output_type": "stream",
     "text": [
      "-------------------------------------------\n",
      "Time: 2023-05-10 07:49:50\n",
      "-------------------------------------------\n",
      "{'name': 'Joe', 'surname': 'Johnson', 'amount': '598.69', 'delta_t': '7.46', 'flag': 1}\n",
      "{'name': 'Andy', 'surname': 'Jones', 'amount': '366.06', 'delta_t': '5.11', 'flag': 0}\n",
      "{'name': 'Joe', 'surname': 'Johnson', 'amount': '753.14', 'delta_t': '6.06', 'flag': 1}\n",
      "{'name': 'Jill', 'surname': 'Darby', 'amount': '339.63', 'delta_t': '2.83', 'flag': 0}\n",
      "{'name': 'Andy', 'surname': 'Jones', 'amount': '774.47', 'delta_t': '0.43', 'flag': 0}\n",
      "{'name': 'Jill', 'surname': 'Smith', 'amount': '57.50', 'delta_t': '1.04', 'flag': 0}\n",
      "{'name': 'Andy', 'surname': 'Millers', 'amount': '518.98', 'delta_t': '4.97', 'flag': 0}\n",
      "{'name': 'John', 'surname': 'Jones', 'amount': '826.55', 'delta_t': '1.30', 'flag': 0}\n",
      "{'name': 'John', 'surname': 'Johnson', 'amount': '81.36', 'delta_t': '6.89', 'flag': 0}\n",
      "{'name': 'Jill', 'surname': 'Jones', 'amount': '719.32', 'delta_t': '1.75', 'flag': 0}\n",
      "...\n",
      "\n"
     ]
    },
    {
     "name": "stderr",
     "output_type": "stream",
     "text": [
      "                                                                                \r"
     ]
    },
    {
     "name": "stdout",
     "output_type": "stream",
     "text": [
      "-------------------------------------------\n",
      "Time: 2023-05-10 07:49:52\n",
      "-------------------------------------------\n",
      "{'name': 'Alice', 'surname': 'Millers', 'amount': '137.16', 'delta_t': '6.25', 'flag': 0}\n",
      "{'name': 'Andy', 'surname': 'Jones', 'amount': '582.59', 'delta_t': '2.81', 'flag': 0}\n",
      "{'name': 'Andy', 'surname': 'Johnson', 'amount': '200.18', 'delta_t': '7.65', 'flag': 0}\n",
      "{'name': 'Andy', 'surname': 'Jones', 'amount': '720.59', 'delta_t': '1.88', 'flag': 0}\n",
      "{'name': 'Joe', 'surname': 'Jones', 'amount': '927.71', 'delta_t': '1.54', 'flag': 0}\n",
      "{'name': 'Alice', 'surname': 'Darby', 'amount': '805.91', 'delta_t': '9.16', 'flag': 0}\n",
      "{'name': 'Jill', 'surname': 'Millers', 'amount': '416.50', 'delta_t': '9.03', 'flag': 0}\n",
      "{'name': 'Jill', 'surname': 'Darby', 'amount': '11.96', 'delta_t': '7.15', 'flag': 0}\n",
      "{'name': 'Jill', 'surname': 'Darby', 'amount': '564.30', 'delta_t': '2.42', 'flag': 0}\n",
      "{'name': 'John', 'surname': 'Jones', 'amount': '608.79', 'delta_t': '2.69', 'flag': 0}\n",
      "...\n",
      "\n"
     ]
    },
    {
     "name": "stderr",
     "output_type": "stream",
     "text": [
      "                                                                                \r"
     ]
    },
    {
     "name": "stdout",
     "output_type": "stream",
     "text": [
      "-------------------------------------------\n",
      "Time: 2023-05-10 07:49:54\n",
      "-------------------------------------------\n",
      "{'name': 'Joe', 'surname': 'Millers', 'amount': '252.97', 'delta_t': '8.17', 'flag': 0}\n",
      "{'name': 'John', 'surname': 'Jones', 'amount': '89.41', 'delta_t': '0.41', 'flag': 1}\n",
      "{'name': 'Alice', 'surname': 'Smith', 'amount': '772.27', 'delta_t': '1.03', 'flag': 0}\n",
      "{'name': 'Andy', 'surname': 'Johnson', 'amount': '679.89', 'delta_t': '0.39', 'flag': 0}\n",
      "{'name': 'Joe', 'surname': 'Millers', 'amount': '125.92', 'delta_t': '5.68', 'flag': 0}\n",
      "{'name': 'Andy', 'surname': 'Millers', 'amount': '511.20', 'delta_t': '7.25', 'flag': 0}\n",
      "{'name': 'John', 'surname': 'Johnson', 'amount': '875.63', 'delta_t': '7.33', 'flag': 1}\n",
      "{'name': 'Alice', 'surname': 'Smith', 'amount': '323.06', 'delta_t': '4.44', 'flag': 0}\n",
      "{'name': 'Jill', 'surname': 'Millers', 'amount': '684.87', 'delta_t': '8.36', 'flag': 0}\n",
      "{'name': 'Jill', 'surname': 'Millers', 'amount': '791.37', 'delta_t': '0.27', 'flag': 0}\n",
      "...\n",
      "\n"
     ]
    },
    {
     "name": "stderr",
     "output_type": "stream",
     "text": [
      "                                                                                \r"
     ]
    },
    {
     "name": "stdout",
     "output_type": "stream",
     "text": [
      "-------------------------------------------\n",
      "Time: 2023-05-10 07:49:56\n",
      "-------------------------------------------\n",
      "{'name': 'John', 'surname': 'Jones', 'amount': '158.20', 'delta_t': '7.58', 'flag': 1}\n",
      "{'name': 'Joe', 'surname': 'Millers', 'amount': '539.92', 'delta_t': '4.28', 'flag': 0}\n",
      "{'name': 'John', 'surname': 'Johnson', 'amount': '896.93', 'delta_t': '4.95', 'flag': 0}\n",
      "{'name': 'Alice', 'surname': 'Darby', 'amount': '738.39', 'delta_t': '4.55', 'flag': 0}\n",
      "{'name': 'Joe', 'surname': 'Smith', 'amount': '105.95', 'delta_t': '9.32', 'flag': 0}\n",
      "{'name': 'Alice', 'surname': 'Jones', 'amount': '567.47', 'delta_t': '5.43', 'flag': 0}\n",
      "{'name': 'Alice', 'surname': 'Millers', 'amount': '272.50', 'delta_t': '9.66', 'flag': 0}\n",
      "{'name': 'John', 'surname': 'Johnson', 'amount': '775.75', 'delta_t': '5.33', 'flag': 1}\n",
      "{'name': 'Alice', 'surname': 'Johnson', 'amount': '618.71', 'delta_t': '4.47', 'flag': 0}\n",
      "{'name': 'Andy', 'surname': 'Johnson', 'amount': '752.30', 'delta_t': '6.01', 'flag': 0}\n",
      "...\n",
      "\n"
     ]
    },
    {
     "name": "stderr",
     "output_type": "stream",
     "text": [
      "                                                                                \r"
     ]
    },
    {
     "name": "stdout",
     "output_type": "stream",
     "text": [
      "-------------------------------------------\n",
      "Time: 2023-05-10 07:49:58\n",
      "-------------------------------------------\n",
      "{'name': 'Andy', 'surname': 'Jones', 'amount': '393.20', 'delta_t': '9.30', 'flag': 0}\n",
      "{'name': 'Alice', 'surname': 'Millers', 'amount': '570.23', 'delta_t': '9.76', 'flag': 0}\n",
      "{'name': 'Alice', 'surname': 'Millers', 'amount': '26.42', 'delta_t': '0.76', 'flag': 0}\n",
      "{'name': 'Joe', 'surname': 'Johnson', 'amount': '141.39', 'delta_t': '7.87', 'flag': 0}\n",
      "{'name': 'Alice', 'surname': 'Darby', 'amount': '875.53', 'delta_t': '3.02', 'flag': 0}\n",
      "{'name': 'Jill', 'surname': 'Jones', 'amount': '179.03', 'delta_t': '0.12', 'flag': 0}\n",
      "{'name': 'Alice', 'surname': 'Darby', 'amount': '392.24', 'delta_t': '3.98', 'flag': 0}\n",
      "{'name': 'Joe', 'surname': 'Darby', 'amount': '485.84', 'delta_t': '8.36', 'flag': 0}\n",
      "{'name': 'Joe', 'surname': 'Smith', 'amount': '929.01', 'delta_t': '8.90', 'flag': 0}\n",
      "{'name': 'Jill', 'surname': 'Johnson', 'amount': '808.99', 'delta_t': '9.23', 'flag': 0}\n",
      "...\n",
      "\n"
     ]
    },
    {
     "name": "stderr",
     "output_type": "stream",
     "text": [
      "                                                                                \r"
     ]
    },
    {
     "name": "stdout",
     "output_type": "stream",
     "text": [
      "-------------------------------------------\n",
      "Time: 2023-05-10 07:50:00\n",
      "-------------------------------------------\n",
      "{'name': 'Joe', 'surname': 'Johnson', 'amount': '269.08', 'delta_t': '5.07', 'flag': 0}\n",
      "{'name': 'John', 'surname': 'Millers', 'amount': '747.86', 'delta_t': '8.19', 'flag': 0}\n",
      "{'name': 'Joe', 'surname': 'Darby', 'amount': '277.20', 'delta_t': '7.28', 'flag': 0}\n",
      "{'name': 'Joe', 'surname': 'Johnson', 'amount': '108.94', 'delta_t': '9.50', 'flag': 0}\n",
      "{'name': 'Joe', 'surname': 'Jones', 'amount': '588.01', 'delta_t': '8.85', 'flag': 1}\n",
      "{'name': 'Alice', 'surname': 'Darby', 'amount': '790.84', 'delta_t': '4.13', 'flag': 0}\n",
      "{'name': 'Jill', 'surname': 'Smith', 'amount': '369.33', 'delta_t': '8.80', 'flag': 0}\n",
      "{'name': 'Joe', 'surname': 'Johnson', 'amount': '440.49', 'delta_t': '7.49', 'flag': 1}\n",
      "{'name': 'Andy', 'surname': 'Smith', 'amount': '665.58', 'delta_t': '0.47', 'flag': 1}\n",
      "{'name': 'Joe', 'surname': 'Millers', 'amount': '310.06', 'delta_t': '0.17', 'flag': 0}\n",
      "...\n",
      "\n"
     ]
    },
    {
     "name": "stderr",
     "output_type": "stream",
     "text": [
      "                                                                                \r"
     ]
    },
    {
     "name": "stdout",
     "output_type": "stream",
     "text": [
      "-------------------------------------------\n",
      "Time: 2023-05-10 07:50:02\n",
      "-------------------------------------------\n",
      "{'name': 'John', 'surname': 'Johnson', 'amount': '661.07', 'delta_t': '7.44', 'flag': 0}\n",
      "{'name': 'Alice', 'surname': 'Smith', 'amount': '654.29', 'delta_t': '7.97', 'flag': 0}\n",
      "{'name': 'Alice', 'surname': 'Johnson', 'amount': '76.30', 'delta_t': '1.89', 'flag': 1}\n",
      "{'name': 'Joe', 'surname': 'Darby', 'amount': '429.52', 'delta_t': '3.71', 'flag': 0}\n",
      "{'name': 'Alice', 'surname': 'Darby', 'amount': '480.20', 'delta_t': '1.91', 'flag': 0}\n",
      "{'name': 'John', 'surname': 'Darby', 'amount': '772.96', 'delta_t': '0.82', 'flag': 0}\n",
      "{'name': 'Jill', 'surname': 'Jones', 'amount': '544.48', 'delta_t': '9.00', 'flag': 0}\n",
      "{'name': 'Jill', 'surname': 'Johnson', 'amount': '533.23', 'delta_t': '1.55', 'flag': 1}\n",
      "{'name': 'Jill', 'surname': 'Smith', 'amount': '861.11', 'delta_t': '0.31', 'flag': 0}\n",
      "{'name': 'Andy', 'surname': 'Darby', 'amount': '457.01', 'delta_t': '6.27', 'flag': 1}\n",
      "...\n",
      "\n"
     ]
    },
    {
     "name": "stderr",
     "output_type": "stream",
     "text": [
      "                                                                                \r"
     ]
    },
    {
     "name": "stdout",
     "output_type": "stream",
     "text": [
      "-------------------------------------------\n",
      "Time: 2023-05-10 07:50:04\n",
      "-------------------------------------------\n",
      "{'name': 'John', 'surname': 'Johnson', 'amount': '497.43', 'delta_t': '6.38', 'flag': 0}\n",
      "{'name': 'Andy', 'surname': 'Jones', 'amount': '961.74', 'delta_t': '5.48', 'flag': 0}\n",
      "{'name': 'Andy', 'surname': 'Smith', 'amount': '298.15', 'delta_t': '9.96', 'flag': 0}\n",
      "{'name': 'John', 'surname': 'Darby', 'amount': '285.21', 'delta_t': '1.95', 'flag': 0}\n",
      "{'name': 'John', 'surname': 'Millers', 'amount': '628.66', 'delta_t': '4.92', 'flag': 0}\n",
      "{'name': 'John', 'surname': 'Jones', 'amount': '397.98', 'delta_t': '1.23', 'flag': 1}\n",
      "{'name': 'Alice', 'surname': 'Smith', 'amount': '735.15', 'delta_t': '0.56', 'flag': 0}\n",
      "{'name': 'John', 'surname': 'Darby', 'amount': '516.24', 'delta_t': '1.76', 'flag': 0}\n",
      "{'name': 'Jill', 'surname': 'Smith', 'amount': '150.88', 'delta_t': '0.59', 'flag': 0}\n",
      "{'name': 'Alice', 'surname': 'Millers', 'amount': '647.46', 'delta_t': '5.38', 'flag': 0}\n",
      "...\n",
      "\n"
     ]
    },
    {
     "name": "stderr",
     "output_type": "stream",
     "text": [
      "                                                                                \r"
     ]
    },
    {
     "name": "stdout",
     "output_type": "stream",
     "text": [
      "-------------------------------------------\n",
      "Time: 2023-05-10 07:50:06\n",
      "-------------------------------------------\n",
      "{'name': 'Andy', 'surname': 'Smith', 'amount': '394.97', 'delta_t': '3.61', 'flag': 1}\n",
      "{'name': 'John', 'surname': 'Darby', 'amount': '318.91', 'delta_t': '7.96', 'flag': 0}\n",
      "{'name': 'Joe', 'surname': 'Smith', 'amount': '277.08', 'delta_t': '2.40', 'flag': 0}\n",
      "{'name': 'Joe', 'surname': 'Johnson', 'amount': '590.26', 'delta_t': '1.17', 'flag': 0}\n",
      "{'name': 'Jill', 'surname': 'Smith', 'amount': '667.41', 'delta_t': '0.45', 'flag': 0}\n",
      "{'name': 'John', 'surname': 'Millers', 'amount': '467.26', 'delta_t': '8.46', 'flag': 0}\n",
      "{'name': 'Joe', 'surname': 'Millers', 'amount': '352.72', 'delta_t': '8.52', 'flag': 0}\n",
      "{'name': 'Joe', 'surname': 'Darby', 'amount': '608.26', 'delta_t': '9.22', 'flag': 1}\n",
      "{'name': 'Joe', 'surname': 'Jones', 'amount': '720.70', 'delta_t': '2.07', 'flag': 0}\n",
      "{'name': 'Andy', 'surname': 'Millers', 'amount': '661.65', 'delta_t': '2.21', 'flag': 0}\n",
      "...\n",
      "\n"
     ]
    },
    {
     "name": "stderr",
     "output_type": "stream",
     "text": [
      "                                                                                \r"
     ]
    },
    {
     "name": "stdout",
     "output_type": "stream",
     "text": [
      "-------------------------------------------\n",
      "Time: 2023-05-10 07:50:08\n",
      "-------------------------------------------\n",
      "{'name': 'Alice', 'surname': 'Smith', 'amount': '907.06', 'delta_t': '0.85', 'flag': 0}\n",
      "{'name': 'Andy', 'surname': 'Millers', 'amount': '813.15', 'delta_t': '7.96', 'flag': 1}\n",
      "{'name': 'Alice', 'surname': 'Jones', 'amount': '161.79', 'delta_t': '8.83', 'flag': 0}\n",
      "{'name': 'Joe', 'surname': 'Darby', 'amount': '381.12', 'delta_t': '1.62', 'flag': 0}\n",
      "{'name': 'Andy', 'surname': 'Smith', 'amount': '913.16', 'delta_t': '9.94', 'flag': 0}\n",
      "{'name': 'Alice', 'surname': 'Jones', 'amount': '319.65', 'delta_t': '3.00', 'flag': 0}\n",
      "{'name': 'Jill', 'surname': 'Millers', 'amount': '566.63', 'delta_t': '3.98', 'flag': 1}\n",
      "{'name': 'Joe', 'surname': 'Jones', 'amount': '225.43', 'delta_t': '2.16', 'flag': 0}\n",
      "{'name': 'Alice', 'surname': 'Darby', 'amount': '894.51', 'delta_t': '8.59', 'flag': 0}\n",
      "{'name': 'Joe', 'surname': 'Smith', 'amount': '542.06', 'delta_t': '6.21', 'flag': 0}\n",
      "...\n",
      "\n"
     ]
    },
    {
     "name": "stderr",
     "output_type": "stream",
     "text": [
      "                                                                                \r"
     ]
    },
    {
     "name": "stdout",
     "output_type": "stream",
     "text": [
      "-------------------------------------------\n",
      "Time: 2023-05-10 07:50:10\n",
      "-------------------------------------------\n",
      "{'name': 'Joe', 'surname': 'Darby', 'amount': '966.78', 'delta_t': '6.00', 'flag': 0}\n",
      "{'name': 'Joe', 'surname': 'Johnson', 'amount': '784.71', 'delta_t': '2.99', 'flag': 0}\n",
      "{'name': 'Alice', 'surname': 'Jones', 'amount': '417.20', 'delta_t': '8.03', 'flag': 0}\n",
      "{'name': 'Alice', 'surname': 'Millers', 'amount': '357.27', 'delta_t': '4.84', 'flag': 0}\n",
      "{'name': 'John', 'surname': 'Jones', 'amount': '93.32', 'delta_t': '5.30', 'flag': 0}\n",
      "{'name': 'Jill', 'surname': 'Millers', 'amount': '701.24', 'delta_t': '6.54', 'flag': 0}\n",
      "{'name': 'Alice', 'surname': 'Millers', 'amount': '682.17', 'delta_t': '4.72', 'flag': 0}\n",
      "{'name': 'John', 'surname': 'Darby', 'amount': '422.68', 'delta_t': '7.41', 'flag': 0}\n",
      "{'name': 'Joe', 'surname': 'Johnson', 'amount': '489.44', 'delta_t': '2.08', 'flag': 0}\n",
      "{'name': 'Joe', 'surname': 'Jones', 'amount': '916.30', 'delta_t': '3.89', 'flag': 0}\n",
      "...\n",
      "\n"
     ]
    },
    {
     "name": "stderr",
     "output_type": "stream",
     "text": [
      "                                                                                \r"
     ]
    },
    {
     "name": "stdout",
     "output_type": "stream",
     "text": [
      "-------------------------------------------\n",
      "Time: 2023-05-10 07:50:12\n",
      "-------------------------------------------\n",
      "{'name': 'John', 'surname': 'Darby', 'amount': '584.09', 'delta_t': '6.39', 'flag': 1}\n",
      "{'name': 'Andy', 'surname': 'Millers', 'amount': '284.27', 'delta_t': '3.31', 'flag': 0}\n",
      "{'name': 'Andy', 'surname': 'Darby', 'amount': '838.55', 'delta_t': '1.75', 'flag': 0}\n",
      "{'name': 'Alice', 'surname': 'Jones', 'amount': '151.43', 'delta_t': '9.19', 'flag': 1}\n",
      "{'name': 'Andy', 'surname': 'Smith', 'amount': '843.21', 'delta_t': '9.40', 'flag': 0}\n",
      "{'name': 'Alice', 'surname': 'Johnson', 'amount': '247.02', 'delta_t': '5.43', 'flag': 0}\n",
      "{'name': 'Joe', 'surname': 'Jones', 'amount': '584.74', 'delta_t': '8.39', 'flag': 1}\n",
      "{'name': 'Jill', 'surname': 'Jones', 'amount': '369.15', 'delta_t': '5.39', 'flag': 1}\n",
      "{'name': 'Joe', 'surname': 'Jones', 'amount': '683.91', 'delta_t': '5.92', 'flag': 0}\n",
      "{'name': 'Joe', 'surname': 'Smith', 'amount': '638.87', 'delta_t': '9.57', 'flag': 0}\n",
      "...\n",
      "\n"
     ]
    },
    {
     "name": "stderr",
     "output_type": "stream",
     "text": [
      "                                                                                \r"
     ]
    },
    {
     "name": "stdout",
     "output_type": "stream",
     "text": [
      "-------------------------------------------\n",
      "Time: 2023-05-10 07:50:14\n",
      "-------------------------------------------\n",
      "{'name': 'John', 'surname': 'Johnson', 'amount': '947.83', 'delta_t': '8.41', 'flag': 0}\n",
      "{'name': 'Alice', 'surname': 'Darby', 'amount': '850.02', 'delta_t': '6.56', 'flag': 0}\n",
      "{'name': 'Andy', 'surname': 'Millers', 'amount': '498.32', 'delta_t': '9.17', 'flag': 1}\n",
      "{'name': 'Alice', 'surname': 'Jones', 'amount': '907.20', 'delta_t': '4.20', 'flag': 0}\n",
      "{'name': 'Alice', 'surname': 'Millers', 'amount': '156.79', 'delta_t': '7.16', 'flag': 0}\n",
      "{'name': 'Joe', 'surname': 'Smith', 'amount': '638.08', 'delta_t': '0.15', 'flag': 0}\n",
      "{'name': 'Joe', 'surname': 'Millers', 'amount': '262.27', 'delta_t': '8.31', 'flag': 0}\n",
      "{'name': 'John', 'surname': 'Johnson', 'amount': '315.61', 'delta_t': '8.40', 'flag': 0}\n",
      "{'name': 'Joe', 'surname': 'Johnson', 'amount': '204.11', 'delta_t': '2.09', 'flag': 1}\n",
      "{'name': 'John', 'surname': 'Smith', 'amount': '426.95', 'delta_t': '9.71', 'flag': 0}\n",
      "...\n",
      "\n"
     ]
    },
    {
     "name": "stderr",
     "output_type": "stream",
     "text": [
      "                                                                                \r"
     ]
    },
    {
     "name": "stdout",
     "output_type": "stream",
     "text": [
      "-------------------------------------------\n",
      "Time: 2023-05-10 07:50:16\n",
      "-------------------------------------------\n",
      "{'name': 'Alice', 'surname': 'Jones', 'amount': '993.16', 'delta_t': '4.95', 'flag': 0}\n",
      "{'name': 'Andy', 'surname': 'Johnson', 'amount': '716.59', 'delta_t': '6.91', 'flag': 1}\n",
      "{'name': 'Alice', 'surname': 'Smith', 'amount': '891.30', 'delta_t': '0.20', 'flag': 0}\n",
      "{'name': 'Joe', 'surname': 'Millers', 'amount': '873.77', 'delta_t': '2.60', 'flag': 0}\n",
      "{'name': 'Andy', 'surname': 'Smith', 'amount': '603.36', 'delta_t': '4.24', 'flag': 1}\n",
      "{'name': 'John', 'surname': 'Millers', 'amount': '967.57', 'delta_t': '8.16', 'flag': 1}\n",
      "{'name': 'John', 'surname': 'Millers', 'amount': '367.25', 'delta_t': '3.32', 'flag': 0}\n",
      "{'name': 'John', 'surname': 'Johnson', 'amount': '172.66', 'delta_t': '3.45', 'flag': 0}\n",
      "{'name': 'Jill', 'surname': 'Darby', 'amount': '30.32', 'delta_t': '4.50', 'flag': 0}\n",
      "{'name': 'Joe', 'surname': 'Millers', 'amount': '985.46', 'delta_t': '5.78', 'flag': 0}\n",
      "...\n",
      "\n"
     ]
    },
    {
     "name": "stderr",
     "output_type": "stream",
     "text": [
      "                                                                                \r"
     ]
    },
    {
     "name": "stdout",
     "output_type": "stream",
     "text": [
      "-------------------------------------------\n",
      "Time: 2023-05-10 07:50:18\n",
      "-------------------------------------------\n",
      "{'name': 'John', 'surname': 'Smith', 'amount': '834.32', 'delta_t': '5.51', 'flag': 0}\n",
      "{'name': 'Jill', 'surname': 'Millers', 'amount': '421.23', 'delta_t': '0.99', 'flag': 0}\n",
      "{'name': 'Andy', 'surname': 'Darby', 'amount': '371.27', 'delta_t': '9.93', 'flag': 1}\n",
      "{'name': 'Alice', 'surname': 'Jones', 'amount': '390.42', 'delta_t': '4.75', 'flag': 1}\n",
      "{'name': 'Andy', 'surname': 'Millers', 'amount': '192.35', 'delta_t': '8.98', 'flag': 1}\n",
      "{'name': 'John', 'surname': 'Smith', 'amount': '738.46', 'delta_t': '7.00', 'flag': 0}\n",
      "{'name': 'Jill', 'surname': 'Smith', 'amount': '819.75', 'delta_t': '0.63', 'flag': 0}\n",
      "{'name': 'John', 'surname': 'Millers', 'amount': '501.12', 'delta_t': '2.97', 'flag': 0}\n",
      "{'name': 'Joe', 'surname': 'Smith', 'amount': '993.95', 'delta_t': '7.92', 'flag': 1}\n",
      "{'name': 'Joe', 'surname': 'Smith', 'amount': '943.29', 'delta_t': '8.54', 'flag': 0}\n",
      "...\n",
      "\n"
     ]
    },
    {
     "name": "stderr",
     "output_type": "stream",
     "text": [
      "                                                                                \r"
     ]
    },
    {
     "name": "stdout",
     "output_type": "stream",
     "text": [
      "-------------------------------------------\n",
      "Time: 2023-05-10 07:50:20\n",
      "-------------------------------------------\n",
      "{'name': 'Andy', 'surname': 'Smith', 'amount': '877.51', 'delta_t': '1.59', 'flag': 0}\n",
      "{'name': 'Joe', 'surname': 'Smith', 'amount': '254.40', 'delta_t': '3.46', 'flag': 0}\n",
      "{'name': 'Andy', 'surname': 'Jones', 'amount': '612.78', 'delta_t': '8.24', 'flag': 1}\n",
      "{'name': 'Joe', 'surname': 'Millers', 'amount': '596.45', 'delta_t': '2.94', 'flag': 0}\n",
      "{'name': 'Jill', 'surname': 'Smith', 'amount': '576.83', 'delta_t': '1.72', 'flag': 0}\n",
      "{'name': 'Joe', 'surname': 'Smith', 'amount': '929.68', 'delta_t': '2.79', 'flag': 0}\n",
      "{'name': 'Alice', 'surname': 'Darby', 'amount': '175.50', 'delta_t': '5.38', 'flag': 0}\n",
      "{'name': 'John', 'surname': 'Jones', 'amount': '993.45', 'delta_t': '6.57', 'flag': 0}\n",
      "{'name': 'Alice', 'surname': 'Smith', 'amount': '706.43', 'delta_t': '2.22', 'flag': 0}\n",
      "{'name': 'Joe', 'surname': 'Darby', 'amount': '680.32', 'delta_t': '4.90', 'flag': 0}\n",
      "...\n",
      "\n"
     ]
    },
    {
     "name": "stderr",
     "output_type": "stream",
     "text": [
      "                                                                                \r"
     ]
    },
    {
     "name": "stdout",
     "output_type": "stream",
     "text": [
      "-------------------------------------------\n",
      "Time: 2023-05-10 07:50:22\n",
      "-------------------------------------------\n",
      "{'name': 'Andy', 'surname': 'Darby', 'amount': '971.75', 'delta_t': '5.43', 'flag': 0}\n",
      "{'name': 'Andy', 'surname': 'Millers', 'amount': '798.11', 'delta_t': '0.43', 'flag': 0}\n",
      "{'name': 'Joe', 'surname': 'Johnson', 'amount': '587.03', 'delta_t': '0.74', 'flag': 1}\n",
      "{'name': 'Andy', 'surname': 'Jones', 'amount': '68.22', 'delta_t': '6.54', 'flag': 0}\n",
      "{'name': 'John', 'surname': 'Jones', 'amount': '91.33', 'delta_t': '4.55', 'flag': 1}\n",
      "{'name': 'Jill', 'surname': 'Smith', 'amount': '830.35', 'delta_t': '5.64', 'flag': 0}\n",
      "{'name': 'John', 'surname': 'Johnson', 'amount': '239.18', 'delta_t': '8.32', 'flag': 0}\n",
      "{'name': 'John', 'surname': 'Johnson', 'amount': '11.77', 'delta_t': '4.87', 'flag': 0}\n",
      "{'name': 'Andy', 'surname': 'Millers', 'amount': '790.21', 'delta_t': '9.10', 'flag': 1}\n",
      "{'name': 'Alice', 'surname': 'Darby', 'amount': '623.15', 'delta_t': '7.14', 'flag': 0}\n",
      "...\n",
      "\n"
     ]
    },
    {
     "name": "stderr",
     "output_type": "stream",
     "text": [
      "                                                                                \r"
     ]
    },
    {
     "name": "stdout",
     "output_type": "stream",
     "text": [
      "-------------------------------------------\n",
      "Time: 2023-05-10 07:50:24\n",
      "-------------------------------------------\n",
      "{'name': 'Jill', 'surname': 'Darby', 'amount': '353.19', 'delta_t': '3.02', 'flag': 0}\n",
      "{'name': 'John', 'surname': 'Jones', 'amount': '855.31', 'delta_t': '7.84', 'flag': 0}\n",
      "{'name': 'Andy', 'surname': 'Millers', 'amount': '263.93', 'delta_t': '0.77', 'flag': 0}\n",
      "{'name': 'Alice', 'surname': 'Jones', 'amount': '335.78', 'delta_t': '9.62', 'flag': 0}\n",
      "{'name': 'John', 'surname': 'Johnson', 'amount': '319.96', 'delta_t': '5.02', 'flag': 0}\n",
      "{'name': 'John', 'surname': 'Smith', 'amount': '404.26', 'delta_t': '6.86', 'flag': 1}\n",
      "{'name': 'Alice', 'surname': 'Johnson', 'amount': '311.74', 'delta_t': '9.29', 'flag': 0}\n",
      "{'name': 'Alice', 'surname': 'Johnson', 'amount': '380.70', 'delta_t': '7.02', 'flag': 0}\n",
      "{'name': 'Joe', 'surname': 'Smith', 'amount': '821.44', 'delta_t': '3.69', 'flag': 0}\n",
      "{'name': 'John', 'surname': 'Smith', 'amount': '662.55', 'delta_t': '9.91', 'flag': 0}\n",
      "...\n",
      "\n"
     ]
    },
    {
     "name": "stderr",
     "output_type": "stream",
     "text": [
      "                                                                                \r"
     ]
    },
    {
     "name": "stdout",
     "output_type": "stream",
     "text": [
      "-------------------------------------------\n",
      "Time: 2023-05-10 07:50:26\n",
      "-------------------------------------------\n",
      "{'name': 'Andy', 'surname': 'Smith', 'amount': '210.84', 'delta_t': '5.09', 'flag': 0}\n",
      "{'name': 'Jill', 'surname': 'Millers', 'amount': '486.21', 'delta_t': '9.26', 'flag': 0}\n",
      "{'name': 'Jill', 'surname': 'Darby', 'amount': '514.42', 'delta_t': '2.41', 'flag': 0}\n",
      "{'name': 'Joe', 'surname': 'Millers', 'amount': '644.78', 'delta_t': '0.89', 'flag': 0}\n",
      "{'name': 'Alice', 'surname': 'Millers', 'amount': '350.40', 'delta_t': '4.94', 'flag': 0}\n",
      "{'name': 'Andy', 'surname': 'Darby', 'amount': '785.15', 'delta_t': '0.16', 'flag': 0}\n",
      "{'name': 'Jill', 'surname': 'Millers', 'amount': '985.47', 'delta_t': '7.32', 'flag': 0}\n",
      "{'name': 'Jill', 'surname': 'Darby', 'amount': '910.57', 'delta_t': '2.25', 'flag': 1}\n",
      "{'name': 'Jill', 'surname': 'Johnson', 'amount': '645.43', 'delta_t': '3.64', 'flag': 0}\n",
      "{'name': 'Alice', 'surname': 'Johnson', 'amount': '398.91', 'delta_t': '6.81', 'flag': 1}\n",
      "...\n",
      "\n"
     ]
    },
    {
     "name": "stderr",
     "output_type": "stream",
     "text": [
      "                                                                                \r"
     ]
    },
    {
     "name": "stdout",
     "output_type": "stream",
     "text": [
      "-------------------------------------------\n",
      "Time: 2023-05-10 07:50:28\n",
      "-------------------------------------------\n",
      "{'name': 'John', 'surname': 'Johnson', 'amount': '660.50', 'delta_t': '8.28', 'flag': 1}\n",
      "{'name': 'Alice', 'surname': 'Johnson', 'amount': '812.48', 'delta_t': '8.96', 'flag': 0}\n",
      "{'name': 'Alice', 'surname': 'Darby', 'amount': '662.12', 'delta_t': '0.01', 'flag': 1}\n",
      "{'name': 'Jill', 'surname': 'Darby', 'amount': '74.16', 'delta_t': '2.22', 'flag': 0}\n",
      "{'name': 'Alice', 'surname': 'Millers', 'amount': '847.32', 'delta_t': '2.69', 'flag': 0}\n",
      "{'name': 'John', 'surname': 'Smith', 'amount': '288.61', 'delta_t': '4.51', 'flag': 1}\n",
      "{'name': 'Andy', 'surname': 'Smith', 'amount': '999.55', 'delta_t': '4.06', 'flag': 0}\n",
      "{'name': 'Andy', 'surname': 'Jones', 'amount': '602.60', 'delta_t': '3.87', 'flag': 0}\n",
      "{'name': 'John', 'surname': 'Johnson', 'amount': '614.24', 'delta_t': '9.59', 'flag': 0}\n",
      "{'name': 'Alice', 'surname': 'Johnson', 'amount': '878.40', 'delta_t': '4.65', 'flag': 0}\n",
      "...\n",
      "\n"
     ]
    },
    {
     "name": "stderr",
     "output_type": "stream",
     "text": [
      "                                                                                \r"
     ]
    },
    {
     "name": "stdout",
     "output_type": "stream",
     "text": [
      "-------------------------------------------\n",
      "Time: 2023-05-10 07:50:30\n",
      "-------------------------------------------\n",
      "{'name': 'John', 'surname': 'Millers', 'amount': '774.19', 'delta_t': '1.31', 'flag': 1}\n",
      "{'name': 'Andy', 'surname': 'Millers', 'amount': '741.99', 'delta_t': '9.36', 'flag': 0}\n",
      "{'name': 'Alice', 'surname': 'Jones', 'amount': '961.88', 'delta_t': '3.39', 'flag': 1}\n",
      "{'name': 'Andy', 'surname': 'Darby', 'amount': '873.07', 'delta_t': '3.22', 'flag': 0}\n",
      "{'name': 'Jill', 'surname': 'Johnson', 'amount': '37.25', 'delta_t': '3.80', 'flag': 0}\n",
      "{'name': 'John', 'surname': 'Smith', 'amount': '225.85', 'delta_t': '6.76', 'flag': 0}\n",
      "{'name': 'Alice', 'surname': 'Smith', 'amount': '274.15', 'delta_t': '7.76', 'flag': 0}\n",
      "{'name': 'Joe', 'surname': 'Darby', 'amount': '970.43', 'delta_t': '4.60', 'flag': 1}\n",
      "{'name': 'Jill', 'surname': 'Jones', 'amount': '94.02', 'delta_t': '5.98', 'flag': 0}\n",
      "{'name': 'John', 'surname': 'Darby', 'amount': '846.43', 'delta_t': '5.14', 'flag': 0}\n",
      "...\n",
      "\n"
     ]
    },
    {
     "name": "stderr",
     "output_type": "stream",
     "text": [
      "                                                                                \r"
     ]
    },
    {
     "name": "stdout",
     "output_type": "stream",
     "text": [
      "-------------------------------------------\n",
      "Time: 2023-05-10 07:50:32\n",
      "-------------------------------------------\n",
      "{'name': 'Joe', 'surname': 'Jones', 'amount': '674.50', 'delta_t': '1.33', 'flag': 0}\n",
      "{'name': 'Alice', 'surname': 'Jones', 'amount': '416.16', 'delta_t': '2.26', 'flag': 1}\n",
      "{'name': 'Andy', 'surname': 'Darby', 'amount': '574.81', 'delta_t': '0.48', 'flag': 0}\n",
      "{'name': 'John', 'surname': 'Darby', 'amount': '941.08', 'delta_t': '3.24', 'flag': 1}\n",
      "{'name': 'Andy', 'surname': 'Smith', 'amount': '393.97', 'delta_t': '8.38', 'flag': 0}\n",
      "{'name': 'Andy', 'surname': 'Darby', 'amount': '212.71', 'delta_t': '8.42', 'flag': 0}\n",
      "{'name': 'Andy', 'surname': 'Jones', 'amount': '602.60', 'delta_t': '4.12', 'flag': 0}\n",
      "{'name': 'Andy', 'surname': 'Millers', 'amount': '618.76', 'delta_t': '9.51', 'flag': 0}\n",
      "{'name': 'Alice', 'surname': 'Darby', 'amount': '380.23', 'delta_t': '1.02', 'flag': 0}\n",
      "{'name': 'John', 'surname': 'Smith', 'amount': '510.56', 'delta_t': '8.42', 'flag': 0}\n",
      "...\n",
      "\n"
     ]
    },
    {
     "name": "stderr",
     "output_type": "stream",
     "text": [
      "                                                                                \r"
     ]
    },
    {
     "name": "stdout",
     "output_type": "stream",
     "text": [
      "-------------------------------------------\n",
      "Time: 2023-05-10 07:50:34\n",
      "-------------------------------------------\n",
      "{'name': 'John', 'surname': 'Smith', 'amount': '619.26', 'delta_t': '2.59', 'flag': 0}\n",
      "{'name': 'John', 'surname': 'Darby', 'amount': '715.60', 'delta_t': '8.02', 'flag': 0}\n",
      "{'name': 'Alice', 'surname': 'Johnson', 'amount': '419.78', 'delta_t': '0.51', 'flag': 0}\n",
      "{'name': 'Joe', 'surname': 'Smith', 'amount': '297.08', 'delta_t': '7.07', 'flag': 0}\n",
      "{'name': 'Alice', 'surname': 'Jones', 'amount': '250.02', 'delta_t': '2.57', 'flag': 0}\n",
      "{'name': 'Joe', 'surname': 'Smith', 'amount': '408.40', 'delta_t': '8.69', 'flag': 0}\n",
      "{'name': 'Jill', 'surname': 'Johnson', 'amount': '215.53', 'delta_t': '0.35', 'flag': 1}\n",
      "{'name': 'John', 'surname': 'Jones', 'amount': '103.59', 'delta_t': '9.44', 'flag': 0}\n",
      "{'name': 'Andy', 'surname': 'Johnson', 'amount': '478.43', 'delta_t': '6.94', 'flag': 0}\n",
      "{'name': 'Joe', 'surname': 'Jones', 'amount': '708.90', 'delta_t': '9.75', 'flag': 0}\n",
      "...\n",
      "\n"
     ]
    },
    {
     "name": "stderr",
     "output_type": "stream",
     "text": [
      "                                                                                \r"
     ]
    },
    {
     "name": "stdout",
     "output_type": "stream",
     "text": [
      "-------------------------------------------\n",
      "Time: 2023-05-10 07:50:36\n",
      "-------------------------------------------\n",
      "{'name': 'Alice', 'surname': 'Darby', 'amount': '736.54', 'delta_t': '0.24', 'flag': 0}\n",
      "{'name': 'John', 'surname': 'Johnson', 'amount': '39.62', 'delta_t': '9.62', 'flag': 0}\n",
      "{'name': 'Andy', 'surname': 'Smith', 'amount': '559.65', 'delta_t': '3.31', 'flag': 0}\n",
      "{'name': 'Joe', 'surname': 'Johnson', 'amount': '206.12', 'delta_t': '2.74', 'flag': 0}\n",
      "{'name': 'John', 'surname': 'Millers', 'amount': '700.90', 'delta_t': '6.03', 'flag': 0}\n",
      "{'name': 'Andy', 'surname': 'Darby', 'amount': '577.29', 'delta_t': '8.08', 'flag': 0}\n",
      "{'name': 'Joe', 'surname': 'Millers', 'amount': '444.45', 'delta_t': '6.47', 'flag': 0}\n",
      "{'name': 'Joe', 'surname': 'Johnson', 'amount': '532.50', 'delta_t': '9.42', 'flag': 0}\n",
      "{'name': 'John', 'surname': 'Darby', 'amount': '743.37', 'delta_t': '8.61', 'flag': 0}\n",
      "{'name': 'Joe', 'surname': 'Jones', 'amount': '656.53', 'delta_t': '7.70', 'flag': 0}\n",
      "...\n",
      "\n"
     ]
    },
    {
     "name": "stderr",
     "output_type": "stream",
     "text": [
      "                                                                                \r"
     ]
    },
    {
     "name": "stdout",
     "output_type": "stream",
     "text": [
      "-------------------------------------------\n",
      "Time: 2023-05-10 07:50:38\n",
      "-------------------------------------------\n",
      "{'name': 'Andy', 'surname': 'Darby', 'amount': '476.14', 'delta_t': '7.50', 'flag': 0}\n",
      "{'name': 'Jill', 'surname': 'Jones', 'amount': '81.15', 'delta_t': '7.84', 'flag': 0}\n",
      "{'name': 'Andy', 'surname': 'Smith', 'amount': '55.12', 'delta_t': '5.42', 'flag': 0}\n",
      "{'name': 'Jill', 'surname': 'Millers', 'amount': '809.55', 'delta_t': '2.37', 'flag': 0}\n",
      "{'name': 'Jill', 'surname': 'Jones', 'amount': '599.12', 'delta_t': '5.77', 'flag': 0}\n",
      "{'name': 'John', 'surname': 'Jones', 'amount': '855.22', 'delta_t': '0.56', 'flag': 0}\n",
      "{'name': 'Jill', 'surname': 'Jones', 'amount': '698.51', 'delta_t': '0.52', 'flag': 0}\n",
      "{'name': 'Jill', 'surname': 'Millers', 'amount': '335.80', 'delta_t': '6.08', 'flag': 0}\n",
      "{'name': 'Andy', 'surname': 'Millers', 'amount': '374.03', 'delta_t': '9.25', 'flag': 1}\n",
      "{'name': 'Alice', 'surname': 'Smith', 'amount': '429.29', 'delta_t': '6.51', 'flag': 0}\n",
      "...\n",
      "\n"
     ]
    },
    {
     "name": "stderr",
     "output_type": "stream",
     "text": [
      "\r",
      "[Stage 2:>                                                          (0 + 1) / 1]\r"
     ]
    }
   ],
   "source": [
    "ssc.start()"
   ]
  },
  {
   "cell_type": "code",
   "execution_count": 12,
   "id": "c3b52cdb",
   "metadata": {
    "scrolled": false
   },
   "outputs": [
    {
     "name": "stdout",
     "output_type": "stream",
     "text": [
      "23/05/10 07:50:40 ERROR ReceiverTracker: Deregistered receiver for stream 0: Stopped by driver\n"
     ]
    },
    {
     "name": "stderr",
     "output_type": "stream",
     "text": [
      "\r",
      "                                                                                \r"
     ]
    },
    {
     "name": "stdout",
     "output_type": "stream",
     "text": [
      "23/05/10 07:50:40 ERROR TaskSchedulerImpl: Lost executor 1 on 172.21.0.6: Remote RPC client disassociated. Likely due to containers exceeding thresholds, or network issues. Check driver logs for WARN messages.\n",
      "23/05/10 07:50:40 WARN TaskSetManager: Lost task 1.0 in stage 227.0 (TID 674) (172.21.0.6 executor 1): ExecutorLostFailure (executor 1 exited caused by one of the running tasks) Reason: Remote RPC client disassociated. Likely due to containers exceeding thresholds, or network issues. Check driver logs for WARN messages.\n",
      "-------------------------------------------\n",
      "Time: 2023-05-10 07:50:40\n",
      "-------------------------------------------\n",
      "{'name': 'Jill', 'surname': 'Jones', 'amount': '959.83', 'delta_t': '0.42', 'flag': 1}\n",
      "{'name': 'Andy', 'surname': 'Smith', 'amount': '895.23', 'delta_t': '8.76', 'flag': 0}\n",
      "{'name': 'Joe', 'surname': 'Johnson', 'amount': '755.76', 'delta_t': '7.51', 'flag': 0}\n",
      "{'name': 'Jill', 'surname': 'Jones', 'amount': '962.12', 'delta_t': '6.90', 'flag': 0}\n",
      "{'name': 'John', 'surname': 'Darby', 'amount': '616.92', 'delta_t': '9.58', 'flag': 1}\n",
      "{'name': 'Jill', 'surname': 'Jones', 'amount': '762.12', 'delta_t': '4.10', 'flag': 0}\n",
      "{'name': 'Joe', 'surname': 'Jones', 'amount': '329.64', 'delta_t': '1.67', 'flag': 1}\n",
      "{'name': 'John', 'surname': 'Jones', 'amount': '877.39', 'delta_t': '0.45', 'flag': 0}\n",
      "{'name': 'John', 'surname': 'Millers', 'amount': '533.70', 'delta_t': '3.11', 'flag': 0}\n",
      "{'name': 'John', 'surname': 'Johnson', 'amount': '369.08', 'delta_t': '7.47', 'flag': 0}\n",
      "...\n",
      "\n"
     ]
    }
   ],
   "source": [
    "ssc.stop(stopSparkContext=False)"
   ]
  },
  {
   "cell_type": "markdown",
   "id": "5b8962c5",
   "metadata": {},
   "source": [
    "## Working with Streaming data\n",
    "\n",
    "Now that we know how to stream data into Spark, let's explore how we can perform basic distributed operations on the data.\n",
    "\n",
    "However, before we can proceed, we need to make sure that we have properly restarted the `StreamingContext` object, as the connection between the socket and Spark will be lost when the context is stopped.\n",
    "\n",
    "To restart the streaming context, we need to:\n",
    "1. Create a new `StreamingContext` object (we can reuse the `ssc` object in our case).\n",
    "2. Point it to the correct TCP socket and port where the data is being streamed from.\n",
    "3. Restart the Python producer application.\n",
    "\n",
    "Once the `StreamingContext` is properly set up and running, we can start applying distributed operations to the streaming data. "
   ]
  },
  {
   "cell_type": "code",
   "execution_count": 13,
   "id": "90b929f8",
   "metadata": {},
   "outputs": [],
   "source": [
    "# create a new Spark StreamingContext with a batch wall-time of 2 seconds\n",
    "ssc = StreamingContext(sc, 2) "
   ]
  },
  {
   "cell_type": "code",
   "execution_count": 14,
   "id": "d77b1a11",
   "metadata": {},
   "outputs": [],
   "source": [
    "# define the socket stream using the appropriate endpoint and port\n",
    "socket_stream = ssc.socketTextStream(hostname, portnumber)"
   ]
  },
  {
   "cell_type": "code",
   "execution_count": 15,
   "id": "7960311f",
   "metadata": {},
   "outputs": [],
   "source": [
    "# start the python producer script\n",
    "### from the terminal/WSL shell"
   ]
  },
  {
   "cell_type": "markdown",
   "id": "74bb5cc3",
   "metadata": {},
   "source": [
    "We now start listening on the TCP socket, interpreting the input data stream as `json` loads.\n",
    "\n",
    "**Remember to get rid of the `pprint()` action, that would otherwise be performed continously, dumping the input data into the Jupyter cells.**"
   ]
  },
  {
   "cell_type": "code",
   "execution_count": 16,
   "id": "e75fce98",
   "metadata": {},
   "outputs": [],
   "source": [
    "# create a new json_stream object by reading the json loads from the socket\n",
    "json_stream = socket_stream.map(lambda msg: json.loads(msg))"
   ]
  },
  {
   "cell_type": "markdown",
   "id": "d35f25ac",
   "metadata": {},
   "source": [
    "#### Converting Streaming Data to a DataFrame\n",
    "\n",
    "To make use of Spark's higher-level APIs, we can convert each batch of streaming data into a DataFrame. \n",
    "\n",
    "To do so, we'll first need to convert the numeric features of the incoming JSON data into Python floats and integers. This is a simple type cast operation that can be easily parallelized.\n",
    "\n",
    "After casting the data, we can create a `Row` object for each transaction using the resulting Python dictionary. These `Row` objects can then be used to create a DataFrame, allowing us to use Spark's higher-level APIs for data processing."
   ]
  },
  {
   "cell_type": "code",
   "execution_count": 17,
   "id": "c0782d9c",
   "metadata": {},
   "outputs": [],
   "source": [
    "from pyspark.sql import Row\n",
    "\n",
    "# create a row for each message \n",
    "#   convert each numerical value to the proper python type\n",
    "#   create a row from each message\n",
    "def create_row_rdd(t):\n",
    "    t['amount'] = float(t['amount'])\n",
    "    t['delta_t'] = float(t['delta_t'])\n",
    "    t['flag'] = int(t['flag'])\n",
    "    \n",
    "    return Row(**t)\n",
    "\n",
    "# apply the transformation to the json_stream rdd\n",
    "row_stream = json_stream.map(create_row_rdd)"
   ]
  },
  {
   "cell_type": "markdown",
   "id": "fceaa05f",
   "metadata": {},
   "source": [
    "The method `DStream.foreachRDD` can be used to apply custom transformations to each *batch* of data. \n",
    "\n",
    "In our case, we are insterested in converting each batch of data into a Spark DataFrame and perform operations, such as counting the number of transactions for each user. \n",
    "\n",
    "In this specific use-case, we can identify batches where a user has performed more than one transaction with the `flag` field equal to one as fraudulent. For simplicity, we will assume that these batches represent fraudulent activity.\n",
    "\n",
    "In reality, this might be a flag you might set on the fly using statig-rules or a ML-based model."
   ]
  },
  {
   "cell_type": "markdown",
   "id": "adf8774b",
   "metadata": {},
   "source": [
    "**NOTE**: If left unconstrained, Spark might want to create a very large number of partitions for this streaming application.\n",
    "\n",
    "Using way more partitions than necessary always results in a huge over-head due to the partition-to-partition communications.\n",
    "\n",
    "We can force Spark to use a small yet reasonable (given the problem and resources we have) number of partitions\n",
    "thus making it more efficient in the case of small workloads and few executors"
   ]
  },
  {
   "cell_type": "code",
   "execution_count": 18,
   "id": "7224636b",
   "metadata": {},
   "outputs": [],
   "source": [
    "# this line is a trick to force Spark to use a small number of partitions (4 in this example)\n",
    "spark.conf.set(\"spark.sql.shuffle.partitions\", 4)"
   ]
  },
  {
   "cell_type": "markdown",
   "id": "404abdd5",
   "metadata": {},
   "source": [
    "### Process each bach to identify possibly fraudolent transactions\n",
    "\n",
    "\n",
    "1. convert the RDD into a DataFrame (provide the schema if necessary)\n",
    "2. compute the _number of flagged transactions per batch per user_ (create a unique `userID` field as the combination of _FirstLastname_ to idenfity individual users)\n",
    "3. identify all the \"suspicios\" transactions per user: all users with more than one flagged transaction per batch will be assigned a `isFraud` boolean variable\n",
    "4. format the resulting `userID` and `isFraud` information in a DataFrame to mimick a \"live-report\" of the suspicious transactions"
   ]
  },
  {
   "cell_type": "code",
   "execution_count": 22,
   "id": "81cbd75c",
   "metadata": {},
   "outputs": [],
   "source": [
    "from pyspark.sql.functions import concat, col, lit, countDistinct\n",
    "\n",
    "def process_batch(rdd):\n",
    "    # convert rdd to df\n",
    "    #   check the documentation and/or the Lecture2 notebook \n",
    "    #   for details on how to create and pass a schema to a dataframe   \n",
    "    df = rdd.toDF(\n",
    "        schema = 'name string, surname string, amount float, delta_t float, flag int'\n",
    "    )\n",
    "    \n",
    "    # find number of transactions for each user when flag = 1 \n",
    "    #    declare a new column to create a unique user identifier \n",
    "    #    this can be easily done by concatenating first- and last-name fields\n",
    "    #    check the concat function from pyspark.sql.functions \n",
    "    num_transactions = df.where(col('flag')==1)\\\n",
    "                         .withColumn('id', concat(col('name'), col('surname')))\\\n",
    "                         .groupBy('id')\\\n",
    "                         .count()\n",
    "    \n",
    "    # find suspicious transactions\n",
    "    #    filter only users with more than one transaction per batch\n",
    "    #    create a \"fraud\" column with a value of 1 for the selected users (check the lit function)\n",
    "    #    from the dataframe, project only the unique id and fraud columns\n",
    "    sus_transactions = num_transactions.where(col('count')>1)\\\n",
    "                                        .withColumn('fraud', lit(1))\\\n",
    "                                        .select(col('id'), col('fraud'))\n",
    "    \n",
    "    # (trigger an automatic alert)\n",
    "    # print the first 5 items of the resulting dataframe\n",
    "    sus_transactions.show(5)"
   ]
  },
  {
   "cell_type": "markdown",
   "id": "d5bc37b0",
   "metadata": {},
   "source": [
    "Finally, instruct Spark to execute this `process_batch` function **for each RDD** you will have in your DStream"
   ]
  },
  {
   "cell_type": "code",
   "execution_count": 23,
   "id": "6ac381b8",
   "metadata": {},
   "outputs": [],
   "source": [
    "row_stream.foreachRDD(process_batch)"
   ]
  },
  {
   "cell_type": "markdown",
   "id": "5d51b635",
   "metadata": {},
   "source": [
    "Now you should be ready to start the spark streaming context"
   ]
  },
  {
   "cell_type": "code",
   "execution_count": 24,
   "id": "07b9ee85",
   "metadata": {
    "scrolled": true
   },
   "outputs": [
    {
     "name": "stderr",
     "output_type": "stream",
     "text": [
      "                                                                                \r"
     ]
    },
    {
     "name": "stdout",
     "output_type": "stream",
     "text": [
      "+---+-----+\n",
      "| id|fraud|\n",
      "+---+-----+\n",
      "+---+-----+\n",
      "\n"
     ]
    },
    {
     "name": "stderr",
     "output_type": "stream",
     "text": [
      "                                                                                \r"
     ]
    },
    {
     "name": "stdout",
     "output_type": "stream",
     "text": [
      "+---+-----+\n",
      "| id|fraud|\n",
      "+---+-----+\n",
      "+---+-----+\n",
      "\n"
     ]
    },
    {
     "name": "stderr",
     "output_type": "stream",
     "text": [
      "                                                                                \r"
     ]
    },
    {
     "name": "stdout",
     "output_type": "stream",
     "text": [
      "+------------+-----+\n",
      "|          id|fraud|\n",
      "+------------+-----+\n",
      "|AliceMillers|    1|\n",
      "+------------+-----+\n",
      "\n"
     ]
    },
    {
     "name": "stderr",
     "output_type": "stream",
     "text": [
      "                                                                                \r"
     ]
    },
    {
     "name": "stdout",
     "output_type": "stream",
     "text": [
      "+---+-----+\n",
      "| id|fraud|\n",
      "+---+-----+\n",
      "+---+-----+\n",
      "\n"
     ]
    },
    {
     "name": "stderr",
     "output_type": "stream",
     "text": [
      "                                                                                \r"
     ]
    },
    {
     "name": "stdout",
     "output_type": "stream",
     "text": [
      "+-----------+-----+\n",
      "|         id|fraud|\n",
      "+-----------+-----+\n",
      "|AndyMillers|    1|\n",
      "+-----------+-----+\n",
      "\n"
     ]
    },
    {
     "name": "stderr",
     "output_type": "stream",
     "text": [
      "                                                                                \r"
     ]
    },
    {
     "name": "stdout",
     "output_type": "stream",
     "text": [
      "+---+-----+\n",
      "| id|fraud|\n",
      "+---+-----+\n",
      "+---+-----+\n",
      "\n"
     ]
    },
    {
     "name": "stderr",
     "output_type": "stream",
     "text": [
      "\r",
      "[Stage 230:>                                                        (0 + 1) / 1]\r",
      "\r",
      "                                                                                \r"
     ]
    },
    {
     "name": "stdout",
     "output_type": "stream",
     "text": [
      "+----------+-----+\n",
      "|        id|fraud|\n",
      "+----------+-----+\n",
      "|AliceDarby|    1|\n",
      "+----------+-----+\n",
      "\n"
     ]
    },
    {
     "name": "stderr",
     "output_type": "stream",
     "text": [
      "\r",
      "[Stage 230:>                                                        (0 + 1) / 1]\r",
      "\r",
      "                                                                                \r"
     ]
    },
    {
     "name": "stdout",
     "output_type": "stream",
     "text": [
      "+---+-----+\n",
      "| id|fraud|\n",
      "+---+-----+\n",
      "+---+-----+\n",
      "\n"
     ]
    },
    {
     "name": "stderr",
     "output_type": "stream",
     "text": [
      "                                                                                \r"
     ]
    },
    {
     "name": "stdout",
     "output_type": "stream",
     "text": [
      "+---+-----+\n",
      "| id|fraud|\n",
      "+---+-----+\n",
      "+---+-----+\n",
      "\n"
     ]
    },
    {
     "name": "stderr",
     "output_type": "stream",
     "text": [
      "                                                                                \r"
     ]
    },
    {
     "name": "stdout",
     "output_type": "stream",
     "text": [
      "+---+-----+\n",
      "| id|fraud|\n",
      "+---+-----+\n",
      "+---+-----+\n",
      "\n"
     ]
    },
    {
     "name": "stderr",
     "output_type": "stream",
     "text": [
      "                                                                                \r"
     ]
    },
    {
     "name": "stdout",
     "output_type": "stream",
     "text": [
      "+---+-----+\n",
      "| id|fraud|\n",
      "+---+-----+\n",
      "+---+-----+\n",
      "\n"
     ]
    },
    {
     "name": "stderr",
     "output_type": "stream",
     "text": [
      "                                                                                \r"
     ]
    },
    {
     "name": "stdout",
     "output_type": "stream",
     "text": [
      "+---+-----+\n",
      "| id|fraud|\n",
      "+---+-----+\n",
      "+---+-----+\n",
      "\n"
     ]
    },
    {
     "name": "stderr",
     "output_type": "stream",
     "text": [
      "                                                                                \r"
     ]
    },
    {
     "name": "stdout",
     "output_type": "stream",
     "text": [
      "+----------+-----+\n",
      "|        id|fraud|\n",
      "+----------+-----+\n",
      "|AliceDarby|    1|\n",
      "+----------+-----+\n",
      "\n"
     ]
    },
    {
     "name": "stderr",
     "output_type": "stream",
     "text": [
      "                                                                                \r"
     ]
    },
    {
     "name": "stdout",
     "output_type": "stream",
     "text": [
      "+---+-----+\n",
      "| id|fraud|\n",
      "+---+-----+\n",
      "+---+-----+\n",
      "\n"
     ]
    },
    {
     "name": "stderr",
     "output_type": "stream",
     "text": [
      "                                                                                \r"
     ]
    },
    {
     "name": "stdout",
     "output_type": "stream",
     "text": [
      "+---+-----+\n",
      "| id|fraud|\n",
      "+---+-----+\n",
      "+---+-----+\n",
      "\n"
     ]
    },
    {
     "name": "stderr",
     "output_type": "stream",
     "text": [
      "                                                                                \r"
     ]
    },
    {
     "name": "stdout",
     "output_type": "stream",
     "text": [
      "+---+-----+\n",
      "| id|fraud|\n",
      "+---+-----+\n",
      "+---+-----+\n",
      "\n"
     ]
    },
    {
     "name": "stderr",
     "output_type": "stream",
     "text": [
      "                                                                                \r"
     ]
    },
    {
     "name": "stdout",
     "output_type": "stream",
     "text": [
      "+---+-----+\n",
      "| id|fraud|\n",
      "+---+-----+\n",
      "+---+-----+\n",
      "\n"
     ]
    },
    {
     "name": "stderr",
     "output_type": "stream",
     "text": [
      "                                                                                \r"
     ]
    },
    {
     "name": "stdout",
     "output_type": "stream",
     "text": [
      "+---+-----+\n",
      "| id|fraud|\n",
      "+---+-----+\n",
      "+---+-----+\n",
      "\n"
     ]
    },
    {
     "name": "stderr",
     "output_type": "stream",
     "text": [
      "                                                                                \r"
     ]
    },
    {
     "name": "stdout",
     "output_type": "stream",
     "text": [
      "+---+-----+\n",
      "| id|fraud|\n",
      "+---+-----+\n",
      "+---+-----+\n",
      "\n"
     ]
    },
    {
     "name": "stderr",
     "output_type": "stream",
     "text": [
      "                                                                                \r"
     ]
    },
    {
     "name": "stdout",
     "output_type": "stream",
     "text": [
      "+---+-----+\n",
      "| id|fraud|\n",
      "+---+-----+\n",
      "+---+-----+\n",
      "\n"
     ]
    },
    {
     "name": "stderr",
     "output_type": "stream",
     "text": [
      "                                                                                \r"
     ]
    },
    {
     "name": "stdout",
     "output_type": "stream",
     "text": [
      "+---+-----+\n",
      "| id|fraud|\n",
      "+---+-----+\n",
      "+---+-----+\n",
      "\n"
     ]
    },
    {
     "name": "stderr",
     "output_type": "stream",
     "text": [
      "                                                                                \r"
     ]
    },
    {
     "name": "stdout",
     "output_type": "stream",
     "text": [
      "+---+-----+\n",
      "| id|fraud|\n",
      "+---+-----+\n",
      "+---+-----+\n",
      "\n"
     ]
    },
    {
     "name": "stderr",
     "output_type": "stream",
     "text": [
      "                                                                                \r"
     ]
    },
    {
     "name": "stdout",
     "output_type": "stream",
     "text": [
      "+---+-----+\n",
      "| id|fraud|\n",
      "+---+-----+\n",
      "+---+-----+\n",
      "\n"
     ]
    },
    {
     "name": "stderr",
     "output_type": "stream",
     "text": [
      "                                                                                \r"
     ]
    },
    {
     "name": "stdout",
     "output_type": "stream",
     "text": [
      "+---+-----+\n",
      "| id|fraud|\n",
      "+---+-----+\n",
      "+---+-----+\n",
      "\n"
     ]
    },
    {
     "name": "stderr",
     "output_type": "stream",
     "text": [
      "                                                                                \r"
     ]
    },
    {
     "name": "stdout",
     "output_type": "stream",
     "text": [
      "+---+-----+\n",
      "| id|fraud|\n",
      "+---+-----+\n",
      "+---+-----+\n",
      "\n"
     ]
    },
    {
     "name": "stderr",
     "output_type": "stream",
     "text": [
      "                                                                                \r"
     ]
    },
    {
     "name": "stdout",
     "output_type": "stream",
     "text": [
      "+----------+-----+\n",
      "|        id|fraud|\n",
      "+----------+-----+\n",
      "|AliceSmith|    1|\n",
      "+----------+-----+\n",
      "\n"
     ]
    },
    {
     "name": "stderr",
     "output_type": "stream",
     "text": [
      "                                                                                \r"
     ]
    },
    {
     "name": "stdout",
     "output_type": "stream",
     "text": [
      "+---+-----+\n",
      "| id|fraud|\n",
      "+---+-----+\n",
      "+---+-----+\n",
      "\n"
     ]
    },
    {
     "name": "stderr",
     "output_type": "stream",
     "text": [
      "                                                                                \r"
     ]
    },
    {
     "name": "stdout",
     "output_type": "stream",
     "text": [
      "+---+-----+\n",
      "| id|fraud|\n",
      "+---+-----+\n",
      "+---+-----+\n",
      "\n"
     ]
    },
    {
     "name": "stderr",
     "output_type": "stream",
     "text": [
      "                                                                                \r"
     ]
    },
    {
     "name": "stdout",
     "output_type": "stream",
     "text": [
      "+-----------+-----+\n",
      "|         id|fraud|\n",
      "+-----------+-----+\n",
      "|JohnMillers|    1|\n",
      "+-----------+-----+\n",
      "\n"
     ]
    },
    {
     "name": "stderr",
     "output_type": "stream",
     "text": [
      "                                                                                \r"
     ]
    },
    {
     "name": "stdout",
     "output_type": "stream",
     "text": [
      "+---+-----+\n",
      "| id|fraud|\n",
      "+---+-----+\n",
      "+---+-----+\n",
      "\n"
     ]
    },
    {
     "name": "stderr",
     "output_type": "stream",
     "text": [
      "                                                                                \r"
     ]
    },
    {
     "name": "stdout",
     "output_type": "stream",
     "text": [
      "+---+-----+\n",
      "| id|fraud|\n",
      "+---+-----+\n",
      "+---+-----+\n",
      "\n"
     ]
    },
    {
     "name": "stderr",
     "output_type": "stream",
     "text": [
      "                                                                                \r"
     ]
    },
    {
     "name": "stdout",
     "output_type": "stream",
     "text": [
      "+---+-----+\n",
      "| id|fraud|\n",
      "+---+-----+\n",
      "+---+-----+\n",
      "\n"
     ]
    },
    {
     "name": "stderr",
     "output_type": "stream",
     "text": [
      "                                                                                \r"
     ]
    },
    {
     "name": "stdout",
     "output_type": "stream",
     "text": [
      "+-----------+-----+\n",
      "|         id|fraud|\n",
      "+-----------+-----+\n",
      "|JillMillers|    1|\n",
      "+-----------+-----+\n",
      "\n"
     ]
    },
    {
     "name": "stderr",
     "output_type": "stream",
     "text": [
      "                                                                                \r"
     ]
    },
    {
     "name": "stdout",
     "output_type": "stream",
     "text": [
      "+---+-----+\n",
      "| id|fraud|\n",
      "+---+-----+\n",
      "+---+-----+\n",
      "\n"
     ]
    },
    {
     "name": "stderr",
     "output_type": "stream",
     "text": [
      "                                                                                \r"
     ]
    },
    {
     "name": "stdout",
     "output_type": "stream",
     "text": [
      "+---+-----+\n",
      "| id|fraud|\n",
      "+---+-----+\n",
      "+---+-----+\n",
      "\n"
     ]
    },
    {
     "name": "stderr",
     "output_type": "stream",
     "text": [
      "                                                                                \r"
     ]
    },
    {
     "name": "stdout",
     "output_type": "stream",
     "text": [
      "+---------+-----+\n",
      "|       id|fraud|\n",
      "+---------+-----+\n",
      "|JohnSmith|    1|\n",
      "|JillSmith|    1|\n",
      "+---------+-----+\n",
      "\n"
     ]
    },
    {
     "name": "stderr",
     "output_type": "stream",
     "text": [
      "                                                                                \r"
     ]
    },
    {
     "name": "stdout",
     "output_type": "stream",
     "text": [
      "+---+-----+\n",
      "| id|fraud|\n",
      "+---+-----+\n",
      "+---+-----+\n",
      "\n"
     ]
    },
    {
     "name": "stderr",
     "output_type": "stream",
     "text": [
      "                                                                                \r"
     ]
    },
    {
     "name": "stdout",
     "output_type": "stream",
     "text": [
      "+---+-----+\n",
      "| id|fraud|\n",
      "+---+-----+\n",
      "+---+-----+\n",
      "\n"
     ]
    },
    {
     "name": "stderr",
     "output_type": "stream",
     "text": [
      "                                                                                \r"
     ]
    },
    {
     "name": "stdout",
     "output_type": "stream",
     "text": [
      "+---+-----+\n",
      "| id|fraud|\n",
      "+---+-----+\n",
      "+---+-----+\n",
      "\n"
     ]
    },
    {
     "name": "stderr",
     "output_type": "stream",
     "text": [
      "                                                                                \r"
     ]
    },
    {
     "name": "stdout",
     "output_type": "stream",
     "text": [
      "+---+-----+\n",
      "| id|fraud|\n",
      "+---+-----+\n",
      "+---+-----+\n",
      "\n"
     ]
    },
    {
     "name": "stderr",
     "output_type": "stream",
     "text": [
      "                                                                                \r"
     ]
    },
    {
     "name": "stdout",
     "output_type": "stream",
     "text": [
      "+---+-----+\n",
      "| id|fraud|\n",
      "+---+-----+\n",
      "+---+-----+\n",
      "\n"
     ]
    },
    {
     "name": "stderr",
     "output_type": "stream",
     "text": [
      "                                                                                \r"
     ]
    },
    {
     "name": "stdout",
     "output_type": "stream",
     "text": [
      "+-----------+-----+\n",
      "|         id|fraud|\n",
      "+-----------+-----+\n",
      "|JillJohnson|    1|\n",
      "+-----------+-----+\n",
      "\n"
     ]
    },
    {
     "name": "stderr",
     "output_type": "stream",
     "text": [
      "                                                                                \r"
     ]
    },
    {
     "name": "stdout",
     "output_type": "stream",
     "text": [
      "+---+-----+\n",
      "| id|fraud|\n",
      "+---+-----+\n",
      "+---+-----+\n",
      "\n"
     ]
    },
    {
     "name": "stderr",
     "output_type": "stream",
     "text": [
      "                                                                                \r"
     ]
    },
    {
     "name": "stdout",
     "output_type": "stream",
     "text": [
      "+---+-----+\n",
      "| id|fraud|\n",
      "+---+-----+\n",
      "+---+-----+\n",
      "\n"
     ]
    },
    {
     "name": "stderr",
     "output_type": "stream",
     "text": [
      "                                                                                \r"
     ]
    },
    {
     "name": "stdout",
     "output_type": "stream",
     "text": [
      "+---+-----+\n",
      "| id|fraud|\n",
      "+---+-----+\n",
      "+---+-----+\n",
      "\n"
     ]
    },
    {
     "name": "stderr",
     "output_type": "stream",
     "text": [
      "                                                                                \r"
     ]
    },
    {
     "name": "stdout",
     "output_type": "stream",
     "text": [
      "+---------+-----+\n",
      "|       id|fraud|\n",
      "+---------+-----+\n",
      "|AndySmith|    1|\n",
      "+---------+-----+\n",
      "\n"
     ]
    },
    {
     "name": "stderr",
     "output_type": "stream",
     "text": [
      "                                                                                \r"
     ]
    },
    {
     "name": "stdout",
     "output_type": "stream",
     "text": [
      "+---+-----+\n",
      "| id|fraud|\n",
      "+---+-----+\n",
      "+---+-----+\n",
      "\n"
     ]
    },
    {
     "name": "stderr",
     "output_type": "stream",
     "text": [
      "                                                                                \r"
     ]
    },
    {
     "name": "stdout",
     "output_type": "stream",
     "text": [
      "+--------+-----+\n",
      "|      id|fraud|\n",
      "+--------+-----+\n",
      "|JoeJones|    1|\n",
      "+--------+-----+\n",
      "\n"
     ]
    },
    {
     "name": "stderr",
     "output_type": "stream",
     "text": [
      "                                                                                \r"
     ]
    },
    {
     "name": "stdout",
     "output_type": "stream",
     "text": [
      "+---+-----+\n",
      "| id|fraud|\n",
      "+---+-----+\n",
      "+---+-----+\n",
      "\n"
     ]
    },
    {
     "name": "stderr",
     "output_type": "stream",
     "text": [
      "\r",
      "[Stage 230:>                                                        (0 + 1) / 1]\r"
     ]
    },
    {
     "name": "stdout",
     "output_type": "stream",
     "text": [
      "+---+-----+\n",
      "| id|fraud|\n",
      "+---+-----+\n",
      "+---+-----+\n",
      "\n"
     ]
    },
    {
     "name": "stderr",
     "output_type": "stream",
     "text": [
      "\r",
      "                                                                                \r"
     ]
    },
    {
     "name": "stdout",
     "output_type": "stream",
     "text": [
      "+---+-----+\n",
      "| id|fraud|\n",
      "+---+-----+\n",
      "+---+-----+\n",
      "\n"
     ]
    },
    {
     "name": "stderr",
     "output_type": "stream",
     "text": [
      "                                                                                \r"
     ]
    },
    {
     "name": "stdout",
     "output_type": "stream",
     "text": [
      "+---+-----+\n",
      "| id|fraud|\n",
      "+---+-----+\n",
      "+---+-----+\n",
      "\n"
     ]
    },
    {
     "name": "stderr",
     "output_type": "stream",
     "text": [
      "\r",
      "[Stage 230:>                                                        (0 + 1) / 1]\r"
     ]
    },
    {
     "name": "stdout",
     "output_type": "stream",
     "text": [
      "+---+-----+\n",
      "| id|fraud|\n",
      "+---+-----+\n",
      "+---+-----+\n",
      "\n"
     ]
    },
    {
     "name": "stderr",
     "output_type": "stream",
     "text": [
      "                                                                                \r"
     ]
    },
    {
     "name": "stdout",
     "output_type": "stream",
     "text": [
      "+---+-----+\n",
      "| id|fraud|\n",
      "+---+-----+\n",
      "+---+-----+\n",
      "\n"
     ]
    },
    {
     "name": "stderr",
     "output_type": "stream",
     "text": [
      "                                                                                \r"
     ]
    },
    {
     "name": "stdout",
     "output_type": "stream",
     "text": [
      "+---+-----+\n",
      "| id|fraud|\n",
      "+---+-----+\n",
      "+---+-----+\n",
      "\n"
     ]
    },
    {
     "name": "stderr",
     "output_type": "stream",
     "text": [
      "                                                                                \r"
     ]
    },
    {
     "name": "stdout",
     "output_type": "stream",
     "text": [
      "+---+-----+\n",
      "| id|fraud|\n",
      "+---+-----+\n",
      "+---+-----+\n",
      "\n"
     ]
    },
    {
     "name": "stderr",
     "output_type": "stream",
     "text": [
      "                                                                                \r"
     ]
    },
    {
     "name": "stdout",
     "output_type": "stream",
     "text": [
      "+-----------+-----+\n",
      "|         id|fraud|\n",
      "+-----------+-----+\n",
      "|AndyJohnson|    1|\n",
      "+-----------+-----+\n",
      "\n"
     ]
    },
    {
     "name": "stderr",
     "output_type": "stream",
     "text": [
      "                                                                                \r"
     ]
    },
    {
     "name": "stdout",
     "output_type": "stream",
     "text": [
      "+---+-----+\n",
      "| id|fraud|\n",
      "+---+-----+\n",
      "+---+-----+\n",
      "\n"
     ]
    },
    {
     "name": "stderr",
     "output_type": "stream",
     "text": [
      "                                                                                \r"
     ]
    },
    {
     "name": "stdout",
     "output_type": "stream",
     "text": [
      "+---+-----+\n",
      "| id|fraud|\n",
      "+---+-----+\n",
      "+---+-----+\n",
      "\n"
     ]
    },
    {
     "name": "stderr",
     "output_type": "stream",
     "text": [
      "                                                                                \r"
     ]
    },
    {
     "name": "stdout",
     "output_type": "stream",
     "text": [
      "+---+-----+\n",
      "| id|fraud|\n",
      "+---+-----+\n",
      "+---+-----+\n",
      "\n"
     ]
    },
    {
     "name": "stderr",
     "output_type": "stream",
     "text": [
      "                                                                                \r"
     ]
    },
    {
     "name": "stdout",
     "output_type": "stream",
     "text": [
      "+---+-----+\n",
      "| id|fraud|\n",
      "+---+-----+\n",
      "+---+-----+\n",
      "\n"
     ]
    },
    {
     "name": "stderr",
     "output_type": "stream",
     "text": [
      "                                                                                \r"
     ]
    },
    {
     "name": "stdout",
     "output_type": "stream",
     "text": [
      "+---+-----+\n",
      "| id|fraud|\n",
      "+---+-----+\n",
      "+---+-----+\n",
      "\n"
     ]
    },
    {
     "name": "stderr",
     "output_type": "stream",
     "text": [
      "                                                                                \r"
     ]
    },
    {
     "name": "stdout",
     "output_type": "stream",
     "text": [
      "+---+-----+\n",
      "| id|fraud|\n",
      "+---+-----+\n",
      "+---+-----+\n",
      "\n"
     ]
    },
    {
     "name": "stderr",
     "output_type": "stream",
     "text": [
      "                                                                                \r"
     ]
    },
    {
     "name": "stdout",
     "output_type": "stream",
     "text": [
      "+---+-----+\n",
      "| id|fraud|\n",
      "+---+-----+\n",
      "+---+-----+\n",
      "\n"
     ]
    },
    {
     "name": "stderr",
     "output_type": "stream",
     "text": [
      "                                                                                \r"
     ]
    },
    {
     "name": "stdout",
     "output_type": "stream",
     "text": [
      "+---+-----+\n",
      "| id|fraud|\n",
      "+---+-----+\n",
      "+---+-----+\n",
      "\n"
     ]
    },
    {
     "name": "stderr",
     "output_type": "stream",
     "text": [
      "                                                                                \r"
     ]
    },
    {
     "name": "stdout",
     "output_type": "stream",
     "text": [
      "+---+-----+\n",
      "| id|fraud|\n",
      "+---+-----+\n",
      "+---+-----+\n",
      "\n"
     ]
    },
    {
     "name": "stderr",
     "output_type": "stream",
     "text": [
      "                                                                                \r"
     ]
    },
    {
     "name": "stdout",
     "output_type": "stream",
     "text": [
      "+-----------+-----+\n",
      "|         id|fraud|\n",
      "+-----------+-----+\n",
      "|JillJohnson|    1|\n",
      "+-----------+-----+\n",
      "\n"
     ]
    },
    {
     "name": "stderr",
     "output_type": "stream",
     "text": [
      "                                                                                \r"
     ]
    },
    {
     "name": "stdout",
     "output_type": "stream",
     "text": [
      "+---+-----+\n",
      "| id|fraud|\n",
      "+---+-----+\n",
      "+---+-----+\n",
      "\n"
     ]
    },
    {
     "name": "stderr",
     "output_type": "stream",
     "text": [
      "                                                                                \r"
     ]
    },
    {
     "name": "stdout",
     "output_type": "stream",
     "text": [
      "+---+-----+\n",
      "| id|fraud|\n",
      "+---+-----+\n",
      "+---+-----+\n",
      "\n"
     ]
    },
    {
     "name": "stderr",
     "output_type": "stream",
     "text": [
      "                                                                                \r"
     ]
    },
    {
     "name": "stdout",
     "output_type": "stream",
     "text": [
      "+---+-----+\n",
      "| id|fraud|\n",
      "+---+-----+\n",
      "+---+-----+\n",
      "\n"
     ]
    },
    {
     "name": "stderr",
     "output_type": "stream",
     "text": [
      "                                                                                \r"
     ]
    },
    {
     "name": "stdout",
     "output_type": "stream",
     "text": [
      "+---+-----+\n",
      "| id|fraud|\n",
      "+---+-----+\n",
      "+---+-----+\n",
      "\n"
     ]
    },
    {
     "name": "stderr",
     "output_type": "stream",
     "text": [
      "                                                                                \r"
     ]
    },
    {
     "name": "stdout",
     "output_type": "stream",
     "text": [
      "+---+-----+\n",
      "| id|fraud|\n",
      "+---+-----+\n",
      "+---+-----+\n",
      "\n"
     ]
    },
    {
     "name": "stderr",
     "output_type": "stream",
     "text": [
      "                                                                                \r"
     ]
    },
    {
     "name": "stdout",
     "output_type": "stream",
     "text": [
      "+---+-----+\n",
      "| id|fraud|\n",
      "+---+-----+\n",
      "+---+-----+\n",
      "\n"
     ]
    },
    {
     "name": "stderr",
     "output_type": "stream",
     "text": [
      "                                                                                \r"
     ]
    },
    {
     "name": "stdout",
     "output_type": "stream",
     "text": [
      "+---+-----+\n",
      "| id|fraud|\n",
      "+---+-----+\n",
      "+---+-----+\n",
      "\n"
     ]
    },
    {
     "name": "stderr",
     "output_type": "stream",
     "text": [
      "                                                                                \r"
     ]
    },
    {
     "name": "stdout",
     "output_type": "stream",
     "text": [
      "+---+-----+\n",
      "| id|fraud|\n",
      "+---+-----+\n",
      "+---+-----+\n",
      "\n"
     ]
    },
    {
     "name": "stderr",
     "output_type": "stream",
     "text": [
      "                                                                                \r"
     ]
    },
    {
     "name": "stdout",
     "output_type": "stream",
     "text": [
      "+---+-----+\n",
      "| id|fraud|\n",
      "+---+-----+\n",
      "+---+-----+\n",
      "\n"
     ]
    },
    {
     "name": "stderr",
     "output_type": "stream",
     "text": [
      "                                                                                \r"
     ]
    },
    {
     "name": "stdout",
     "output_type": "stream",
     "text": [
      "+---+-----+\n",
      "| id|fraud|\n",
      "+---+-----+\n",
      "+---+-----+\n",
      "\n"
     ]
    },
    {
     "name": "stderr",
     "output_type": "stream",
     "text": [
      "                                                                                \r"
     ]
    },
    {
     "name": "stdout",
     "output_type": "stream",
     "text": [
      "+---+-----+\n",
      "| id|fraud|\n",
      "+---+-----+\n",
      "+---+-----+\n",
      "\n"
     ]
    },
    {
     "name": "stderr",
     "output_type": "stream",
     "text": [
      "                                                                                \r"
     ]
    },
    {
     "name": "stdout",
     "output_type": "stream",
     "text": [
      "+---------+-----+\n",
      "|       id|fraud|\n",
      "+---------+-----+\n",
      "|JohnDarby|    1|\n",
      "+---------+-----+\n",
      "\n"
     ]
    },
    {
     "name": "stderr",
     "output_type": "stream",
     "text": [
      "                                                                                \r"
     ]
    },
    {
     "name": "stdout",
     "output_type": "stream",
     "text": [
      "+---+-----+\n",
      "| id|fraud|\n",
      "+---+-----+\n",
      "+---+-----+\n",
      "\n"
     ]
    },
    {
     "name": "stderr",
     "output_type": "stream",
     "text": [
      "                                                                                \r"
     ]
    },
    {
     "name": "stdout",
     "output_type": "stream",
     "text": [
      "+-----------+-----+\n",
      "|         id|fraud|\n",
      "+-----------+-----+\n",
      "|JohnMillers|    1|\n",
      "+-----------+-----+\n",
      "\n"
     ]
    },
    {
     "name": "stderr",
     "output_type": "stream",
     "text": [
      "                                                                                \r"
     ]
    },
    {
     "name": "stdout",
     "output_type": "stream",
     "text": [
      "+---+-----+\n",
      "| id|fraud|\n",
      "+---+-----+\n",
      "+---+-----+\n",
      "\n"
     ]
    },
    {
     "name": "stderr",
     "output_type": "stream",
     "text": [
      "                                                                                \r"
     ]
    },
    {
     "name": "stdout",
     "output_type": "stream",
     "text": [
      "+---------+-----+\n",
      "|       id|fraud|\n",
      "+---------+-----+\n",
      "|AndySmith|    1|\n",
      "+---------+-----+\n",
      "\n"
     ]
    },
    {
     "name": "stderr",
     "output_type": "stream",
     "text": [
      "                                                                                \r"
     ]
    },
    {
     "name": "stdout",
     "output_type": "stream",
     "text": [
      "+---+-----+\n",
      "| id|fraud|\n",
      "+---+-----+\n",
      "+---+-----+\n",
      "\n"
     ]
    },
    {
     "name": "stderr",
     "output_type": "stream",
     "text": [
      "                                                                                \r"
     ]
    },
    {
     "name": "stdout",
     "output_type": "stream",
     "text": [
      "+---+-----+\n",
      "| id|fraud|\n",
      "+---+-----+\n",
      "+---+-----+\n",
      "\n"
     ]
    },
    {
     "name": "stderr",
     "output_type": "stream",
     "text": [
      "                                                                                \r"
     ]
    },
    {
     "name": "stdout",
     "output_type": "stream",
     "text": [
      "+---+-----+\n",
      "| id|fraud|\n",
      "+---+-----+\n",
      "+---+-----+\n",
      "\n"
     ]
    },
    {
     "name": "stderr",
     "output_type": "stream",
     "text": [
      "                                                                                \r"
     ]
    },
    {
     "name": "stdout",
     "output_type": "stream",
     "text": [
      "+---+-----+\n",
      "| id|fraud|\n",
      "+---+-----+\n",
      "+---+-----+\n",
      "\n"
     ]
    },
    {
     "name": "stderr",
     "output_type": "stream",
     "text": [
      "                                                                                \r"
     ]
    },
    {
     "name": "stdout",
     "output_type": "stream",
     "text": [
      "+---+-----+\n",
      "| id|fraud|\n",
      "+---+-----+\n",
      "+---+-----+\n",
      "\n"
     ]
    },
    {
     "name": "stderr",
     "output_type": "stream",
     "text": [
      "                                                                                \r"
     ]
    },
    {
     "name": "stdout",
     "output_type": "stream",
     "text": [
      "+---------+-----+\n",
      "|       id|fraud|\n",
      "+---------+-----+\n",
      "|JohnSmith|    1|\n",
      "+---------+-----+\n",
      "\n"
     ]
    },
    {
     "name": "stderr",
     "output_type": "stream",
     "text": [
      "                                                                                \r"
     ]
    },
    {
     "name": "stdout",
     "output_type": "stream",
     "text": [
      "+---+-----+\n",
      "| id|fraud|\n",
      "+---+-----+\n",
      "+---+-----+\n",
      "\n"
     ]
    },
    {
     "name": "stderr",
     "output_type": "stream",
     "text": [
      "                                                                                \r"
     ]
    },
    {
     "name": "stdout",
     "output_type": "stream",
     "text": [
      "+---+-----+\n",
      "| id|fraud|\n",
      "+---+-----+\n",
      "+---+-----+\n",
      "\n"
     ]
    },
    {
     "name": "stderr",
     "output_type": "stream",
     "text": [
      "                                                                                \r"
     ]
    },
    {
     "name": "stdout",
     "output_type": "stream",
     "text": [
      "+---+-----+\n",
      "| id|fraud|\n",
      "+---+-----+\n",
      "+---+-----+\n",
      "\n"
     ]
    },
    {
     "name": "stderr",
     "output_type": "stream",
     "text": [
      "                                                                                \r"
     ]
    },
    {
     "name": "stdout",
     "output_type": "stream",
     "text": [
      "+--------+-----+\n",
      "|      id|fraud|\n",
      "+--------+-----+\n",
      "|JoeJones|    1|\n",
      "+--------+-----+\n",
      "\n"
     ]
    },
    {
     "name": "stderr",
     "output_type": "stream",
     "text": [
      "                                                                                \r"
     ]
    },
    {
     "name": "stdout",
     "output_type": "stream",
     "text": [
      "+---+-----+\n",
      "| id|fraud|\n",
      "+---+-----+\n",
      "+---+-----+\n",
      "\n"
     ]
    },
    {
     "name": "stderr",
     "output_type": "stream",
     "text": [
      "                                                                                \r"
     ]
    },
    {
     "name": "stdout",
     "output_type": "stream",
     "text": [
      "+----------+-----+\n",
      "|        id|fraud|\n",
      "+----------+-----+\n",
      "|AliceSmith|    1|\n",
      "+----------+-----+\n",
      "\n"
     ]
    },
    {
     "name": "stderr",
     "output_type": "stream",
     "text": [
      "                                                                                \r"
     ]
    },
    {
     "name": "stdout",
     "output_type": "stream",
     "text": [
      "+------------+-----+\n",
      "|          id|fraud|\n",
      "+------------+-----+\n",
      "|AliceMillers|    1|\n",
      "+------------+-----+\n",
      "\n"
     ]
    },
    {
     "name": "stderr",
     "output_type": "stream",
     "text": [
      "                                                                                \r"
     ]
    },
    {
     "name": "stdout",
     "output_type": "stream",
     "text": [
      "+-----------+-----+\n",
      "|         id|fraud|\n",
      "+-----------+-----+\n",
      "|AndyMillers|    1|\n",
      "+-----------+-----+\n",
      "\n"
     ]
    },
    {
     "name": "stderr",
     "output_type": "stream",
     "text": [
      "                                                                                \r"
     ]
    },
    {
     "name": "stdout",
     "output_type": "stream",
     "text": [
      "+---+-----+\n",
      "| id|fraud|\n",
      "+---+-----+\n",
      "+---+-----+\n",
      "\n"
     ]
    },
    {
     "name": "stderr",
     "output_type": "stream",
     "text": [
      "                                                                                \r"
     ]
    },
    {
     "name": "stdout",
     "output_type": "stream",
     "text": [
      "+---+-----+\n",
      "| id|fraud|\n",
      "+---+-----+\n",
      "+---+-----+\n",
      "\n"
     ]
    },
    {
     "name": "stderr",
     "output_type": "stream",
     "text": [
      "                                                                                \r"
     ]
    },
    {
     "name": "stdout",
     "output_type": "stream",
     "text": [
      "+---+-----+\n",
      "| id|fraud|\n",
      "+---+-----+\n",
      "+---+-----+\n",
      "\n"
     ]
    },
    {
     "name": "stderr",
     "output_type": "stream",
     "text": [
      "                                                                                \r"
     ]
    },
    {
     "name": "stdout",
     "output_type": "stream",
     "text": [
      "+---+-----+\n",
      "| id|fraud|\n",
      "+---+-----+\n",
      "+---+-----+\n",
      "\n"
     ]
    },
    {
     "name": "stderr",
     "output_type": "stream",
     "text": [
      "                                                                                \r"
     ]
    },
    {
     "name": "stdout",
     "output_type": "stream",
     "text": [
      "+---+-----+\n",
      "| id|fraud|\n",
      "+---+-----+\n",
      "+---+-----+\n",
      "\n"
     ]
    },
    {
     "name": "stderr",
     "output_type": "stream",
     "text": [
      "                                                                                \r"
     ]
    },
    {
     "name": "stdout",
     "output_type": "stream",
     "text": [
      "+----------+-----+\n",
      "|        id|fraud|\n",
      "+----------+-----+\n",
      "|AliceDarby|    1|\n",
      "+----------+-----+\n",
      "\n"
     ]
    },
    {
     "name": "stderr",
     "output_type": "stream",
     "text": [
      "                                                                                \r"
     ]
    },
    {
     "name": "stdout",
     "output_type": "stream",
     "text": [
      "+----------+-----+\n",
      "|        id|fraud|\n",
      "+----------+-----+\n",
      "|JoeMillers|    1|\n",
      "+----------+-----+\n",
      "\n"
     ]
    },
    {
     "name": "stderr",
     "output_type": "stream",
     "text": [
      "                                                                                \r"
     ]
    },
    {
     "name": "stdout",
     "output_type": "stream",
     "text": [
      "+---+-----+\n",
      "| id|fraud|\n",
      "+---+-----+\n",
      "+---+-----+\n",
      "\n"
     ]
    },
    {
     "name": "stderr",
     "output_type": "stream",
     "text": [
      "                                                                                \r"
     ]
    },
    {
     "name": "stdout",
     "output_type": "stream",
     "text": [
      "+---------+-----+\n",
      "|       id|fraud|\n",
      "+---------+-----+\n",
      "|AndySmith|    1|\n",
      "+---------+-----+\n",
      "\n"
     ]
    },
    {
     "name": "stderr",
     "output_type": "stream",
     "text": [
      "                                                                                \r"
     ]
    },
    {
     "name": "stdout",
     "output_type": "stream",
     "text": [
      "+---+-----+\n",
      "| id|fraud|\n",
      "+---+-----+\n",
      "+---+-----+\n",
      "\n"
     ]
    },
    {
     "name": "stderr",
     "output_type": "stream",
     "text": [
      "                                                                                \r"
     ]
    },
    {
     "name": "stdout",
     "output_type": "stream",
     "text": [
      "+---+-----+\n",
      "| id|fraud|\n",
      "+---+-----+\n",
      "+---+-----+\n",
      "\n"
     ]
    },
    {
     "name": "stderr",
     "output_type": "stream",
     "text": [
      "                                                                                \r"
     ]
    },
    {
     "name": "stdout",
     "output_type": "stream",
     "text": [
      "+---+-----+\n",
      "| id|fraud|\n",
      "+---+-----+\n",
      "+---+-----+\n",
      "\n"
     ]
    },
    {
     "name": "stderr",
     "output_type": "stream",
     "text": [
      "                                                                                \r"
     ]
    },
    {
     "name": "stdout",
     "output_type": "stream",
     "text": [
      "+---+-----+\n",
      "| id|fraud|\n",
      "+---+-----+\n",
      "+---+-----+\n",
      "\n"
     ]
    },
    {
     "name": "stderr",
     "output_type": "stream",
     "text": [
      "                                                                                \r"
     ]
    },
    {
     "name": "stdout",
     "output_type": "stream",
     "text": [
      "+---+-----+\n",
      "| id|fraud|\n",
      "+---+-----+\n",
      "+---+-----+\n",
      "\n"
     ]
    },
    {
     "name": "stderr",
     "output_type": "stream",
     "text": [
      "                                                                                \r"
     ]
    },
    {
     "name": "stdout",
     "output_type": "stream",
     "text": [
      "+----------+-----+\n",
      "|        id|fraud|\n",
      "+----------+-----+\n",
      "|AliceJones|    1|\n",
      "+----------+-----+\n",
      "\n"
     ]
    },
    {
     "name": "stderr",
     "output_type": "stream",
     "text": [
      "                                                                                \r"
     ]
    },
    {
     "name": "stdout",
     "output_type": "stream",
     "text": [
      "+---+-----+\n",
      "| id|fraud|\n",
      "+---+-----+\n",
      "+---+-----+\n",
      "\n"
     ]
    },
    {
     "name": "stderr",
     "output_type": "stream",
     "text": [
      "                                                                                \r"
     ]
    },
    {
     "name": "stdout",
     "output_type": "stream",
     "text": [
      "+---+-----+\n",
      "| id|fraud|\n",
      "+---+-----+\n",
      "+---+-----+\n",
      "\n"
     ]
    },
    {
     "name": "stderr",
     "output_type": "stream",
     "text": [
      "                                                                                \r"
     ]
    },
    {
     "name": "stdout",
     "output_type": "stream",
     "text": [
      "+---+-----+\n",
      "| id|fraud|\n",
      "+---+-----+\n",
      "+---+-----+\n",
      "\n"
     ]
    },
    {
     "name": "stderr",
     "output_type": "stream",
     "text": [
      "                                                                                \r"
     ]
    },
    {
     "name": "stdout",
     "output_type": "stream",
     "text": [
      "+----------+-----+\n",
      "|        id|fraud|\n",
      "+----------+-----+\n",
      "|JoeMillers|    1|\n",
      "+----------+-----+\n",
      "\n"
     ]
    },
    {
     "name": "stderr",
     "output_type": "stream",
     "text": [
      "                                                                                \r"
     ]
    },
    {
     "name": "stdout",
     "output_type": "stream",
     "text": [
      "+---+-----+\n",
      "| id|fraud|\n",
      "+---+-----+\n",
      "+---+-----+\n",
      "\n"
     ]
    },
    {
     "name": "stderr",
     "output_type": "stream",
     "text": [
      "                                                                                \r"
     ]
    },
    {
     "name": "stdout",
     "output_type": "stream",
     "text": [
      "+---------+-----+\n",
      "|       id|fraud|\n",
      "+---------+-----+\n",
      "|AndyDarby|    1|\n",
      "+---------+-----+\n",
      "\n"
     ]
    },
    {
     "name": "stderr",
     "output_type": "stream",
     "text": [
      "                                                                                \r"
     ]
    },
    {
     "name": "stdout",
     "output_type": "stream",
     "text": [
      "+---+-----+\n",
      "| id|fraud|\n",
      "+---+-----+\n",
      "+---+-----+\n",
      "\n"
     ]
    },
    {
     "name": "stderr",
     "output_type": "stream",
     "text": [
      "                                                                                \r"
     ]
    },
    {
     "name": "stdout",
     "output_type": "stream",
     "text": [
      "+---+-----+\n",
      "| id|fraud|\n",
      "+---+-----+\n",
      "+---+-----+\n",
      "\n"
     ]
    },
    {
     "name": "stderr",
     "output_type": "stream",
     "text": [
      "                                                                                \r"
     ]
    },
    {
     "name": "stdout",
     "output_type": "stream",
     "text": [
      "+---+-----+\n",
      "| id|fraud|\n",
      "+---+-----+\n",
      "+---+-----+\n",
      "\n"
     ]
    },
    {
     "name": "stderr",
     "output_type": "stream",
     "text": [
      "                                                                                \r"
     ]
    },
    {
     "name": "stdout",
     "output_type": "stream",
     "text": [
      "+-----------+-----+\n",
      "|         id|fraud|\n",
      "+-----------+-----+\n",
      "|JillMillers|    1|\n",
      "+-----------+-----+\n",
      "\n"
     ]
    },
    {
     "name": "stderr",
     "output_type": "stream",
     "text": [
      "                                                                                \r"
     ]
    },
    {
     "name": "stdout",
     "output_type": "stream",
     "text": [
      "+---+-----+\n",
      "| id|fraud|\n",
      "+---+-----+\n",
      "+---+-----+\n",
      "\n"
     ]
    },
    {
     "name": "stderr",
     "output_type": "stream",
     "text": [
      "                                                                                \r"
     ]
    },
    {
     "name": "stdout",
     "output_type": "stream",
     "text": [
      "+---+-----+\n",
      "| id|fraud|\n",
      "+---+-----+\n",
      "+---+-----+\n",
      "\n"
     ]
    },
    {
     "name": "stderr",
     "output_type": "stream",
     "text": [
      "                                                                                \r"
     ]
    },
    {
     "name": "stdout",
     "output_type": "stream",
     "text": [
      "+---------+-----+\n",
      "|       id|fraud|\n",
      "+---------+-----+\n",
      "|JillJones|    1|\n",
      "+---------+-----+\n",
      "\n"
     ]
    },
    {
     "name": "stderr",
     "output_type": "stream",
     "text": [
      "                                                                                \r"
     ]
    },
    {
     "name": "stdout",
     "output_type": "stream",
     "text": [
      "+---+-----+\n",
      "| id|fraud|\n",
      "+---+-----+\n",
      "+---+-----+\n",
      "\n"
     ]
    },
    {
     "name": "stderr",
     "output_type": "stream",
     "text": [
      "                                                                                \r"
     ]
    },
    {
     "name": "stdout",
     "output_type": "stream",
     "text": [
      "+---+-----+\n",
      "| id|fraud|\n",
      "+---+-----+\n",
      "+---+-----+\n",
      "\n"
     ]
    },
    {
     "name": "stderr",
     "output_type": "stream",
     "text": [
      "                                                                                \r"
     ]
    },
    {
     "name": "stdout",
     "output_type": "stream",
     "text": [
      "+---------+-----+\n",
      "|       id|fraud|\n",
      "+---------+-----+\n",
      "|JillSmith|    1|\n",
      "+---------+-----+\n",
      "\n"
     ]
    },
    {
     "name": "stderr",
     "output_type": "stream",
     "text": [
      "                                                                                \r"
     ]
    },
    {
     "name": "stdout",
     "output_type": "stream",
     "text": [
      "+---+-----+\n",
      "| id|fraud|\n",
      "+---+-----+\n",
      "+---+-----+\n",
      "\n"
     ]
    },
    {
     "name": "stderr",
     "output_type": "stream",
     "text": [
      "                                                                                \r"
     ]
    },
    {
     "name": "stdout",
     "output_type": "stream",
     "text": [
      "+---+-----+\n",
      "| id|fraud|\n",
      "+---+-----+\n",
      "+---+-----+\n",
      "\n"
     ]
    },
    {
     "name": "stderr",
     "output_type": "stream",
     "text": [
      "                                                                                \r"
     ]
    },
    {
     "name": "stdout",
     "output_type": "stream",
     "text": [
      "+---+-----+\n",
      "| id|fraud|\n",
      "+---+-----+\n",
      "+---+-----+\n",
      "\n"
     ]
    },
    {
     "name": "stderr",
     "output_type": "stream",
     "text": [
      "                                                                                \r"
     ]
    },
    {
     "name": "stdout",
     "output_type": "stream",
     "text": [
      "+---+-----+\n",
      "| id|fraud|\n",
      "+---+-----+\n",
      "+---+-----+\n",
      "\n"
     ]
    },
    {
     "name": "stderr",
     "output_type": "stream",
     "text": [
      "                                                                                \r"
     ]
    },
    {
     "name": "stdout",
     "output_type": "stream",
     "text": [
      "+---+-----+\n",
      "| id|fraud|\n",
      "+---+-----+\n",
      "+---+-----+\n",
      "\n"
     ]
    },
    {
     "name": "stderr",
     "output_type": "stream",
     "text": [
      "                                                                                \r"
     ]
    },
    {
     "name": "stdout",
     "output_type": "stream",
     "text": [
      "+---------+-----+\n",
      "|       id|fraud|\n",
      "+---------+-----+\n",
      "|AndySmith|    1|\n",
      "+---------+-----+\n",
      "\n"
     ]
    },
    {
     "name": "stderr",
     "output_type": "stream",
     "text": [
      "                                                                                \r"
     ]
    },
    {
     "name": "stdout",
     "output_type": "stream",
     "text": [
      "+---+-----+\n",
      "| id|fraud|\n",
      "+---+-----+\n",
      "+---+-----+\n",
      "\n"
     ]
    },
    {
     "name": "stderr",
     "output_type": "stream",
     "text": [
      "                                                                                \r"
     ]
    },
    {
     "name": "stdout",
     "output_type": "stream",
     "text": [
      "+----------+-----+\n",
      "|        id|fraud|\n",
      "+----------+-----+\n",
      "|AliceSmith|    1|\n",
      "+----------+-----+\n",
      "\n"
     ]
    },
    {
     "name": "stderr",
     "output_type": "stream",
     "text": [
      "                                                                                \r"
     ]
    },
    {
     "name": "stdout",
     "output_type": "stream",
     "text": [
      "+---+-----+\n",
      "| id|fraud|\n",
      "+---+-----+\n",
      "+---+-----+\n",
      "\n"
     ]
    },
    {
     "name": "stderr",
     "output_type": "stream",
     "text": [
      "                                                                                \r"
     ]
    },
    {
     "name": "stdout",
     "output_type": "stream",
     "text": [
      "+---+-----+\n",
      "| id|fraud|\n",
      "+---+-----+\n",
      "+---+-----+\n",
      "\n"
     ]
    },
    {
     "name": "stderr",
     "output_type": "stream",
     "text": [
      "                                                                                \r"
     ]
    },
    {
     "name": "stdout",
     "output_type": "stream",
     "text": [
      "+---+-----+\n",
      "| id|fraud|\n",
      "+---+-----+\n",
      "+---+-----+\n",
      "\n"
     ]
    },
    {
     "name": "stderr",
     "output_type": "stream",
     "text": [
      "                                                                                \r"
     ]
    },
    {
     "name": "stdout",
     "output_type": "stream",
     "text": [
      "+---+-----+\n",
      "| id|fraud|\n",
      "+---+-----+\n",
      "+---+-----+\n",
      "\n"
     ]
    },
    {
     "name": "stderr",
     "output_type": "stream",
     "text": [
      "                                                                                \r"
     ]
    },
    {
     "name": "stdout",
     "output_type": "stream",
     "text": [
      "+---+-----+\n",
      "| id|fraud|\n",
      "+---+-----+\n",
      "+---+-----+\n",
      "\n"
     ]
    },
    {
     "name": "stderr",
     "output_type": "stream",
     "text": [
      "                                                                                \r"
     ]
    },
    {
     "name": "stdout",
     "output_type": "stream",
     "text": [
      "+---------+-----+\n",
      "|       id|fraud|\n",
      "+---------+-----+\n",
      "|AndySmith|    1|\n",
      "|JohnJones|    1|\n",
      "+---------+-----+\n",
      "\n"
     ]
    },
    {
     "name": "stderr",
     "output_type": "stream",
     "text": [
      "                                                                                \r"
     ]
    },
    {
     "name": "stdout",
     "output_type": "stream",
     "text": [
      "+---+-----+\n",
      "| id|fraud|\n",
      "+---+-----+\n",
      "+---+-----+\n",
      "\n"
     ]
    },
    {
     "name": "stderr",
     "output_type": "stream",
     "text": [
      "                                                                                \r"
     ]
    },
    {
     "name": "stdout",
     "output_type": "stream",
     "text": [
      "+---+-----+\n",
      "| id|fraud|\n",
      "+---+-----+\n",
      "+---+-----+\n",
      "\n"
     ]
    },
    {
     "name": "stderr",
     "output_type": "stream",
     "text": [
      "                                                                                \r"
     ]
    },
    {
     "name": "stdout",
     "output_type": "stream",
     "text": [
      "+---+-----+\n",
      "| id|fraud|\n",
      "+---+-----+\n",
      "+---+-----+\n",
      "\n"
     ]
    },
    {
     "name": "stderr",
     "output_type": "stream",
     "text": [
      "                                                                                \r"
     ]
    },
    {
     "name": "stdout",
     "output_type": "stream",
     "text": [
      "+-----------+-----+\n",
      "|         id|fraud|\n",
      "+-----------+-----+\n",
      "|AndyJohnson|    1|\n",
      "+-----------+-----+\n",
      "\n"
     ]
    },
    {
     "name": "stderr",
     "output_type": "stream",
     "text": [
      "                                                                                \r"
     ]
    },
    {
     "name": "stdout",
     "output_type": "stream",
     "text": [
      "+---+-----+\n",
      "| id|fraud|\n",
      "+---+-----+\n",
      "+---+-----+\n",
      "\n"
     ]
    },
    {
     "name": "stderr",
     "output_type": "stream",
     "text": [
      "                                                                                \r"
     ]
    },
    {
     "name": "stdout",
     "output_type": "stream",
     "text": [
      "+---+-----+\n",
      "| id|fraud|\n",
      "+---+-----+\n",
      "+---+-----+\n",
      "\n"
     ]
    },
    {
     "name": "stderr",
     "output_type": "stream",
     "text": [
      "                                                                                \r"
     ]
    },
    {
     "name": "stdout",
     "output_type": "stream",
     "text": [
      "+---+-----+\n",
      "| id|fraud|\n",
      "+---+-----+\n",
      "+---+-----+\n",
      "\n"
     ]
    },
    {
     "name": "stderr",
     "output_type": "stream",
     "text": [
      "                                                                                \r"
     ]
    },
    {
     "name": "stdout",
     "output_type": "stream",
     "text": [
      "+---+-----+\n",
      "| id|fraud|\n",
      "+---+-----+\n",
      "+---+-----+\n",
      "\n"
     ]
    },
    {
     "name": "stderr",
     "output_type": "stream",
     "text": [
      "                                                                                \r"
     ]
    },
    {
     "name": "stdout",
     "output_type": "stream",
     "text": [
      "+---+-----+\n",
      "| id|fraud|\n",
      "+---+-----+\n",
      "+---+-----+\n",
      "\n"
     ]
    },
    {
     "name": "stderr",
     "output_type": "stream",
     "text": [
      "                                                                                \r"
     ]
    },
    {
     "name": "stdout",
     "output_type": "stream",
     "text": [
      "+-----------+-----+\n",
      "|         id|fraud|\n",
      "+-----------+-----+\n",
      "|JohnJohnson|    1|\n",
      "+-----------+-----+\n",
      "\n"
     ]
    },
    {
     "name": "stderr",
     "output_type": "stream",
     "text": [
      "                                                                                \r"
     ]
    },
    {
     "name": "stdout",
     "output_type": "stream",
     "text": [
      "+-----------+-----+\n",
      "|         id|fraud|\n",
      "+-----------+-----+\n",
      "|JohnJohnson|    1|\n",
      "+-----------+-----+\n",
      "\n"
     ]
    },
    {
     "name": "stderr",
     "output_type": "stream",
     "text": [
      "                                                                                \r"
     ]
    },
    {
     "name": "stdout",
     "output_type": "stream",
     "text": [
      "+---+-----+\n",
      "| id|fraud|\n",
      "+---+-----+\n",
      "+---+-----+\n",
      "\n"
     ]
    },
    {
     "name": "stderr",
     "output_type": "stream",
     "text": [
      "                                                                                \r"
     ]
    },
    {
     "name": "stdout",
     "output_type": "stream",
     "text": [
      "+---+-----+\n",
      "| id|fraud|\n",
      "+---+-----+\n",
      "+---+-----+\n",
      "\n"
     ]
    },
    {
     "name": "stderr",
     "output_type": "stream",
     "text": [
      "                                                                                \r"
     ]
    },
    {
     "name": "stdout",
     "output_type": "stream",
     "text": [
      "+---+-----+\n",
      "| id|fraud|\n",
      "+---+-----+\n",
      "+---+-----+\n",
      "\n"
     ]
    },
    {
     "name": "stderr",
     "output_type": "stream",
     "text": [
      "                                                                                \r"
     ]
    },
    {
     "name": "stdout",
     "output_type": "stream",
     "text": [
      "+---------+-----+\n",
      "|       id|fraud|\n",
      "+---------+-----+\n",
      "|JillSmith|    1|\n",
      "+---------+-----+\n",
      "\n"
     ]
    },
    {
     "name": "stderr",
     "output_type": "stream",
     "text": [
      "                                                                                \r"
     ]
    },
    {
     "name": "stdout",
     "output_type": "stream",
     "text": [
      "+---+-----+\n",
      "| id|fraud|\n",
      "+---+-----+\n",
      "+---+-----+\n",
      "\n"
     ]
    },
    {
     "name": "stderr",
     "output_type": "stream",
     "text": [
      "                                                                                \r"
     ]
    },
    {
     "name": "stdout",
     "output_type": "stream",
     "text": [
      "+---------+-----+\n",
      "|       id|fraud|\n",
      "+---------+-----+\n",
      "|JillDarby|    1|\n",
      "+---------+-----+\n",
      "\n"
     ]
    },
    {
     "name": "stderr",
     "output_type": "stream",
     "text": [
      "                                                                                \r"
     ]
    },
    {
     "name": "stdout",
     "output_type": "stream",
     "text": [
      "+---+-----+\n",
      "| id|fraud|\n",
      "+---+-----+\n",
      "+---+-----+\n",
      "\n"
     ]
    },
    {
     "name": "stderr",
     "output_type": "stream",
     "text": [
      "                                                                                \r"
     ]
    },
    {
     "name": "stdout",
     "output_type": "stream",
     "text": [
      "+---+-----+\n",
      "| id|fraud|\n",
      "+---+-----+\n",
      "+---+-----+\n",
      "\n"
     ]
    },
    {
     "name": "stderr",
     "output_type": "stream",
     "text": [
      "                                                                                \r"
     ]
    },
    {
     "name": "stdout",
     "output_type": "stream",
     "text": [
      "+---+-----+\n",
      "| id|fraud|\n",
      "+---+-----+\n",
      "+---+-----+\n",
      "\n"
     ]
    },
    {
     "name": "stderr",
     "output_type": "stream",
     "text": [
      "                                                                                \r"
     ]
    },
    {
     "name": "stdout",
     "output_type": "stream",
     "text": [
      "+---+-----+\n",
      "| id|fraud|\n",
      "+---+-----+\n",
      "+---+-----+\n",
      "\n"
     ]
    },
    {
     "name": "stderr",
     "output_type": "stream",
     "text": [
      "                                                                                \r"
     ]
    },
    {
     "name": "stdout",
     "output_type": "stream",
     "text": [
      "+------------+-----+\n",
      "|          id|fraud|\n",
      "+------------+-----+\n",
      "|AliceJohnson|    1|\n",
      "+------------+-----+\n",
      "\n"
     ]
    },
    {
     "name": "stderr",
     "output_type": "stream",
     "text": [
      "                                                                                \r"
     ]
    },
    {
     "name": "stdout",
     "output_type": "stream",
     "text": [
      "+---+-----+\n",
      "| id|fraud|\n",
      "+---+-----+\n",
      "+---+-----+\n",
      "\n"
     ]
    },
    {
     "name": "stderr",
     "output_type": "stream",
     "text": [
      "                                                                                \r"
     ]
    },
    {
     "name": "stdout",
     "output_type": "stream",
     "text": [
      "+---+-----+\n",
      "| id|fraud|\n",
      "+---+-----+\n",
      "+---+-----+\n",
      "\n"
     ]
    },
    {
     "name": "stderr",
     "output_type": "stream",
     "text": [
      "                                                                                \r"
     ]
    },
    {
     "name": "stdout",
     "output_type": "stream",
     "text": [
      "+---+-----+\n",
      "| id|fraud|\n",
      "+---+-----+\n",
      "+---+-----+\n",
      "\n"
     ]
    },
    {
     "name": "stderr",
     "output_type": "stream",
     "text": [
      "                                                                                \r"
     ]
    },
    {
     "name": "stdout",
     "output_type": "stream",
     "text": [
      "+---+-----+\n",
      "| id|fraud|\n",
      "+---+-----+\n",
      "+---+-----+\n",
      "\n"
     ]
    },
    {
     "name": "stderr",
     "output_type": "stream",
     "text": [
      "                                                                                \r"
     ]
    },
    {
     "name": "stdout",
     "output_type": "stream",
     "text": [
      "+---+-----+\n",
      "| id|fraud|\n",
      "+---+-----+\n",
      "+---+-----+\n",
      "\n"
     ]
    },
    {
     "name": "stderr",
     "output_type": "stream",
     "text": [
      "                                                                                \r"
     ]
    },
    {
     "name": "stdout",
     "output_type": "stream",
     "text": [
      "+---+-----+\n",
      "| id|fraud|\n",
      "+---+-----+\n",
      "+---+-----+\n",
      "\n"
     ]
    },
    {
     "name": "stderr",
     "output_type": "stream",
     "text": [
      "                                                                                \r"
     ]
    },
    {
     "name": "stdout",
     "output_type": "stream",
     "text": [
      "+---+-----+\n",
      "| id|fraud|\n",
      "+---+-----+\n",
      "+---+-----+\n",
      "\n"
     ]
    },
    {
     "name": "stderr",
     "output_type": "stream",
     "text": [
      "                                                                                \r"
     ]
    },
    {
     "name": "stdout",
     "output_type": "stream",
     "text": [
      "+---+-----+\n",
      "| id|fraud|\n",
      "+---+-----+\n",
      "+---+-----+\n",
      "\n"
     ]
    },
    {
     "name": "stderr",
     "output_type": "stream",
     "text": [
      "                                                                                \r"
     ]
    },
    {
     "name": "stdout",
     "output_type": "stream",
     "text": [
      "+---+-----+\n",
      "| id|fraud|\n",
      "+---+-----+\n",
      "+---+-----+\n",
      "\n"
     ]
    },
    {
     "name": "stderr",
     "output_type": "stream",
     "text": [
      "                                                                                \r"
     ]
    },
    {
     "name": "stdout",
     "output_type": "stream",
     "text": [
      "+-----------+-----+\n",
      "|         id|fraud|\n",
      "+-----------+-----+\n",
      "|JohnJohnson|    1|\n",
      "+-----------+-----+\n",
      "\n"
     ]
    },
    {
     "name": "stderr",
     "output_type": "stream",
     "text": [
      "                                                                                \r"
     ]
    },
    {
     "name": "stdout",
     "output_type": "stream",
     "text": [
      "+---+-----+\n",
      "| id|fraud|\n",
      "+---+-----+\n",
      "+---+-----+\n",
      "\n"
     ]
    },
    {
     "name": "stderr",
     "output_type": "stream",
     "text": [
      "                                                                                \r"
     ]
    },
    {
     "name": "stdout",
     "output_type": "stream",
     "text": [
      "+---------+-----+\n",
      "|       id|fraud|\n",
      "+---------+-----+\n",
      "|JohnJones|    1|\n",
      "+---------+-----+\n",
      "\n"
     ]
    },
    {
     "name": "stderr",
     "output_type": "stream",
     "text": [
      "                                                                                \r"
     ]
    },
    {
     "name": "stdout",
     "output_type": "stream",
     "text": [
      "+---+-----+\n",
      "| id|fraud|\n",
      "+---+-----+\n",
      "+---+-----+\n",
      "\n"
     ]
    },
    {
     "name": "stderr",
     "output_type": "stream",
     "text": [
      "                                                                                \r"
     ]
    },
    {
     "name": "stdout",
     "output_type": "stream",
     "text": [
      "+---+-----+\n",
      "| id|fraud|\n",
      "+---+-----+\n",
      "+---+-----+\n",
      "\n"
     ]
    },
    {
     "name": "stderr",
     "output_type": "stream",
     "text": [
      "                                                                                \r"
     ]
    },
    {
     "name": "stdout",
     "output_type": "stream",
     "text": [
      "+---------+-----+\n",
      "|       id|fraud|\n",
      "+---------+-----+\n",
      "|JillJones|    1|\n",
      "+---------+-----+\n",
      "\n"
     ]
    },
    {
     "name": "stderr",
     "output_type": "stream",
     "text": [
      "                                                                                \r"
     ]
    },
    {
     "name": "stdout",
     "output_type": "stream",
     "text": [
      "+---------+-----+\n",
      "|       id|fraud|\n",
      "+---------+-----+\n",
      "|JillJones|    1|\n",
      "+---------+-----+\n",
      "\n"
     ]
    },
    {
     "name": "stderr",
     "output_type": "stream",
     "text": [
      "                                                                                \r"
     ]
    },
    {
     "name": "stdout",
     "output_type": "stream",
     "text": [
      "+---+-----+\n",
      "| id|fraud|\n",
      "+---+-----+\n",
      "+---+-----+\n",
      "\n"
     ]
    },
    {
     "name": "stderr",
     "output_type": "stream",
     "text": [
      "                                                                                \r"
     ]
    },
    {
     "name": "stdout",
     "output_type": "stream",
     "text": [
      "+---+-----+\n",
      "| id|fraud|\n",
      "+---+-----+\n",
      "+---+-----+\n",
      "\n"
     ]
    },
    {
     "name": "stderr",
     "output_type": "stream",
     "text": [
      "                                                                                \r"
     ]
    },
    {
     "name": "stdout",
     "output_type": "stream",
     "text": [
      "+---+-----+\n",
      "| id|fraud|\n",
      "+---+-----+\n",
      "+---+-----+\n",
      "\n"
     ]
    },
    {
     "name": "stderr",
     "output_type": "stream",
     "text": [
      "                                                                                \r"
     ]
    },
    {
     "name": "stdout",
     "output_type": "stream",
     "text": [
      "+---+-----+\n",
      "| id|fraud|\n",
      "+---+-----+\n",
      "+---+-----+\n",
      "\n"
     ]
    },
    {
     "name": "stderr",
     "output_type": "stream",
     "text": [
      "                                                                                \r"
     ]
    },
    {
     "name": "stdout",
     "output_type": "stream",
     "text": [
      "+----------+-----+\n",
      "|        id|fraud|\n",
      "+----------+-----+\n",
      "|AliceJones|    1|\n",
      "+----------+-----+\n",
      "\n"
     ]
    },
    {
     "name": "stderr",
     "output_type": "stream",
     "text": [
      "                                                                                \r"
     ]
    },
    {
     "name": "stdout",
     "output_type": "stream",
     "text": [
      "+---+-----+\n",
      "| id|fraud|\n",
      "+---+-----+\n",
      "+---+-----+\n",
      "\n"
     ]
    },
    {
     "name": "stderr",
     "output_type": "stream",
     "text": [
      "                                                                                \r"
     ]
    },
    {
     "name": "stdout",
     "output_type": "stream",
     "text": [
      "+----------+-----+\n",
      "|        id|fraud|\n",
      "+----------+-----+\n",
      "|AliceDarby|    1|\n",
      "| JillJones|    1|\n",
      "+----------+-----+\n",
      "\n"
     ]
    },
    {
     "name": "stderr",
     "output_type": "stream",
     "text": [
      "                                                                                \r"
     ]
    },
    {
     "name": "stdout",
     "output_type": "stream",
     "text": [
      "+---+-----+\n",
      "| id|fraud|\n",
      "+---+-----+\n",
      "+---+-----+\n",
      "\n"
     ]
    },
    {
     "name": "stderr",
     "output_type": "stream",
     "text": [
      "                                                                                \r"
     ]
    },
    {
     "name": "stdout",
     "output_type": "stream",
     "text": [
      "+---+-----+\n",
      "| id|fraud|\n",
      "+---+-----+\n",
      "+---+-----+\n",
      "\n"
     ]
    },
    {
     "name": "stderr",
     "output_type": "stream",
     "text": [
      "                                                                                \r"
     ]
    },
    {
     "name": "stdout",
     "output_type": "stream",
     "text": [
      "+---+-----+\n",
      "| id|fraud|\n",
      "+---+-----+\n",
      "+---+-----+\n",
      "\n"
     ]
    },
    {
     "name": "stderr",
     "output_type": "stream",
     "text": [
      "                                                                                \r"
     ]
    },
    {
     "name": "stdout",
     "output_type": "stream",
     "text": [
      "+---+-----+\n",
      "| id|fraud|\n",
      "+---+-----+\n",
      "+---+-----+\n",
      "\n"
     ]
    },
    {
     "name": "stderr",
     "output_type": "stream",
     "text": [
      "                                                                                \r"
     ]
    },
    {
     "name": "stdout",
     "output_type": "stream",
     "text": [
      "+---+-----+\n",
      "| id|fraud|\n",
      "+---+-----+\n",
      "+---+-----+\n",
      "\n"
     ]
    },
    {
     "name": "stderr",
     "output_type": "stream",
     "text": [
      "                                                                                \r"
     ]
    },
    {
     "name": "stdout",
     "output_type": "stream",
     "text": [
      "+-----------+-----+\n",
      "|         id|fraud|\n",
      "+-----------+-----+\n",
      "|JohnJohnson|    1|\n",
      "+-----------+-----+\n",
      "\n"
     ]
    },
    {
     "name": "stderr",
     "output_type": "stream",
     "text": [
      "                                                                                \r"
     ]
    },
    {
     "name": "stdout",
     "output_type": "stream",
     "text": [
      "+---+-----+\n",
      "| id|fraud|\n",
      "+---+-----+\n",
      "+---+-----+\n",
      "\n"
     ]
    },
    {
     "name": "stderr",
     "output_type": "stream",
     "text": [
      "                                                                                \r"
     ]
    },
    {
     "name": "stdout",
     "output_type": "stream",
     "text": [
      "+---+-----+\n",
      "| id|fraud|\n",
      "+---+-----+\n",
      "+---+-----+\n",
      "\n"
     ]
    },
    {
     "name": "stderr",
     "output_type": "stream",
     "text": [
      "                                                                                \r"
     ]
    },
    {
     "name": "stdout",
     "output_type": "stream",
     "text": [
      "+---+-----+\n",
      "| id|fraud|\n",
      "+---+-----+\n",
      "+---+-----+\n",
      "\n"
     ]
    },
    {
     "name": "stderr",
     "output_type": "stream",
     "text": [
      "                                                                                \r"
     ]
    },
    {
     "name": "stdout",
     "output_type": "stream",
     "text": [
      "+---+-----+\n",
      "| id|fraud|\n",
      "+---+-----+\n",
      "+---+-----+\n",
      "\n"
     ]
    },
    {
     "name": "stderr",
     "output_type": "stream",
     "text": [
      "                                                                                \r"
     ]
    },
    {
     "name": "stdout",
     "output_type": "stream",
     "text": [
      "+---+-----+\n",
      "| id|fraud|\n",
      "+---+-----+\n",
      "+---+-----+\n",
      "\n"
     ]
    },
    {
     "name": "stderr",
     "output_type": "stream",
     "text": [
      "                                                                                \r"
     ]
    },
    {
     "name": "stdout",
     "output_type": "stream",
     "text": [
      "+---+-----+\n",
      "| id|fraud|\n",
      "+---+-----+\n",
      "+---+-----+\n",
      "\n"
     ]
    },
    {
     "name": "stderr",
     "output_type": "stream",
     "text": [
      "                                                                                \r"
     ]
    },
    {
     "name": "stdout",
     "output_type": "stream",
     "text": [
      "+---+-----+\n",
      "| id|fraud|\n",
      "+---+-----+\n",
      "+---+-----+\n",
      "\n"
     ]
    },
    {
     "name": "stderr",
     "output_type": "stream",
     "text": [
      "                                                                                \r"
     ]
    },
    {
     "name": "stdout",
     "output_type": "stream",
     "text": [
      "+----------+-----+\n",
      "|        id|fraud|\n",
      "+----------+-----+\n",
      "|JoeMillers|    1|\n",
      "|  JoeJones|    1|\n",
      "+----------+-----+\n",
      "\n"
     ]
    },
    {
     "name": "stderr",
     "output_type": "stream",
     "text": [
      "                                                                                \r"
     ]
    },
    {
     "name": "stdout",
     "output_type": "stream",
     "text": [
      "+---+-----+\n",
      "| id|fraud|\n",
      "+---+-----+\n",
      "+---+-----+\n",
      "\n"
     ]
    },
    {
     "name": "stderr",
     "output_type": "stream",
     "text": [
      "                                                                                \r"
     ]
    },
    {
     "name": "stdout",
     "output_type": "stream",
     "text": [
      "+---------+-----+\n",
      "|       id|fraud|\n",
      "+---------+-----+\n",
      "|JillDarby|    1|\n",
      "+---------+-----+\n",
      "\n"
     ]
    },
    {
     "name": "stderr",
     "output_type": "stream",
     "text": [
      "                                                                                \r"
     ]
    },
    {
     "name": "stdout",
     "output_type": "stream",
     "text": [
      "+----------+-----+\n",
      "|        id|fraud|\n",
      "+----------+-----+\n",
      "|AliceJones|    1|\n",
      "+----------+-----+\n",
      "\n"
     ]
    },
    {
     "name": "stderr",
     "output_type": "stream",
     "text": [
      "                                                                                \r"
     ]
    },
    {
     "name": "stdout",
     "output_type": "stream",
     "text": [
      "+-----------+-----+\n",
      "|         id|fraud|\n",
      "+-----------+-----+\n",
      "|JohnMillers|    1|\n",
      "+-----------+-----+\n",
      "\n"
     ]
    },
    {
     "name": "stderr",
     "output_type": "stream",
     "text": [
      "                                                                                \r"
     ]
    },
    {
     "name": "stdout",
     "output_type": "stream",
     "text": [
      "+---+-----+\n",
      "| id|fraud|\n",
      "+---+-----+\n",
      "+---+-----+\n",
      "\n"
     ]
    },
    {
     "name": "stderr",
     "output_type": "stream",
     "text": [
      "                                                                                \r"
     ]
    },
    {
     "name": "stdout",
     "output_type": "stream",
     "text": [
      "+----------+-----+\n",
      "|        id|fraud|\n",
      "+----------+-----+\n",
      "|JoeJohnson|    1|\n",
      "+----------+-----+\n",
      "\n"
     ]
    },
    {
     "name": "stderr",
     "output_type": "stream",
     "text": [
      "                                                                                \r"
     ]
    },
    {
     "name": "stdout",
     "output_type": "stream",
     "text": [
      "+---+-----+\n",
      "| id|fraud|\n",
      "+---+-----+\n",
      "+---+-----+\n",
      "\n"
     ]
    },
    {
     "name": "stderr",
     "output_type": "stream",
     "text": [
      "                                                                                \r"
     ]
    },
    {
     "name": "stdout",
     "output_type": "stream",
     "text": [
      "+---+-----+\n",
      "| id|fraud|\n",
      "+---+-----+\n",
      "+---+-----+\n",
      "\n"
     ]
    },
    {
     "name": "stderr",
     "output_type": "stream",
     "text": [
      "                                                                                \r"
     ]
    },
    {
     "name": "stdout",
     "output_type": "stream",
     "text": [
      "+---+-----+\n",
      "| id|fraud|\n",
      "+---+-----+\n",
      "+---+-----+\n",
      "\n"
     ]
    },
    {
     "name": "stderr",
     "output_type": "stream",
     "text": [
      "                                                                                \r"
     ]
    },
    {
     "name": "stdout",
     "output_type": "stream",
     "text": [
      "+---------+-----+\n",
      "|       id|fraud|\n",
      "+---------+-----+\n",
      "|JohnJones|    1|\n",
      "+---------+-----+\n",
      "\n"
     ]
    },
    {
     "name": "stderr",
     "output_type": "stream",
     "text": [
      "                                                                                \r"
     ]
    },
    {
     "name": "stdout",
     "output_type": "stream",
     "text": [
      "+-----------+-----+\n",
      "|         id|fraud|\n",
      "+-----------+-----+\n",
      "|JillMillers|    1|\n",
      "+-----------+-----+\n",
      "\n"
     ]
    },
    {
     "name": "stderr",
     "output_type": "stream",
     "text": [
      "                                                                                \r"
     ]
    },
    {
     "name": "stdout",
     "output_type": "stream",
     "text": [
      "+---+-----+\n",
      "| id|fraud|\n",
      "+---+-----+\n",
      "+---+-----+\n",
      "\n"
     ]
    },
    {
     "name": "stderr",
     "output_type": "stream",
     "text": [
      "                                                                                \r"
     ]
    },
    {
     "name": "stdout",
     "output_type": "stream",
     "text": [
      "+---+-----+\n",
      "| id|fraud|\n",
      "+---+-----+\n",
      "+---+-----+\n",
      "\n"
     ]
    },
    {
     "name": "stderr",
     "output_type": "stream",
     "text": [
      "                                                                                \r"
     ]
    },
    {
     "name": "stdout",
     "output_type": "stream",
     "text": [
      "+---+-----+\n",
      "| id|fraud|\n",
      "+---+-----+\n",
      "+---+-----+\n",
      "\n"
     ]
    },
    {
     "name": "stderr",
     "output_type": "stream",
     "text": [
      "                                                                                \r"
     ]
    },
    {
     "name": "stdout",
     "output_type": "stream",
     "text": [
      "+---+-----+\n",
      "| id|fraud|\n",
      "+---+-----+\n",
      "+---+-----+\n",
      "\n"
     ]
    },
    {
     "name": "stderr",
     "output_type": "stream",
     "text": [
      "                                                                                \r"
     ]
    },
    {
     "name": "stdout",
     "output_type": "stream",
     "text": [
      "+---+-----+\n",
      "| id|fraud|\n",
      "+---+-----+\n",
      "+---+-----+\n",
      "\n"
     ]
    },
    {
     "name": "stderr",
     "output_type": "stream",
     "text": [
      "                                                                                \r"
     ]
    },
    {
     "name": "stdout",
     "output_type": "stream",
     "text": [
      "+---+-----+\n",
      "| id|fraud|\n",
      "+---+-----+\n",
      "+---+-----+\n",
      "\n"
     ]
    },
    {
     "name": "stderr",
     "output_type": "stream",
     "text": [
      "                                                                                \r"
     ]
    },
    {
     "name": "stdout",
     "output_type": "stream",
     "text": [
      "+---+-----+\n",
      "| id|fraud|\n",
      "+---+-----+\n",
      "+---+-----+\n",
      "\n"
     ]
    },
    {
     "name": "stderr",
     "output_type": "stream",
     "text": [
      "                                                                                \r"
     ]
    },
    {
     "name": "stdout",
     "output_type": "stream",
     "text": [
      "+---+-----+\n",
      "| id|fraud|\n",
      "+---+-----+\n",
      "+---+-----+\n",
      "\n"
     ]
    },
    {
     "name": "stderr",
     "output_type": "stream",
     "text": [
      "                                                                                \r"
     ]
    },
    {
     "name": "stdout",
     "output_type": "stream",
     "text": [
      "+---+-----+\n",
      "| id|fraud|\n",
      "+---+-----+\n",
      "+---+-----+\n",
      "\n"
     ]
    },
    {
     "name": "stderr",
     "output_type": "stream",
     "text": [
      "                                                                                \r"
     ]
    },
    {
     "name": "stdout",
     "output_type": "stream",
     "text": [
      "+---+-----+\n",
      "| id|fraud|\n",
      "+---+-----+\n",
      "+---+-----+\n",
      "\n"
     ]
    },
    {
     "name": "stderr",
     "output_type": "stream",
     "text": [
      "                                                                                \r"
     ]
    },
    {
     "name": "stdout",
     "output_type": "stream",
     "text": [
      "+---+-----+\n",
      "| id|fraud|\n",
      "+---+-----+\n",
      "+---+-----+\n",
      "\n"
     ]
    },
    {
     "name": "stderr",
     "output_type": "stream",
     "text": [
      "                                                                                \r"
     ]
    },
    {
     "name": "stdout",
     "output_type": "stream",
     "text": [
      "+---------+-----+\n",
      "|       id|fraud|\n",
      "+---------+-----+\n",
      "|JohnJones|    1|\n",
      "|JillJones|    1|\n",
      "+---------+-----+\n",
      "\n"
     ]
    },
    {
     "name": "stderr",
     "output_type": "stream",
     "text": [
      "                                                                                \r"
     ]
    },
    {
     "name": "stdout",
     "output_type": "stream",
     "text": [
      "+---+-----+\n",
      "| id|fraud|\n",
      "+---+-----+\n",
      "+---+-----+\n",
      "\n"
     ]
    },
    {
     "name": "stderr",
     "output_type": "stream",
     "text": [
      "                                                                                \r"
     ]
    },
    {
     "name": "stdout",
     "output_type": "stream",
     "text": [
      "+---+-----+\n",
      "| id|fraud|\n",
      "+---+-----+\n",
      "+---+-----+\n",
      "\n"
     ]
    },
    {
     "name": "stderr",
     "output_type": "stream",
     "text": [
      "                                                                                \r"
     ]
    },
    {
     "name": "stdout",
     "output_type": "stream",
     "text": [
      "+---+-----+\n",
      "| id|fraud|\n",
      "+---+-----+\n",
      "+---+-----+\n",
      "\n"
     ]
    },
    {
     "name": "stderr",
     "output_type": "stream",
     "text": [
      "                                                                                \r"
     ]
    },
    {
     "name": "stdout",
     "output_type": "stream",
     "text": [
      "+---+-----+\n",
      "| id|fraud|\n",
      "+---+-----+\n",
      "+---+-----+\n",
      "\n"
     ]
    },
    {
     "name": "stderr",
     "output_type": "stream",
     "text": [
      "                                                                                \r"
     ]
    },
    {
     "name": "stdout",
     "output_type": "stream",
     "text": [
      "+---+-----+\n",
      "| id|fraud|\n",
      "+---+-----+\n",
      "+---+-----+\n",
      "\n"
     ]
    },
    {
     "name": "stderr",
     "output_type": "stream",
     "text": [
      "                                                                                \r"
     ]
    },
    {
     "name": "stdout",
     "output_type": "stream",
     "text": [
      "+---+-----+\n",
      "| id|fraud|\n",
      "+---+-----+\n",
      "+---+-----+\n",
      "\n"
     ]
    },
    {
     "name": "stderr",
     "output_type": "stream",
     "text": [
      "                                                                                \r"
     ]
    },
    {
     "name": "stdout",
     "output_type": "stream",
     "text": [
      "+-----------+-----+\n",
      "|         id|fraud|\n",
      "+-----------+-----+\n",
      "|JohnMillers|    1|\n",
      "+-----------+-----+\n",
      "\n"
     ]
    },
    {
     "name": "stderr",
     "output_type": "stream",
     "text": [
      "                                                                                \r"
     ]
    },
    {
     "name": "stdout",
     "output_type": "stream",
     "text": [
      "+----------+-----+\n",
      "|        id|fraud|\n",
      "+----------+-----+\n",
      "|AliceJones|    1|\n",
      "+----------+-----+\n",
      "\n"
     ]
    },
    {
     "name": "stderr",
     "output_type": "stream",
     "text": [
      "                                                                                \r"
     ]
    },
    {
     "name": "stdout",
     "output_type": "stream",
     "text": [
      "+---+-----+\n",
      "| id|fraud|\n",
      "+---+-----+\n",
      "+---+-----+\n",
      "\n"
     ]
    },
    {
     "name": "stderr",
     "output_type": "stream",
     "text": [
      "                                                                                \r"
     ]
    },
    {
     "name": "stdout",
     "output_type": "stream",
     "text": [
      "+---+-----+\n",
      "| id|fraud|\n",
      "+---+-----+\n",
      "+---+-----+\n",
      "\n"
     ]
    },
    {
     "name": "stderr",
     "output_type": "stream",
     "text": [
      "                                                                                \r"
     ]
    },
    {
     "name": "stdout",
     "output_type": "stream",
     "text": [
      "+---+-----+\n",
      "| id|fraud|\n",
      "+---+-----+\n",
      "+---+-----+\n",
      "\n"
     ]
    },
    {
     "name": "stderr",
     "output_type": "stream",
     "text": [
      "                                                                                \r"
     ]
    },
    {
     "name": "stdout",
     "output_type": "stream",
     "text": [
      "+---+-----+\n",
      "| id|fraud|\n",
      "+---+-----+\n",
      "+---+-----+\n",
      "\n"
     ]
    },
    {
     "name": "stderr",
     "output_type": "stream",
     "text": [
      "                                                                                \r"
     ]
    },
    {
     "name": "stdout",
     "output_type": "stream",
     "text": [
      "+---+-----+\n",
      "| id|fraud|\n",
      "+---+-----+\n",
      "+---+-----+\n",
      "\n"
     ]
    },
    {
     "name": "stderr",
     "output_type": "stream",
     "text": [
      "                                                                                \r"
     ]
    },
    {
     "name": "stdout",
     "output_type": "stream",
     "text": [
      "+-----------+-----+\n",
      "|         id|fraud|\n",
      "+-----------+-----+\n",
      "|JillMillers|    1|\n",
      "+-----------+-----+\n",
      "\n"
     ]
    },
    {
     "name": "stderr",
     "output_type": "stream",
     "text": [
      "                                                                                \r"
     ]
    },
    {
     "name": "stdout",
     "output_type": "stream",
     "text": [
      "+---------+-----+\n",
      "|       id|fraud|\n",
      "+---------+-----+\n",
      "|AndyJones|    1|\n",
      "+---------+-----+\n",
      "\n"
     ]
    },
    {
     "name": "stderr",
     "output_type": "stream",
     "text": [
      "                                                                                \r"
     ]
    },
    {
     "name": "stdout",
     "output_type": "stream",
     "text": [
      "+----------+-----+\n",
      "|        id|fraud|\n",
      "+----------+-----+\n",
      "|AliceDarby|    1|\n",
      "+----------+-----+\n",
      "\n"
     ]
    },
    {
     "name": "stderr",
     "output_type": "stream",
     "text": [
      "                                                                                \r"
     ]
    },
    {
     "name": "stdout",
     "output_type": "stream",
     "text": [
      "+---+-----+\n",
      "| id|fraud|\n",
      "+---+-----+\n",
      "+---+-----+\n",
      "\n"
     ]
    },
    {
     "name": "stderr",
     "output_type": "stream",
     "text": [
      "                                                                                \r"
     ]
    },
    {
     "name": "stdout",
     "output_type": "stream",
     "text": [
      "+---+-----+\n",
      "| id|fraud|\n",
      "+---+-----+\n",
      "+---+-----+\n",
      "\n"
     ]
    },
    {
     "name": "stderr",
     "output_type": "stream",
     "text": [
      "                                                                                \r"
     ]
    },
    {
     "name": "stdout",
     "output_type": "stream",
     "text": [
      "+---+-----+\n",
      "| id|fraud|\n",
      "+---+-----+\n",
      "+---+-----+\n",
      "\n"
     ]
    },
    {
     "name": "stderr",
     "output_type": "stream",
     "text": [
      "                                                                                \r"
     ]
    },
    {
     "name": "stdout",
     "output_type": "stream",
     "text": [
      "+---+-----+\n",
      "| id|fraud|\n",
      "+---+-----+\n",
      "+---+-----+\n",
      "\n"
     ]
    },
    {
     "name": "stderr",
     "output_type": "stream",
     "text": [
      "                                                                                \r"
     ]
    },
    {
     "name": "stdout",
     "output_type": "stream",
     "text": [
      "+---+-----+\n",
      "| id|fraud|\n",
      "+---+-----+\n",
      "+---+-----+\n",
      "\n"
     ]
    },
    {
     "name": "stderr",
     "output_type": "stream",
     "text": [
      "                                                                                \r"
     ]
    },
    {
     "name": "stdout",
     "output_type": "stream",
     "text": [
      "+---+-----+\n",
      "| id|fraud|\n",
      "+---+-----+\n",
      "+---+-----+\n",
      "\n"
     ]
    },
    {
     "name": "stderr",
     "output_type": "stream",
     "text": [
      "                                                                                \r"
     ]
    },
    {
     "name": "stdout",
     "output_type": "stream",
     "text": [
      "+---+-----+\n",
      "| id|fraud|\n",
      "+---+-----+\n",
      "+---+-----+\n",
      "\n"
     ]
    },
    {
     "name": "stderr",
     "output_type": "stream",
     "text": [
      "                                                                                \r"
     ]
    },
    {
     "name": "stdout",
     "output_type": "stream",
     "text": [
      "+---+-----+\n",
      "| id|fraud|\n",
      "+---+-----+\n",
      "+---+-----+\n",
      "\n"
     ]
    },
    {
     "name": "stderr",
     "output_type": "stream",
     "text": [
      "                                                                                \r"
     ]
    },
    {
     "name": "stdout",
     "output_type": "stream",
     "text": [
      "+---+-----+\n",
      "| id|fraud|\n",
      "+---+-----+\n",
      "+---+-----+\n",
      "\n"
     ]
    },
    {
     "name": "stderr",
     "output_type": "stream",
     "text": [
      "                                                                                \r"
     ]
    },
    {
     "name": "stdout",
     "output_type": "stream",
     "text": [
      "+---+-----+\n",
      "| id|fraud|\n",
      "+---+-----+\n",
      "+---+-----+\n",
      "\n"
     ]
    },
    {
     "name": "stderr",
     "output_type": "stream",
     "text": [
      "                                                                                \r"
     ]
    },
    {
     "name": "stdout",
     "output_type": "stream",
     "text": [
      "+---+-----+\n",
      "| id|fraud|\n",
      "+---+-----+\n",
      "+---+-----+\n",
      "\n"
     ]
    },
    {
     "name": "stderr",
     "output_type": "stream",
     "text": [
      "                                                                                \r"
     ]
    },
    {
     "name": "stdout",
     "output_type": "stream",
     "text": [
      "+---+-----+\n",
      "| id|fraud|\n",
      "+---+-----+\n",
      "+---+-----+\n",
      "\n"
     ]
    },
    {
     "name": "stderr",
     "output_type": "stream",
     "text": [
      "                                                                                \r"
     ]
    },
    {
     "name": "stdout",
     "output_type": "stream",
     "text": [
      "+---+-----+\n",
      "| id|fraud|\n",
      "+---+-----+\n",
      "+---+-----+\n",
      "\n"
     ]
    },
    {
     "name": "stderr",
     "output_type": "stream",
     "text": [
      "                                                                                \r"
     ]
    },
    {
     "name": "stdout",
     "output_type": "stream",
     "text": [
      "+---+-----+\n",
      "| id|fraud|\n",
      "+---+-----+\n",
      "+---+-----+\n",
      "\n"
     ]
    },
    {
     "name": "stderr",
     "output_type": "stream",
     "text": [
      "                                                                                \r"
     ]
    },
    {
     "name": "stdout",
     "output_type": "stream",
     "text": [
      "+---+-----+\n",
      "| id|fraud|\n",
      "+---+-----+\n",
      "+---+-----+\n",
      "\n"
     ]
    },
    {
     "name": "stderr",
     "output_type": "stream",
     "text": [
      "                                                                                \r"
     ]
    },
    {
     "name": "stdout",
     "output_type": "stream",
     "text": [
      "+---+-----+\n",
      "| id|fraud|\n",
      "+---+-----+\n",
      "+---+-----+\n",
      "\n"
     ]
    }
   ],
   "source": [
    "ssc.start()"
   ]
  },
  {
   "cell_type": "code",
   "execution_count": null,
   "id": "b834a208",
   "metadata": {
    "scrolled": false
   },
   "outputs": [],
   "source": [
    "# stop streaming context\n",
    "ssc.stop(stopSparkContext=False)"
   ]
  },
  {
   "cell_type": "markdown",
   "id": "96ded7c6",
   "metadata": {},
   "source": [
    "## Stop worker and master"
   ]
  },
  {
   "cell_type": "code",
   "execution_count": null,
   "id": "1ebe7a5f",
   "metadata": {},
   "outputs": [],
   "source": [
    "sc.stop()\n",
    "spark.stop()"
   ]
  },
  {
   "cell_type": "markdown",
   "id": "1328e8cd",
   "metadata": {},
   "source": [
    "Finally, use `docker compose down` to stop and clear all running containers."
   ]
  },
  {
   "cell_type": "code",
   "execution_count": null,
   "id": "43eac27c",
   "metadata": {},
   "outputs": [],
   "source": []
  }
 ],
 "metadata": {
  "kernelspec": {
   "display_name": "Python 3 (ipykernel)",
   "language": "python",
   "name": "python3"
  },
  "language_info": {
   "codemirror_mode": {
    "name": "ipython",
    "version": 3
   },
   "file_extension": ".py",
   "mimetype": "text/x-python",
   "name": "python",
   "nbconvert_exporter": "python",
   "pygments_lexer": "ipython3",
   "version": "3.9.12"
  }
 },
 "nbformat": 4,
 "nbformat_minor": 5
}
